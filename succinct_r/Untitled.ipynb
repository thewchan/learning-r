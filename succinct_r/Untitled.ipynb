{
 "cells": [
  {
   "cell_type": "code",
   "execution_count": null,
   "id": "18aab7a9-7700-46d2-ae53-c83f80539d5c",
   "metadata": {},
   "outputs": [],
   "source": [
    "library(\"tidyverse\")"
   ]
  },
  {
   "cell_type": "code",
   "execution_count": 316,
   "id": "412b090f-180c-4324-9cc1-e3084abfaf3b",
   "metadata": {},
   "outputs": [
    {
     "name": "stderr",
     "output_type": "stream",
     "text": [
      "Warning message in seq_len(head.end.idx):\n",
      "\"first element used of 'length.out' argument\"\n",
      "ERROR while rich displaying an object: Error in seq_len(head.end.idx): argument must be coercible to non-negative integer\n",
      "\n",
      "Traceback:\n",
      "1. FUN(X[[i]], ...)\n",
      "2. tryCatch(withCallingHandlers({\n",
      " .     if (!mime %in% names(repr::mime2repr)) \n",
      " .         stop(\"No repr_* for mimetype \", mime, \" in repr::mime2repr\")\n",
      " .     rpr <- repr::mime2repr[[mime]](obj)\n",
      " .     if (is.null(rpr)) \n",
      " .         return(NULL)\n",
      " .     prepare_content(is.raw(rpr), rpr)\n",
      " . }, error = error_handler), error = outer_handler)\n",
      "3. tryCatchList(expr, classes, parentenv, handlers)\n",
      "4. tryCatchOne(expr, names, parentenv, handlers[[1L]])\n",
      "5. doTryCatch(return(expr), name, parentenv, handler)\n",
      "6. withCallingHandlers({\n",
      " .     if (!mime %in% names(repr::mime2repr)) \n",
      " .         stop(\"No repr_* for mimetype \", mime, \" in repr::mime2repr\")\n",
      " .     rpr <- repr::mime2repr[[mime]](obj)\n",
      " .     if (is.null(rpr)) \n",
      " .         return(NULL)\n",
      " .     prepare_content(is.raw(rpr), rpr)\n",
      " . }, error = error_handler)\n",
      "7. repr::mime2repr[[mime]](obj)\n",
      "8. repr_html.help_files_with_topic(obj)\n",
      "9. repr_help_files_with_topic_generic(obj, Rd2HTML)\n"
     ]
    },
    {
     "data": {
      "text/latex": [
       "\\inputencoding{utf8}\n",
       "\\HeaderA{t.test}{Student's t-Test}{t.test}\n",
       "\\methaliasA{t.test.default}{t.test}{t.test.default}\n",
       "\\methaliasA{t.test.formula}{t.test}{t.test.formula}\n",
       "\\keyword{htest}{t.test}\n",
       "%\n",
       "\\begin{Description}\\relax\n",
       "Performs one and two sample t-tests on vectors of data.\n",
       "\\end{Description}\n",
       "%\n",
       "\\begin{Usage}\n",
       "\\begin{verbatim}\n",
       "t.test(x, ...)\n",
       "\n",
       "## Default S3 method:\n",
       "t.test(x, y = NULL,\n",
       "       alternative = c(\"two.sided\", \"less\", \"greater\"),\n",
       "       mu = 0, paired = FALSE, var.equal = FALSE,\n",
       "       conf.level = 0.95, ...)\n",
       "\n",
       "## S3 method for class 'formula'\n",
       "t.test(formula, data, subset, na.action, ...)\n",
       "\\end{verbatim}\n",
       "\\end{Usage}\n",
       "%\n",
       "\\begin{Arguments}\n",
       "\\begin{ldescription}\n",
       "\\item[\\code{x}] a (non-empty) numeric vector of data values.\n",
       "\\item[\\code{y}] an optional (non-empty) numeric vector of data values.\n",
       "\\item[\\code{alternative}] a character string specifying the alternative\n",
       "hypothesis, must be one of \\code{\"two.sided\"} (default),\n",
       "\\code{\"greater\"} or \\code{\"less\"}.  You can specify just the initial\n",
       "letter.\n",
       "\\item[\\code{mu}] a number indicating the true value of the mean (or\n",
       "difference in means if you are performing a two sample test).\n",
       "\\item[\\code{paired}] a logical indicating whether you want a paired\n",
       "t-test.\n",
       "\\item[\\code{var.equal}] a logical variable indicating whether to treat the\n",
       "two variances as being equal. If \\code{TRUE} then the pooled\n",
       "variance is used to estimate the variance otherwise the Welch\n",
       "(or Satterthwaite) approximation to the degrees of freedom is used.\n",
       "\\item[\\code{conf.level}] confidence level of the interval.\n",
       "\\item[\\code{formula}] a formula of the form \\code{lhs \\textasciitilde{} rhs} where \\code{lhs}\n",
       "is a numeric variable giving the data values and \\code{rhs} either \n",
       "\\code{1} for a one-sample or paired test or a factor\n",
       "with two levels giving the corresponding groups. If \\code{lhs} is of \n",
       "class \\code{\"Pair\"} and \\code{rhs} is \\code{1}, a paired test is done\n",
       "\\item[\\code{data}] an optional matrix or data frame (or similar: see\n",
       "\\code{\\LinkA{model.frame}{model.frame}}) containing the variables in the\n",
       "formula \\code{formula}.  By default the variables are taken from\n",
       "\\code{environment(formula)}.\n",
       "\\item[\\code{subset}] an optional vector specifying a subset of observations\n",
       "to be used.\n",
       "\\item[\\code{na.action}] a function which indicates what should happen when\n",
       "the data contain \\code{NA}s.  Defaults to\n",
       "\\code{getOption(\"na.action\")}.\n",
       "\\item[\\code{...}] further arguments to be passed to or from methods.\n",
       "\\end{ldescription}\n",
       "\\end{Arguments}\n",
       "%\n",
       "\\begin{Details}\\relax\n",
       "\\code{alternative = \"greater\"} is the alternative that \\code{x} has a\n",
       "larger mean than \\code{y}. For the one-sample case: that the mean is positive.\n",
       "\n",
       "If \\code{paired} is \\code{TRUE} then both \\code{x} and \\code{y} must\n",
       "be specified and they must be the same length.  Missing values are\n",
       "silently removed (in pairs if \\code{paired} is \\code{TRUE}).  If\n",
       "\\code{var.equal} is \\code{TRUE} then the pooled estimate of the\n",
       "variance is used.  By default, if \\code{var.equal} is \\code{FALSE}\n",
       "then the variance is estimated separately for both groups and the\n",
       "Welch modification to the degrees of freedom is used.\n",
       "\n",
       "If the input data are effectively constant (compared to the larger of the\n",
       "two means) an error is generated.\n",
       "\\end{Details}\n",
       "%\n",
       "\\begin{Value}\n",
       "A list with class \\code{\"htest\"} containing the following components:\n",
       "\\begin{ldescription}\n",
       "\\item[\\code{statistic}] the value of the t-statistic.\n",
       "\\item[\\code{parameter}] the degrees of freedom for the t-statistic.\n",
       "\\item[\\code{p.value}] the p-value for the test.\n",
       "\\item[\\code{conf.int}] a confidence interval for the mean appropriate to the\n",
       "specified alternative hypothesis.\n",
       "\\item[\\code{estimate}] the estimated mean or difference in means depending on\n",
       "whether it was a one-sample test or a two-sample test.\n",
       "\\item[\\code{null.value}] the specified hypothesized value of the mean or mean\n",
       "difference depending on whether it was a one-sample test or a\n",
       "two-sample test.\n",
       "\\item[\\code{stderr}] the standard error of the mean (difference), used as\n",
       "denominator in the t-statistic formula.\n",
       "\\item[\\code{alternative}] a character string describing the alternative\n",
       "hypothesis.\n",
       "\\item[\\code{method}] a character string indicating what type of t-test was\n",
       "performed.\n",
       "\\item[\\code{data.name}] a character string giving the name(s) of the data.\n",
       "\\end{ldescription}\n",
       "\\end{Value}\n",
       "%\n",
       "\\begin{SeeAlso}\\relax\n",
       "\\code{\\LinkA{prop.test}{prop.test}}\n",
       "\\end{SeeAlso}\n",
       "%\n",
       "\\begin{Examples}\n",
       "\\begin{ExampleCode}\n",
       "require(graphics)\n",
       "\n",
       "t.test(1:10, y = c(7:20))      # P = .00001855\n",
       "t.test(1:10, y = c(7:20, 200)) # P = .1245    -- NOT significant anymore\n",
       "\n",
       "## Classical example: Student's sleep data\n",
       "plot(extra ~ group, data = sleep)\n",
       "## Traditional interface\n",
       "with(sleep, t.test(extra[group == 1], extra[group == 2]))\n",
       "\n",
       "## Formula interface\n",
       "t.test(extra ~ group, data = sleep)\n",
       "\n",
       "## Formula interface to one-sample test\n",
       "t.test(extra ~ 1, data = sleep)\n",
       "\n",
       "## Formula interface to paired test\n",
       "## The sleep data are actually paired, so could have been in wide format:\n",
       "sleep2 <- reshape(sleep, direction = \"wide\", \n",
       "                  idvar = \"ID\", timevar = \"group\")\n",
       "t.test(Pair(extra.1, extra.2) ~ 1, data = sleep2)\n",
       "\\end{ExampleCode}\n",
       "\\end{Examples}"
      ],
      "text/plain": [
       "t.test                  package:stats                  R Documentation\n",
       "\n",
       "_\bS_\bt_\bu_\bd_\be_\bn_\bt'_\bs _\bt-_\bT_\be_\bs_\bt\n",
       "\n",
       "_\bD_\be_\bs_\bc_\br_\bi_\bp_\bt_\bi_\bo_\bn:\n",
       "\n",
       "     Performs one and two sample t-tests on vectors of data.\n",
       "\n",
       "_\bU_\bs_\ba_\bg_\be:\n",
       "\n",
       "     t.test(x, ...)\n",
       "     \n",
       "     ## Default S3 method:\n",
       "     t.test(x, y = NULL,\n",
       "            alternative = c(\"two.sided\", \"less\", \"greater\"),\n",
       "            mu = 0, paired = FALSE, var.equal = FALSE,\n",
       "            conf.level = 0.95, ...)\n",
       "     \n",
       "     ## S3 method for class 'formula'\n",
       "     t.test(formula, data, subset, na.action, ...)\n",
       "     \n",
       "_\bA_\br_\bg_\bu_\bm_\be_\bn_\bt_\bs:\n",
       "\n",
       "       x: a (non-empty) numeric vector of data values.\n",
       "\n",
       "       y: an optional (non-empty) numeric vector of data values.\n",
       "\n",
       "alternative: a character string specifying the alternative hypothesis,\n",
       "          must be one of '\"two.sided\"' (default), '\"greater\"' or\n",
       "          '\"less\"'.  You can specify just the initial letter.\n",
       "\n",
       "      mu: a number indicating the true value of the mean (or difference\n",
       "          in means if you are performing a two sample test).\n",
       "\n",
       "  paired: a logical indicating whether you want a paired t-test.\n",
       "\n",
       "var.equal: a logical variable indicating whether to treat the two\n",
       "          variances as being equal. If 'TRUE' then the pooled variance\n",
       "          is used to estimate the variance otherwise the Welch (or\n",
       "          Satterthwaite) approximation to the degrees of freedom is\n",
       "          used.\n",
       "\n",
       "conf.level: confidence level of the interval.\n",
       "\n",
       " formula: a formula of the form 'lhs ~ rhs' where 'lhs' is a numeric\n",
       "          variable giving the data values and 'rhs' either '1' for a\n",
       "          one-sample or paired test or a factor with two levels giving\n",
       "          the corresponding groups. If 'lhs' is of class '\"Pair\"' and\n",
       "          'rhs' is '1', a paired test is done\n",
       "\n",
       "    data: an optional matrix or data frame (or similar: see\n",
       "          'model.frame') containing the variables in the formula\n",
       "          'formula'.  By default the variables are taken from\n",
       "          'environment(formula)'.\n",
       "\n",
       "  subset: an optional vector specifying a subset of observations to be\n",
       "          used.\n",
       "\n",
       "na.action: a function which indicates what should happen when the data\n",
       "          contain 'NA's.  Defaults to 'getOption(\"na.action\")'.\n",
       "\n",
       "     ...: further arguments to be passed to or from methods.\n",
       "\n",
       "_\bD_\be_\bt_\ba_\bi_\bl_\bs:\n",
       "\n",
       "     'alternative = \"greater\"' is the alternative that 'x' has a larger\n",
       "     mean than 'y'. For the one-sample case: that the mean is positive.\n",
       "\n",
       "     If 'paired' is 'TRUE' then both 'x' and 'y' must be specified and\n",
       "     they must be the same length.  Missing values are silently removed\n",
       "     (in pairs if 'paired' is 'TRUE').  If 'var.equal' is 'TRUE' then\n",
       "     the pooled estimate of the variance is used.  By default, if\n",
       "     'var.equal' is 'FALSE' then the variance is estimated separately\n",
       "     for both groups and the Welch modification to the degrees of\n",
       "     freedom is used.\n",
       "\n",
       "     If the input data are effectively constant (compared to the larger\n",
       "     of the two means) an error is generated.\n",
       "\n",
       "_\bV_\ba_\bl_\bu_\be:\n",
       "\n",
       "     A list with class '\"htest\"' containing the following components:\n",
       "\n",
       "statistic: the value of the t-statistic.\n",
       "\n",
       "parameter: the degrees of freedom for the t-statistic.\n",
       "\n",
       " p.value: the p-value for the test.\n",
       "\n",
       "conf.int: a confidence interval for the mean appropriate to the\n",
       "          specified alternative hypothesis.\n",
       "\n",
       "estimate: the estimated mean or difference in means depending on\n",
       "          whether it was a one-sample test or a two-sample test.\n",
       "\n",
       "null.value: the specified hypothesized value of the mean or mean\n",
       "          difference depending on whether it was a one-sample test or a\n",
       "          two-sample test.\n",
       "\n",
       "  stderr: the standard error of the mean (difference), used as\n",
       "          denominator in the t-statistic formula.\n",
       "\n",
       "alternative: a character string describing the alternative hypothesis.\n",
       "\n",
       "  method: a character string indicating what type of t-test was\n",
       "          performed.\n",
       "\n",
       "data.name: a character string giving the name(s) of the data.\n",
       "\n",
       "_\bS_\be_\be _\bA_\bl_\bs_\bo:\n",
       "\n",
       "     'prop.test'\n",
       "\n",
       "_\bE_\bx_\ba_\bm_\bp_\bl_\be_\bs:\n",
       "\n",
       "     require(graphics)\n",
       "     \n",
       "     t.test(1:10, y = c(7:20))      # P = .00001855\n",
       "     t.test(1:10, y = c(7:20, 200)) # P = .1245    -- NOT significant anymore\n",
       "     \n",
       "     ## Classical example: Student's sleep data\n",
       "     plot(extra ~ group, data = sleep)\n",
       "     ## Traditional interface\n",
       "     with(sleep, t.test(extra[group == 1], extra[group == 2]))\n",
       "     \n",
       "     ## Formula interface\n",
       "     t.test(extra ~ group, data = sleep)\n",
       "     \n",
       "     ## Formula interface to one-sample test\n",
       "     t.test(extra ~ 1, data = sleep)\n",
       "     \n",
       "     ## Formula interface to paired test\n",
       "     ## The sleep data are actually paired, so could have been in wide format:\n",
       "     sleep2 <- reshape(sleep, direction = \"wide\", \n",
       "                       idvar = \"ID\", timevar = \"group\")\n",
       "     t.test(Pair(extra.1, extra.2) ~ 1, data = sleep2)\n",
       "     "
      ]
     },
     "metadata": {},
     "output_type": "display_data"
    }
   ],
   "source": [
    "# Hi. This is a comment\n",
    "\n",
    "# If you know a funciton's name, but not how to use it:\n",
    "?t.test"
   ]
  },
  {
   "cell_type": "code",
   "execution_count": 317,
   "id": "b7c4c740-ea40-4a75-9fdf-f99d21ad9860",
   "metadata": {},
   "outputs": [],
   "source": [
    "a <- 6\n",
    "b <- 8\n",
    "c <- 5.44\n",
    "d <- TRUE\n",
    "e <- \"hello world\""
   ]
  },
  {
   "cell_type": "code",
   "execution_count": 318,
   "id": "803d1838-e78c-486d-bd74-2705e39eeb60",
   "metadata": {},
   "outputs": [],
   "source": [
    "this.is.a.variable.name <- 1\n",
    "better_name <- 2\n",
    "`more than four (>4)` <- 5"
   ]
  },
  {
   "cell_type": "code",
   "execution_count": 319,
   "id": "db4562b5-10f3-453b-8c18-cc70c07e58f8",
   "metadata": {},
   "outputs": [
    {
     "data": {
      "text/html": [
       "6"
      ],
      "text/latex": [
       "6"
      ],
      "text/markdown": [
       "6"
      ],
      "text/plain": [
       "[1] 6"
      ]
     },
     "metadata": {},
     "output_type": "display_data"
    }
   ],
   "source": [
    "a"
   ]
  },
  {
   "cell_type": "code",
   "execution_count": 320,
   "id": "b426c5c8-3c18-4475-9554-54bc7734c146",
   "metadata": {},
   "outputs": [
    {
     "name": "stdout",
     "output_type": "stream",
     "text": [
      "[1] 6\n"
     ]
    }
   ],
   "source": [
    "print(a)"
   ]
  },
  {
   "cell_type": "code",
   "execution_count": 321,
   "id": "5feb0ff0-fc89-4a2d-8afc-c2129c51f920",
   "metadata": {},
   "outputs": [],
   "source": [
    "print(?t.test)"
   ]
  },
  {
   "cell_type": "code",
   "execution_count": 322,
   "id": "e0870149-ce08-427f-b06d-d875ffc37b1a",
   "metadata": {},
   "outputs": [
    {
     "data": {
      "text/html": [
       "0.75"
      ],
      "text/latex": [
       "0.75"
      ],
      "text/markdown": [
       "0.75"
      ],
      "text/plain": [
       "[1] 0.75"
      ]
     },
     "metadata": {},
     "output_type": "display_data"
    }
   ],
   "source": [
    "z <- a + b\n",
    "z <- a - b\n",
    "z <- a * b\n",
    "z <- a / b\n",
    "z"
   ]
  },
  {
   "cell_type": "code",
   "execution_count": 323,
   "id": "e2ea9b7a-7245-40c8-a88f-bb2ea330e137",
   "metadata": {},
   "outputs": [
    {
     "data": {
      "text/html": [
       "0"
      ],
      "text/latex": [
       "0"
      ],
      "text/markdown": [
       "0"
      ],
      "text/plain": [
       "[1] 0"
      ]
     },
     "metadata": {},
     "output_type": "display_data"
    }
   ],
   "source": [
    "z <- a %/% b  # Integer division\n",
    "z"
   ]
  },
  {
   "cell_type": "code",
   "execution_count": 324,
   "id": "46f86c9b-b144-4f0a-abb5-40f3c19f6568",
   "metadata": {},
   "outputs": [
    {
     "data": {
      "text/html": [
       "6"
      ],
      "text/latex": [
       "6"
      ],
      "text/markdown": [
       "6"
      ],
      "text/plain": [
       "[1] 6"
      ]
     },
     "metadata": {},
     "output_type": "display_data"
    }
   ],
   "source": [
    "z <- a %% b  # Modulo\n",
    "z"
   ]
  },
  {
   "cell_type": "code",
   "execution_count": 325,
   "id": "bebb415c-1f94-4231-8525-17fcb73943cb",
   "metadata": {},
   "outputs": [
    {
     "data": {
      "text/html": [
       "1679616"
      ],
      "text/latex": [
       "1679616"
      ],
      "text/markdown": [
       "1679616"
      ],
      "text/plain": [
       "[1] 1679616"
      ]
     },
     "metadata": {},
     "output_type": "display_data"
    }
   ],
   "source": [
    "z <- a^b  # Power\n",
    "z"
   ]
  },
  {
   "cell_type": "code",
   "execution_count": 326,
   "id": "07973bbd-e7d8-43bc-b70d-7ba2d2494a54",
   "metadata": {},
   "outputs": [
    {
     "data": {
      "text/html": [
       "4"
      ],
      "text/latex": [
       "4"
      ],
      "text/markdown": [
       "4"
      ],
      "text/plain": [
       "[1] 4"
      ]
     },
     "metadata": {},
     "output_type": "display_data"
    }
   ],
   "source": [
    "floor(4.82)"
   ]
  },
  {
   "cell_type": "code",
   "execution_count": 327,
   "id": "bc527f12-4aac-4353-8014-fd744f74dcdb",
   "metadata": {},
   "outputs": [
    {
     "data": {
      "text/html": [
       "5"
      ],
      "text/latex": [
       "5"
      ],
      "text/markdown": [
       "5"
      ],
      "text/plain": [
       "[1] 5"
      ]
     },
     "metadata": {},
     "output_type": "display_data"
    }
   ],
   "source": [
    "ceiling(4.82)"
   ]
  },
  {
   "cell_type": "code",
   "execution_count": 328,
   "id": "7367294d-8e8f-4ef2-87a8-0b537c135737",
   "metadata": {},
   "outputs": [
    {
     "data": {
      "text/html": [
       "4"
      ],
      "text/latex": [
       "4"
      ],
      "text/markdown": [
       "4"
      ],
      "text/plain": [
       "[1] 4"
      ]
     },
     "metadata": {},
     "output_type": "display_data"
    }
   ],
   "source": [
    "round(4.4)"
   ]
  },
  {
   "cell_type": "code",
   "execution_count": 329,
   "id": "2fc2cdc1-260c-4a5b-9f94-2b3a4a27df73",
   "metadata": {},
   "outputs": [
    {
     "data": {
      "text/html": [
       "5"
      ],
      "text/latex": [
       "5"
      ],
      "text/markdown": [
       "5"
      ],
      "text/plain": [
       "[1] 5"
      ]
     },
     "metadata": {},
     "output_type": "display_data"
    }
   ],
   "source": [
    "round(4.6)"
   ]
  },
  {
   "cell_type": "code",
   "execution_count": 330,
   "id": "bf8781ce-f156-4923-ba63-80d4c00603a0",
   "metadata": {},
   "outputs": [
    {
     "data": {
      "text/html": [
       "4"
      ],
      "text/latex": [
       "4"
      ],
      "text/markdown": [
       "4"
      ],
      "text/plain": [
       "[1] 4"
      ]
     },
     "metadata": {},
     "output_type": "display_data"
    }
   ],
   "source": [
    "round(4.5)"
   ]
  },
  {
   "cell_type": "code",
   "execution_count": 331,
   "id": "1e8b870b-4ace-49ab-a4a0-d5d023230434",
   "metadata": {},
   "outputs": [
    {
     "data": {
      "text/html": [
       "6"
      ],
      "text/latex": [
       "6"
      ],
      "text/markdown": [
       "6"
      ],
      "text/plain": [
       "[1] 6"
      ]
     },
     "metadata": {},
     "output_type": "display_data"
    }
   ],
   "source": [
    "round(5.5)"
   ]
  },
  {
   "cell_type": "code",
   "execution_count": 332,
   "id": "a041f3a0-784d-40db-9db3-8079bb55fd39",
   "metadata": {},
   "outputs": [
    {
     "data": {
      "text/html": [
       "FALSE"
      ],
      "text/latex": [
       "FALSE"
      ],
      "text/markdown": [
       "FALSE"
      ],
      "text/plain": [
       "[1] FALSE"
      ]
     },
     "metadata": {},
     "output_type": "display_data"
    }
   ],
   "source": [
    "a == b"
   ]
  },
  {
   "cell_type": "code",
   "execution_count": 333,
   "id": "d7e36c1f-021c-41ca-a28e-6140296b3053",
   "metadata": {},
   "outputs": [
    {
     "data": {
      "text/html": [
       "TRUE"
      ],
      "text/latex": [
       "TRUE"
      ],
      "text/markdown": [
       "TRUE"
      ],
      "text/plain": [
       "[1] TRUE"
      ]
     },
     "metadata": {},
     "output_type": "display_data"
    }
   ],
   "source": [
    "a != b"
   ]
  },
  {
   "cell_type": "code",
   "execution_count": 334,
   "id": "3ce12be0-a61b-43fc-9e05-78ae9cbb03dc",
   "metadata": {},
   "outputs": [
    {
     "data": {
      "text/html": [
       "FALSE"
      ],
      "text/latex": [
       "FALSE"
      ],
      "text/markdown": [
       "FALSE"
      ],
      "text/plain": [
       "[1] FALSE"
      ]
     },
     "metadata": {},
     "output_type": "display_data"
    }
   ],
   "source": [
    "a > b"
   ]
  },
  {
   "cell_type": "code",
   "execution_count": 335,
   "id": "b1e6e053-5441-4a22-b56e-84841105b108",
   "metadata": {},
   "outputs": [
    {
     "data": {
      "text/html": [
       "TRUE"
      ],
      "text/latex": [
       "TRUE"
      ],
      "text/markdown": [
       "TRUE"
      ],
      "text/plain": [
       "[1] TRUE"
      ]
     },
     "metadata": {},
     "output_type": "display_data"
    }
   ],
   "source": [
    "a < b"
   ]
  },
  {
   "cell_type": "code",
   "execution_count": 336,
   "id": "f3a1ba7a-48ac-4f08-9dea-90fc30869318",
   "metadata": {},
   "outputs": [
    {
     "data": {
      "text/html": [
       "FALSE"
      ],
      "text/latex": [
       "FALSE"
      ],
      "text/markdown": [
       "FALSE"
      ],
      "text/plain": [
       "[1] FALSE"
      ]
     },
     "metadata": {},
     "output_type": "display_data"
    }
   ],
   "source": [
    "a >= b"
   ]
  },
  {
   "cell_type": "code",
   "execution_count": 337,
   "id": "07a39e25-47a3-4a32-91e8-c6b6ecc30cfd",
   "metadata": {},
   "outputs": [
    {
     "data": {
      "text/html": [
       "TRUE"
      ],
      "text/latex": [
       "TRUE"
      ],
      "text/markdown": [
       "TRUE"
      ],
      "text/plain": [
       "[1] TRUE"
      ]
     },
     "metadata": {},
     "output_type": "display_data"
    }
   ],
   "source": [
    "a <= b"
   ]
  },
  {
   "cell_type": "code",
   "execution_count": 338,
   "id": "a47f748d-b857-40fb-827f-ac88a0e7ca68",
   "metadata": {},
   "outputs": [
    {
     "data": {
      "text/html": [
       "FALSE"
      ],
      "text/latex": [
       "FALSE"
      ],
      "text/markdown": [
       "FALSE"
      ],
      "text/plain": [
       "[1] FALSE"
      ]
     },
     "metadata": {},
     "output_type": "display_data"
    }
   ],
   "source": [
    "TRUE & FALSE"
   ]
  },
  {
   "cell_type": "code",
   "execution_count": 339,
   "id": "678dfd22-4c2c-47e1-9dc3-ac648e48af40",
   "metadata": {},
   "outputs": [
    {
     "data": {
      "text/html": [
       "TRUE"
      ],
      "text/latex": [
       "TRUE"
      ],
      "text/markdown": [
       "TRUE"
      ],
      "text/plain": [
       "[1] TRUE"
      ]
     },
     "metadata": {},
     "output_type": "display_data"
    }
   ],
   "source": [
    "TRUE | FALSE"
   ]
  },
  {
   "cell_type": "code",
   "execution_count": 340,
   "id": "447a94a8-1645-4a82-bc0b-f06f4f53a0ec",
   "metadata": {},
   "outputs": [
    {
     "data": {
      "text/html": [
       "FALSE"
      ],
      "text/latex": [
       "FALSE"
      ],
      "text/markdown": [
       "FALSE"
      ],
      "text/plain": [
       "[1] FALSE"
      ]
     },
     "metadata": {},
     "output_type": "display_data"
    }
   ],
   "source": [
    "!TRUE"
   ]
  },
  {
   "cell_type": "code",
   "execution_count": 341,
   "id": "fc24a3ff-938f-4ba9-b426-6a76f2572def",
   "metadata": {},
   "outputs": [
    {
     "data": {
      "text/html": [
       "<style>\n",
       ".list-inline {list-style: none; margin:0; padding: 0}\n",
       ".list-inline>li {display: inline-block}\n",
       ".list-inline>li:not(:last-child)::after {content: \"\\00b7\"; padding: 0 .5ex}\n",
       "</style>\n",
       "<ol class=list-inline><li>8</li><li>6</li><li>7</li><li>5</li></ol>\n"
      ],
      "text/latex": [
       "\\begin{enumerate*}\n",
       "\\item 8\n",
       "\\item 6\n",
       "\\item 7\n",
       "\\item 5\n",
       "\\end{enumerate*}\n"
      ],
      "text/markdown": [
       "1. 8\n",
       "2. 6\n",
       "3. 7\n",
       "4. 5\n",
       "\n",
       "\n"
      ],
      "text/plain": [
       "[1] 8 6 7 5"
      ]
     },
     "metadata": {},
     "output_type": "display_data"
    }
   ],
   "source": [
    "c(8, 6, 7, 5)"
   ]
  },
  {
   "cell_type": "code",
   "execution_count": 342,
   "id": "5cd7b231-a7af-4a50-9a5c-65b53db3d794",
   "metadata": {},
   "outputs": [
    {
     "data": {
      "text/html": [
       "<style>\n",
       ".list-inline {list-style: none; margin:0; padding: 0}\n",
       ".list-inline>li {display: inline-block}\n",
       ".list-inline>li:not(:last-child)::after {content: \"\\00b7\"; padding: 0 .5ex}\n",
       "</style>\n",
       "<ol class=list-inline><li>'9'</li><li>'hello'</li><li>'7'</li></ol>\n"
      ],
      "text/latex": [
       "\\begin{enumerate*}\n",
       "\\item '9'\n",
       "\\item 'hello'\n",
       "\\item '7'\n",
       "\\end{enumerate*}\n"
      ],
      "text/markdown": [
       "1. '9'\n",
       "2. 'hello'\n",
       "3. '7'\n",
       "\n",
       "\n"
      ],
      "text/plain": [
       "[1] \"9\"     \"hello\" \"7\"    "
      ]
     },
     "metadata": {},
     "output_type": "display_data"
    }
   ],
   "source": [
    "c(9, \"hello\", 7)"
   ]
  },
  {
   "cell_type": "code",
   "execution_count": 343,
   "id": "dad83f77-9872-439d-b029-2d3519ae3ea0",
   "metadata": {},
   "outputs": [
    {
     "data": {
      "text/html": [
       "<style>\n",
       ".list-inline {list-style: none; margin:0; padding: 0}\n",
       ".list-inline>li {display: inline-block}\n",
       ".list-inline>li:not(:last-child)::after {content: \"\\00b7\"; padding: 0 .5ex}\n",
       "</style>\n",
       "<ol class=list-inline><li>0</li><li>0</li><li>0</li><li>0</li></ol>\n"
      ],
      "text/latex": [
       "\\begin{enumerate*}\n",
       "\\item 0\n",
       "\\item 0\n",
       "\\item 0\n",
       "\\item 0\n",
       "\\end{enumerate*}\n"
      ],
      "text/markdown": [
       "1. 0\n",
       "2. 0\n",
       "3. 0\n",
       "4. 0\n",
       "\n",
       "\n"
      ],
      "text/plain": [
       "[1] 0 0 0 0"
      ]
     },
     "metadata": {},
     "output_type": "display_data"
    }
   ],
   "source": [
    "rep(0, 4)"
   ]
  },
  {
   "cell_type": "code",
   "execution_count": 344,
   "id": "52730531-a5bb-4914-afe1-84dbf0b2cde0",
   "metadata": {},
   "outputs": [
    {
     "data": {
      "text/html": [
       "<style>\n",
       ".list-inline {list-style: none; margin:0; padding: 0}\n",
       ".list-inline>li {display: inline-block}\n",
       ".list-inline>li:not(:last-child)::after {content: \"\\00b7\"; padding: 0 .5ex}\n",
       "</style>\n",
       "<ol class=list-inline><li>1</li><li>2</li><li>3</li><li>1</li><li>2</li><li>3</li><li>1</li><li>2</li><li>3</li><li>1</li><li>2</li><li>3</li></ol>\n"
      ],
      "text/latex": [
       "\\begin{enumerate*}\n",
       "\\item 1\n",
       "\\item 2\n",
       "\\item 3\n",
       "\\item 1\n",
       "\\item 2\n",
       "\\item 3\n",
       "\\item 1\n",
       "\\item 2\n",
       "\\item 3\n",
       "\\item 1\n",
       "\\item 2\n",
       "\\item 3\n",
       "\\end{enumerate*}\n"
      ],
      "text/markdown": [
       "1. 1\n",
       "2. 2\n",
       "3. 3\n",
       "4. 1\n",
       "5. 2\n",
       "6. 3\n",
       "7. 1\n",
       "8. 2\n",
       "9. 3\n",
       "10. 1\n",
       "11. 2\n",
       "12. 3\n",
       "\n",
       "\n"
      ],
      "text/plain": [
       " [1] 1 2 3 1 2 3 1 2 3 1 2 3"
      ]
     },
     "metadata": {},
     "output_type": "display_data"
    }
   ],
   "source": [
    "rep(c(1, 2, 3), 4)"
   ]
  },
  {
   "cell_type": "code",
   "execution_count": 345,
   "id": "23b8a3f8-401d-4905-a79d-e4761b35aad5",
   "metadata": {},
   "outputs": [
    {
     "data": {
      "text/html": [
       "<style>\n",
       ".list-inline {list-style: none; margin:0; padding: 0}\n",
       ".list-inline>li {display: inline-block}\n",
       ".list-inline>li:not(:last-child)::after {content: \"\\00b7\"; padding: 0 .5ex}\n",
       "</style>\n",
       "<ol class=list-inline><li>4</li><li>5</li><li>6</li><li>7</li><li>8</li><li>9</li><li>10</li></ol>\n"
      ],
      "text/latex": [
       "\\begin{enumerate*}\n",
       "\\item 4\n",
       "\\item 5\n",
       "\\item 6\n",
       "\\item 7\n",
       "\\item 8\n",
       "\\item 9\n",
       "\\item 10\n",
       "\\end{enumerate*}\n"
      ],
      "text/markdown": [
       "1. 4\n",
       "2. 5\n",
       "3. 6\n",
       "4. 7\n",
       "5. 8\n",
       "6. 9\n",
       "7. 10\n",
       "\n",
       "\n"
      ],
      "text/plain": [
       "[1]  4  5  6  7  8  9 10"
      ]
     },
     "metadata": {},
     "output_type": "display_data"
    }
   ],
   "source": [
    "4:10"
   ]
  },
  {
   "cell_type": "code",
   "execution_count": 346,
   "id": "cd988df5-c030-4632-ba64-663bf458d8f6",
   "metadata": {},
   "outputs": [
    {
     "data": {
      "text/html": [
       "<style>\n",
       ".list-inline {list-style: none; margin:0; padding: 0}\n",
       ".list-inline>li {display: inline-block}\n",
       ".list-inline>li:not(:last-child)::after {content: \"\\00b7\"; padding: 0 .5ex}\n",
       "</style>\n",
       "<ol class=list-inline><li>10</li><li>15</li><li>20</li><li>25</li><li>30</li><li>35</li><li>40</li><li>45</li><li>50</li></ol>\n"
      ],
      "text/latex": [
       "\\begin{enumerate*}\n",
       "\\item 10\n",
       "\\item 15\n",
       "\\item 20\n",
       "\\item 25\n",
       "\\item 30\n",
       "\\item 35\n",
       "\\item 40\n",
       "\\item 45\n",
       "\\item 50\n",
       "\\end{enumerate*}\n"
      ],
      "text/markdown": [
       "1. 10\n",
       "2. 15\n",
       "3. 20\n",
       "4. 25\n",
       "5. 30\n",
       "6. 35\n",
       "7. 40\n",
       "8. 45\n",
       "9. 50\n",
       "\n",
       "\n"
      ],
      "text/plain": [
       "[1] 10 15 20 25 30 35 40 45 50"
      ]
     },
     "metadata": {},
     "output_type": "display_data"
    }
   ],
   "source": [
    "seq(from = 10, to = 50, by = 5)"
   ]
  },
  {
   "cell_type": "code",
   "execution_count": 347,
   "id": "e82be527-f4e9-4598-be8b-32d31bdadb3a",
   "metadata": {},
   "outputs": [
    {
     "data": {
      "text/html": [
       "<style>\n",
       ".list-inline {list-style: none; margin:0; padding: 0}\n",
       ".list-inline>li {display: inline-block}\n",
       ".list-inline>li:not(:last-child)::after {content: \"\\00b7\"; padding: 0 .5ex}\n",
       "</style>\n",
       "<ol class=list-inline><li>0.139139697887003</li><li>0.373323663603514</li><li>0.799422604497522</li><li>0.854494228726253</li><li>0.540454237023368</li></ol>\n"
      ],
      "text/latex": [
       "\\begin{enumerate*}\n",
       "\\item 0.139139697887003\n",
       "\\item 0.373323663603514\n",
       "\\item 0.799422604497522\n",
       "\\item 0.854494228726253\n",
       "\\item 0.540454237023368\n",
       "\\end{enumerate*}\n"
      ],
      "text/markdown": [
       "1. 0.139139697887003\n",
       "2. 0.373323663603514\n",
       "3. 0.799422604497522\n",
       "4. 0.854494228726253\n",
       "5. 0.540454237023368\n",
       "\n",
       "\n"
      ],
      "text/plain": [
       "[1] 0.1391397 0.3733237 0.7994226 0.8544942 0.5404542"
      ]
     },
     "metadata": {},
     "output_type": "display_data"
    }
   ],
   "source": [
    "# Random uniform dist\n",
    "runif(n = 5, min = 0, max = 1)"
   ]
  },
  {
   "cell_type": "code",
   "execution_count": 348,
   "id": "77b6b8f1-8e8e-414c-8cd2-3d109ba7ab1d",
   "metadata": {},
   "outputs": [
    {
     "data": {
      "text/html": [
       "<style>\n",
       ".list-inline {list-style: none; margin:0; padding: 0}\n",
       ".list-inline>li {display: inline-block}\n",
       ".list-inline>li:not(:last-child)::after {content: \"\\00b7\"; padding: 0 .5ex}\n",
       "</style>\n",
       "<ol class=list-inline><li>-1.15313011171561</li><li>-1.27120339763372</li><li>0.294487195829578</li><li>-1.59515126945464</li><li>0.173037681491739</li></ol>\n"
      ],
      "text/latex": [
       "\\begin{enumerate*}\n",
       "\\item -1.15313011171561\n",
       "\\item -1.27120339763372\n",
       "\\item 0.294487195829578\n",
       "\\item -1.59515126945464\n",
       "\\item 0.173037681491739\n",
       "\\end{enumerate*}\n"
      ],
      "text/markdown": [
       "1. -1.15313011171561\n",
       "2. -1.27120339763372\n",
       "3. 0.294487195829578\n",
       "4. -1.59515126945464\n",
       "5. 0.173037681491739\n",
       "\n",
       "\n"
      ],
      "text/plain": [
       "[1] -1.1531301 -1.2712034  0.2944872 -1.5951513  0.1730377"
      ]
     },
     "metadata": {},
     "output_type": "display_data"
    }
   ],
   "source": [
    "# Random normal dist\n",
    "rnorm(n = 5, mean = 0, sd = 1)"
   ]
  },
  {
   "cell_type": "code",
   "execution_count": 349,
   "id": "331b5dec-0321-4c22-a134-f613f5146861",
   "metadata": {},
   "outputs": [
    {
     "data": {
      "text/html": [
       "<style>\n",
       ".list-inline {list-style: none; margin:0; padding: 0}\n",
       ".list-inline>li {display: inline-block}\n",
       ".list-inline>li:not(:last-child)::after {content: \"\\00b7\"; padding: 0 .5ex}\n",
       "</style>\n",
       "<ol class=list-inline><li>1</li><li>2</li><li>3</li><li>10</li><li>11</li><li>500</li></ol>\n"
      ],
      "text/latex": [
       "\\begin{enumerate*}\n",
       "\\item 1\n",
       "\\item 2\n",
       "\\item 3\n",
       "\\item 10\n",
       "\\item 11\n",
       "\\item 500\n",
       "\\end{enumerate*}\n"
      ],
      "text/markdown": [
       "1. 1\n",
       "2. 2\n",
       "3. 3\n",
       "4. 10\n",
       "5. 11\n",
       "6. 500\n",
       "\n",
       "\n"
      ],
      "text/plain": [
       "[1]   1   2   3  10  11 500"
      ]
     },
     "metadata": {},
     "output_type": "display_data"
    }
   ],
   "source": [
    "x <- 1:3\n",
    "y <- c(10, 11)\n",
    "z <- 500\n",
    "\n",
    "c(x, y, z)"
   ]
  },
  {
   "cell_type": "code",
   "execution_count": 350,
   "id": "e1046d15-e50e-49ad-9ba1-720200e3939e",
   "metadata": {},
   "outputs": [
    {
     "data": {
      "text/html": [
       "'1, 2, 3, 4, 5'"
      ],
      "text/latex": [
       "'1, 2, 3, 4, 5'"
      ],
      "text/markdown": [
       "'1, 2, 3, 4, 5'"
      ],
      "text/plain": [
       "[1] \"1, 2, 3, 4, 5\""
      ]
     },
     "metadata": {},
     "output_type": "display_data"
    }
   ],
   "source": [
    "paste(1:5, collapse = \", \")"
   ]
  },
  {
   "cell_type": "code",
   "execution_count": 351,
   "id": "63f0a6c7-b33a-4653-bcee-cec7486f8e33",
   "metadata": {},
   "outputs": [
    {
     "data": {
      "text/html": [
       "<ol>\n",
       "\t<li><style>\n",
       ".list-inline {list-style: none; margin:0; padding: 0}\n",
       ".list-inline>li {display: inline-block}\n",
       ".list-inline>li:not(:last-child)::after {content: \"\\00b7\"; padding: 0 .5ex}\n",
       "</style>\n",
       "<ol class=list-inline><li>1</li><li>2</li><li>3</li></ol>\n",
       "</li>\n",
       "\t<li><style>\n",
       ".list-inline {list-style: none; margin:0; padding: 0}\n",
       ".list-inline>li {display: inline-block}\n",
       ".list-inline>li:not(:last-child)::after {content: \"\\00b7\"; padding: 0 .5ex}\n",
       "</style>\n",
       "<ol class=list-inline><li>10</li><li>11</li></ol>\n",
       "</li>\n",
       "\t<li>500</li>\n",
       "</ol>\n"
      ],
      "text/latex": [
       "\\begin{enumerate}\n",
       "\\item \\begin{enumerate*}\n",
       "\\item 1\n",
       "\\item 2\n",
       "\\item 3\n",
       "\\end{enumerate*}\n",
       "\n",
       "\\item \\begin{enumerate*}\n",
       "\\item 10\n",
       "\\item 11\n",
       "\\end{enumerate*}\n",
       "\n",
       "\\item 500\n",
       "\\end{enumerate}\n"
      ],
      "text/markdown": [
       "1. 1. 1\n",
       "2. 2\n",
       "3. 3\n",
       "\n",
       "\n",
       "\n",
       "2. 1. 10\n",
       "2. 11\n",
       "\n",
       "\n",
       "\n",
       "3. 500\n",
       "\n",
       "\n"
      ],
      "text/plain": [
       "[[1]]\n",
       "[1] 1 2 3\n",
       "\n",
       "[[2]]\n",
       "[1] 10 11\n",
       "\n",
       "[[3]]\n",
       "[1] 500\n"
      ]
     },
     "metadata": {},
     "output_type": "display_data"
    }
   ],
   "source": [
    "list(x, y, z)"
   ]
  },
  {
   "cell_type": "code",
   "execution_count": 352,
   "id": "30ff8c67-7441-4895-bd68-351a37bee628",
   "metadata": {},
   "outputs": [],
   "source": [
    "a <- 10:20"
   ]
  },
  {
   "cell_type": "code",
   "execution_count": 353,
   "id": "d372b5c1-41bb-4354-9d44-0ae0b79607f4",
   "metadata": {},
   "outputs": [
    {
     "data": {
      "text/html": [
       "10"
      ],
      "text/latex": [
       "10"
      ],
      "text/markdown": [
       "10"
      ],
      "text/plain": [
       "[1] 10"
      ]
     },
     "metadata": {},
     "output_type": "display_data"
    }
   ],
   "source": [
    "a[1]"
   ]
  },
  {
   "cell_type": "code",
   "execution_count": 354,
   "id": "d9b2ed16-8e5a-4928-b409-f751913d43d7",
   "metadata": {},
   "outputs": [
    {
     "data": {
      "text/html": [
       "<style>\n",
       ".list-inline {list-style: none; margin:0; padding: 0}\n",
       ".list-inline>li {display: inline-block}\n",
       ".list-inline>li:not(:last-child)::after {content: \"\\00b7\"; padding: 0 .5ex}\n",
       "</style>\n",
       "<ol class=list-inline><li>11</li><li>15</li></ol>\n"
      ],
      "text/latex": [
       "\\begin{enumerate*}\n",
       "\\item 11\n",
       "\\item 15\n",
       "\\end{enumerate*}\n"
      ],
      "text/markdown": [
       "1. 11\n",
       "2. 15\n",
       "\n",
       "\n"
      ],
      "text/plain": [
       "[1] 11 15"
      ]
     },
     "metadata": {},
     "output_type": "display_data"
    }
   ],
   "source": [
    "a[c(2, 6)]"
   ]
  },
  {
   "cell_type": "code",
   "execution_count": 355,
   "id": "1c121d94-c478-4c42-87ca-9bbd6b314931",
   "metadata": {},
   "outputs": [
    {
     "data": {
      "text/html": [
       "<style>\n",
       ".list-inline {list-style: none; margin:0; padding: 0}\n",
       ".list-inline>li {display: inline-block}\n",
       ".list-inline>li:not(:last-child)::after {content: \"\\00b7\"; padding: 0 .5ex}\n",
       "</style>\n",
       "<ol class=list-inline><li>10</li><li>12</li><li>13</li><li>14</li><li>16</li><li>17</li><li>18</li><li>19</li><li>20</li></ol>\n"
      ],
      "text/latex": [
       "\\begin{enumerate*}\n",
       "\\item 10\n",
       "\\item 12\n",
       "\\item 13\n",
       "\\item 14\n",
       "\\item 16\n",
       "\\item 17\n",
       "\\item 18\n",
       "\\item 19\n",
       "\\item 20\n",
       "\\end{enumerate*}\n"
      ],
      "text/markdown": [
       "1. 10\n",
       "2. 12\n",
       "3. 13\n",
       "4. 14\n",
       "5. 16\n",
       "6. 17\n",
       "7. 18\n",
       "8. 19\n",
       "9. 20\n",
       "\n",
       "\n"
      ],
      "text/plain": [
       "[1] 10 12 13 14 16 17 18 19 20"
      ]
     },
     "metadata": {},
     "output_type": "display_data"
    }
   ],
   "source": [
    "a[c(-2, -6)]"
   ]
  },
  {
   "cell_type": "code",
   "execution_count": 356,
   "id": "40ca4323-57e5-4fe6-8464-9fea8cc4ecc0",
   "metadata": {},
   "outputs": [
    {
     "data": {
      "text/html": [
       "<style>\n",
       ".list-inline {list-style: none; margin:0; padding: 0}\n",
       ".list-inline>li {display: inline-block}\n",
       ".list-inline>li:not(:last-child)::after {content: \"\\00b7\"; padding: 0 .5ex}\n",
       "</style>\n",
       "<ol class=list-inline><li>11</li><li>12</li><li>13</li><li>14</li><li>15</li></ol>\n"
      ],
      "text/latex": [
       "\\begin{enumerate*}\n",
       "\\item 11\n",
       "\\item 12\n",
       "\\item 13\n",
       "\\item 14\n",
       "\\item 15\n",
       "\\end{enumerate*}\n"
      ],
      "text/markdown": [
       "1. 11\n",
       "2. 12\n",
       "3. 13\n",
       "4. 14\n",
       "5. 15\n",
       "\n",
       "\n"
      ],
      "text/plain": [
       "[1] 11 12 13 14 15"
      ]
     },
     "metadata": {},
     "output_type": "display_data"
    }
   ],
   "source": [
    "a[2:6]"
   ]
  },
  {
   "cell_type": "code",
   "execution_count": 357,
   "id": "e21a2651-b617-4076-b9d6-46c4039c9442",
   "metadata": {},
   "outputs": [
    {
     "data": {
      "text/html": [
       "<style>\n",
       ".list-inline {list-style: none; margin:0; padding: 0}\n",
       ".list-inline>li {display: inline-block}\n",
       ".list-inline>li:not(:last-child)::after {content: \"\\00b7\"; padding: 0 .5ex}\n",
       "</style>\n",
       "<ol class=list-inline><li>11</li><li>13</li><li>15</li><li>15</li><li>15</li></ol>\n"
      ],
      "text/latex": [
       "\\begin{enumerate*}\n",
       "\\item 11\n",
       "\\item 13\n",
       "\\item 15\n",
       "\\item 15\n",
       "\\item 15\n",
       "\\end{enumerate*}\n"
      ],
      "text/markdown": [
       "1. 11\n",
       "2. 13\n",
       "3. 15\n",
       "4. 15\n",
       "5. 15\n",
       "\n",
       "\n"
      ],
      "text/plain": [
       "[1] 11 13 15 15 15"
      ]
     },
     "metadata": {},
     "output_type": "display_data"
    }
   ],
   "source": [
    "a[c(2, 4, 6, 6, 6)]"
   ]
  },
  {
   "cell_type": "code",
   "execution_count": 358,
   "id": "8e658a01-fe72-4f90-a3c0-4dc008353667",
   "metadata": {},
   "outputs": [
    {
     "data": {
      "text/html": [
       "<style>\n",
       ".list-inline {list-style: none; margin:0; padding: 0}\n",
       ".list-inline>li {display: inline-block}\n",
       ".list-inline>li:not(:last-child)::after {content: \"\\00b7\"; padding: 0 .5ex}\n",
       "</style>\n",
       "<ol class=list-inline><li>10</li><li>12</li><li>14</li><li>16</li><li>18</li><li>20</li></ol>\n"
      ],
      "text/latex": [
       "\\begin{enumerate*}\n",
       "\\item 10\n",
       "\\item 12\n",
       "\\item 14\n",
       "\\item 16\n",
       "\\item 18\n",
       "\\item 20\n",
       "\\end{enumerate*}\n"
      ],
      "text/markdown": [
       "1. 10\n",
       "2. 12\n",
       "3. 14\n",
       "4. 16\n",
       "5. 18\n",
       "6. 20\n",
       "\n",
       "\n"
      ],
      "text/plain": [
       "[1] 10 12 14 16 18 20"
      ]
     },
     "metadata": {},
     "output_type": "display_data"
    }
   ],
   "source": [
    "a[c(TRUE, FALSE, TRUE, FALSE, TRUE, FALSE, TRUE, FALSE)]"
   ]
  },
  {
   "cell_type": "code",
   "execution_count": 359,
   "id": "282cb80d-b07e-47b2-b1c3-c8bd28782176",
   "metadata": {},
   "outputs": [
    {
     "data": {
      "text/html": [
       "<style>\n",
       ".list-inline {list-style: none; margin:0; padding: 0}\n",
       ".list-inline>li {display: inline-block}\n",
       ".list-inline>li:not(:last-child)::after {content: \"\\00b7\"; padding: 0 .5ex}\n",
       "</style>\n",
       "<ol class=list-inline><li>2</li><li>3</li><li>2</li><li>3</li><li>1</li><li>1</li><li>2</li><li>2</li><li>2</li><li>1</li></ol>\n"
      ],
      "text/latex": [
       "\\begin{enumerate*}\n",
       "\\item 2\n",
       "\\item 3\n",
       "\\item 2\n",
       "\\item 3\n",
       "\\item 1\n",
       "\\item 1\n",
       "\\item 2\n",
       "\\item 2\n",
       "\\item 2\n",
       "\\item 1\n",
       "\\end{enumerate*}\n"
      ],
      "text/markdown": [
       "1. 2\n",
       "2. 3\n",
       "3. 2\n",
       "4. 3\n",
       "5. 1\n",
       "6. 1\n",
       "7. 2\n",
       "8. 2\n",
       "9. 2\n",
       "10. 1\n",
       "\n",
       "\n"
      ],
      "text/plain": [
       " [1] 2 3 2 3 1 1 2 2 2 1"
      ]
     },
     "metadata": {},
     "output_type": "display_data"
    }
   ],
   "source": [
    "sample(1:3, size = 10, replace = TRUE)"
   ]
  },
  {
   "cell_type": "code",
   "execution_count": 360,
   "id": "ab1f1b6a-caaa-4e88-82f4-a0b87cb8d4ed",
   "metadata": {},
   "outputs": [
    {
     "data": {
      "text/html": [
       "<style>\n",
       ".list-inline {list-style: none; margin:0; padding: 0}\n",
       ".list-inline>li {display: inline-block}\n",
       ".list-inline>li:not(:last-child)::after {content: \"\\00b7\"; padding: 0 .5ex}\n",
       "</style>\n",
       "<ol class=list-inline><li>'a'</li><li>'b'</li><li>'c'</li><li>'d'</li><li>'e'</li><li>'f'</li><li>'g'</li><li>'h'</li><li>'i'</li><li>'j'</li><li>'k'</li><li>'l'</li><li>'m'</li><li>'n'</li><li>'o'</li><li>'p'</li><li>'q'</li><li>'r'</li><li>'s'</li><li>'t'</li><li>'u'</li><li>'v'</li><li>'w'</li><li>'x'</li><li>'y'</li><li>'z'</li></ol>\n"
      ],
      "text/latex": [
       "\\begin{enumerate*}\n",
       "\\item 'a'\n",
       "\\item 'b'\n",
       "\\item 'c'\n",
       "\\item 'd'\n",
       "\\item 'e'\n",
       "\\item 'f'\n",
       "\\item 'g'\n",
       "\\item 'h'\n",
       "\\item 'i'\n",
       "\\item 'j'\n",
       "\\item 'k'\n",
       "\\item 'l'\n",
       "\\item 'm'\n",
       "\\item 'n'\n",
       "\\item 'o'\n",
       "\\item 'p'\n",
       "\\item 'q'\n",
       "\\item 'r'\n",
       "\\item 's'\n",
       "\\item 't'\n",
       "\\item 'u'\n",
       "\\item 'v'\n",
       "\\item 'w'\n",
       "\\item 'x'\n",
       "\\item 'y'\n",
       "\\item 'z'\n",
       "\\end{enumerate*}\n"
      ],
      "text/markdown": [
       "1. 'a'\n",
       "2. 'b'\n",
       "3. 'c'\n",
       "4. 'd'\n",
       "5. 'e'\n",
       "6. 'f'\n",
       "7. 'g'\n",
       "8. 'h'\n",
       "9. 'i'\n",
       "10. 'j'\n",
       "11. 'k'\n",
       "12. 'l'\n",
       "13. 'm'\n",
       "14. 'n'\n",
       "15. 'o'\n",
       "16. 'p'\n",
       "17. 'q'\n",
       "18. 'r'\n",
       "19. 's'\n",
       "20. 't'\n",
       "21. 'u'\n",
       "22. 'v'\n",
       "23. 'w'\n",
       "24. 'x'\n",
       "25. 'y'\n",
       "26. 'z'\n",
       "\n",
       "\n"
      ],
      "text/plain": [
       " [1] \"a\" \"b\" \"c\" \"d\" \"e\" \"f\" \"g\" \"h\" \"i\" \"j\" \"k\" \"l\" \"m\" \"n\" \"o\" \"p\" \"q\" \"r\" \"s\"\n",
       "[20] \"t\" \"u\" \"v\" \"w\" \"x\" \"y\" \"z\""
      ]
     },
     "metadata": {},
     "output_type": "display_data"
    }
   ],
   "source": [
    "letters"
   ]
  },
  {
   "cell_type": "code",
   "execution_count": 361,
   "id": "a60f33df-9c76-45df-b43b-f8e21ebec74b",
   "metadata": {},
   "outputs": [
    {
     "data": {
      "text/html": [
       "<style>\n",
       ".list-inline {list-style: none; margin:0; padding: 0}\n",
       ".list-inline>li {display: inline-block}\n",
       ".list-inline>li:not(:last-child)::after {content: \"\\00b7\"; padding: 0 .5ex}\n",
       "</style>\n",
       "<ol class=list-inline><li>'a'</li><li>'b'</li><li>'c'</li><li>'d'</li><li>'e'</li></ol>\n"
      ],
      "text/latex": [
       "\\begin{enumerate*}\n",
       "\\item 'a'\n",
       "\\item 'b'\n",
       "\\item 'c'\n",
       "\\item 'd'\n",
       "\\item 'e'\n",
       "\\end{enumerate*}\n"
      ],
      "text/markdown": [
       "1. 'a'\n",
       "2. 'b'\n",
       "3. 'c'\n",
       "4. 'd'\n",
       "5. 'e'\n",
       "\n",
       "\n"
      ],
      "text/plain": [
       "[1] \"a\" \"b\" \"c\" \"d\" \"e\""
      ]
     },
     "metadata": {},
     "output_type": "display_data"
    }
   ],
   "source": [
    "letters[1:5]"
   ]
  },
  {
   "cell_type": "code",
   "execution_count": 362,
   "id": "27c4d4b5-fa4f-4be4-8c9b-87ce9dee5b19",
   "metadata": {},
   "outputs": [
    {
     "data": {
      "text/html": [
       "<style>\n",
       ".list-inline {list-style: none; margin:0; padding: 0}\n",
       ".list-inline>li {display: inline-block}\n",
       ".list-inline>li:not(:last-child)::after {content: \"\\00b7\"; padding: 0 .5ex}\n",
       "</style>\n",
       "<ol class=list-inline><li>'A'</li><li>'B'</li><li>'C'</li><li>'D'</li><li>'E'</li><li>'F'</li><li>'G'</li><li>'H'</li><li>'I'</li><li>'J'</li><li>'K'</li><li>'L'</li><li>'M'</li><li>'N'</li><li>'O'</li><li>'P'</li><li>'Q'</li><li>'R'</li><li>'S'</li><li>'T'</li><li>'U'</li><li>'V'</li><li>'W'</li><li>'X'</li><li>'Y'</li><li>'Z'</li></ol>\n"
      ],
      "text/latex": [
       "\\begin{enumerate*}\n",
       "\\item 'A'\n",
       "\\item 'B'\n",
       "\\item 'C'\n",
       "\\item 'D'\n",
       "\\item 'E'\n",
       "\\item 'F'\n",
       "\\item 'G'\n",
       "\\item 'H'\n",
       "\\item 'I'\n",
       "\\item 'J'\n",
       "\\item 'K'\n",
       "\\item 'L'\n",
       "\\item 'M'\n",
       "\\item 'N'\n",
       "\\item 'O'\n",
       "\\item 'P'\n",
       "\\item 'Q'\n",
       "\\item 'R'\n",
       "\\item 'S'\n",
       "\\item 'T'\n",
       "\\item 'U'\n",
       "\\item 'V'\n",
       "\\item 'W'\n",
       "\\item 'X'\n",
       "\\item 'Y'\n",
       "\\item 'Z'\n",
       "\\end{enumerate*}\n"
      ],
      "text/markdown": [
       "1. 'A'\n",
       "2. 'B'\n",
       "3. 'C'\n",
       "4. 'D'\n",
       "5. 'E'\n",
       "6. 'F'\n",
       "7. 'G'\n",
       "8. 'H'\n",
       "9. 'I'\n",
       "10. 'J'\n",
       "11. 'K'\n",
       "12. 'L'\n",
       "13. 'M'\n",
       "14. 'N'\n",
       "15. 'O'\n",
       "16. 'P'\n",
       "17. 'Q'\n",
       "18. 'R'\n",
       "19. 'S'\n",
       "20. 'T'\n",
       "21. 'U'\n",
       "22. 'V'\n",
       "23. 'W'\n",
       "24. 'X'\n",
       "25. 'Y'\n",
       "26. 'Z'\n",
       "\n",
       "\n"
      ],
      "text/plain": [
       " [1] \"A\" \"B\" \"C\" \"D\" \"E\" \"F\" \"G\" \"H\" \"I\" \"J\" \"K\" \"L\" \"M\" \"N\" \"O\" \"P\" \"Q\" \"R\" \"S\"\n",
       "[20] \"T\" \"U\" \"V\" \"W\" \"X\" \"Y\" \"Z\""
      ]
     },
     "metadata": {},
     "output_type": "display_data"
    }
   ],
   "source": [
    "LETTERS"
   ]
  },
  {
   "cell_type": "code",
   "execution_count": 363,
   "id": "e216c75e-f5dd-45f7-8834-515eb4ee4fb5",
   "metadata": {},
   "outputs": [
    {
     "data": {
      "text/html": [
       "<style>\n",
       ".list-inline {list-style: none; margin:0; padding: 0}\n",
       ".list-inline>li {display: inline-block}\n",
       ".list-inline>li:not(:last-child)::after {content: \"\\00b7\"; padding: 0 .5ex}\n",
       "</style>\n",
       "<ol class=list-inline><li>20</li><li>22</li><li>24</li><li>26</li><li>28</li><li>30</li><li>32</li><li>34</li><li>36</li><li>38</li><li>40</li></ol>\n"
      ],
      "text/latex": [
       "\\begin{enumerate*}\n",
       "\\item 20\n",
       "\\item 22\n",
       "\\item 24\n",
       "\\item 26\n",
       "\\item 28\n",
       "\\item 30\n",
       "\\item 32\n",
       "\\item 34\n",
       "\\item 36\n",
       "\\item 38\n",
       "\\item 40\n",
       "\\end{enumerate*}\n"
      ],
      "text/markdown": [
       "1. 20\n",
       "2. 22\n",
       "3. 24\n",
       "4. 26\n",
       "5. 28\n",
       "6. 30\n",
       "7. 32\n",
       "8. 34\n",
       "9. 36\n",
       "10. 38\n",
       "11. 40\n",
       "\n",
       "\n"
      ],
      "text/plain": [
       " [1] 20 22 24 26 28 30 32 34 36 38 40"
      ]
     },
     "metadata": {},
     "output_type": "display_data"
    }
   ],
   "source": [
    "a * 2"
   ]
  },
  {
   "cell_type": "code",
   "execution_count": 364,
   "id": "f428574b-31d4-4df4-8aa4-39aa1ab6dd2d",
   "metadata": {},
   "outputs": [
    {
     "data": {
      "text/html": [
       "<style>\n",
       ".list-inline {list-style: none; margin:0; padding: 0}\n",
       ".list-inline>li {display: inline-block}\n",
       ".list-inline>li:not(:last-child)::after {content: \"\\00b7\"; padding: 0 .5ex}\n",
       "</style>\n",
       "<ol class=list-inline><li>FALSE</li><li>FALSE</li><li>FALSE</li><li>FALSE</li><li>FALSE</li><li>FALSE</li><li>TRUE</li><li>TRUE</li><li>TRUE</li><li>TRUE</li><li>TRUE</li></ol>\n"
      ],
      "text/latex": [
       "\\begin{enumerate*}\n",
       "\\item FALSE\n",
       "\\item FALSE\n",
       "\\item FALSE\n",
       "\\item FALSE\n",
       "\\item FALSE\n",
       "\\item FALSE\n",
       "\\item TRUE\n",
       "\\item TRUE\n",
       "\\item TRUE\n",
       "\\item TRUE\n",
       "\\item TRUE\n",
       "\\end{enumerate*}\n"
      ],
      "text/markdown": [
       "1. FALSE\n",
       "2. FALSE\n",
       "3. FALSE\n",
       "4. FALSE\n",
       "5. FALSE\n",
       "6. FALSE\n",
       "7. TRUE\n",
       "8. TRUE\n",
       "9. TRUE\n",
       "10. TRUE\n",
       "11. TRUE\n",
       "\n",
       "\n"
      ],
      "text/plain": [
       " [1] FALSE FALSE FALSE FALSE FALSE FALSE  TRUE  TRUE  TRUE  TRUE  TRUE"
      ]
     },
     "metadata": {},
     "output_type": "display_data"
    }
   ],
   "source": [
    "a > 15"
   ]
  },
  {
   "cell_type": "code",
   "execution_count": 365,
   "id": "0ad78be9-396f-4603-b90c-b9177600b70b",
   "metadata": {},
   "outputs": [
    {
     "data": {
      "text/html": [
       "<style>\n",
       ".list-inline {list-style: none; margin:0; padding: 0}\n",
       ".list-inline>li {display: inline-block}\n",
       ".list-inline>li:not(:last-child)::after {content: \"\\00b7\"; padding: 0 .5ex}\n",
       "</style>\n",
       "<ol class=list-inline><li>TRUE</li><li>FALSE</li><li>TRUE</li><li>TRUE</li><li>TRUE</li><li>TRUE</li><li>TRUE</li><li>TRUE</li><li>TRUE</li><li>TRUE</li><li>TRUE</li></ol>\n"
      ],
      "text/latex": [
       "\\begin{enumerate*}\n",
       "\\item TRUE\n",
       "\\item FALSE\n",
       "\\item TRUE\n",
       "\\item TRUE\n",
       "\\item TRUE\n",
       "\\item TRUE\n",
       "\\item TRUE\n",
       "\\item TRUE\n",
       "\\item TRUE\n",
       "\\item TRUE\n",
       "\\item TRUE\n",
       "\\end{enumerate*}\n"
      ],
      "text/markdown": [
       "1. TRUE\n",
       "2. FALSE\n",
       "3. TRUE\n",
       "4. TRUE\n",
       "5. TRUE\n",
       "6. TRUE\n",
       "7. TRUE\n",
       "8. TRUE\n",
       "9. TRUE\n",
       "10. TRUE\n",
       "11. TRUE\n",
       "\n",
       "\n"
      ],
      "text/plain": [
       " [1]  TRUE FALSE  TRUE  TRUE  TRUE  TRUE  TRUE  TRUE  TRUE  TRUE  TRUE"
      ]
     },
     "metadata": {},
     "output_type": "display_data"
    }
   ],
   "source": [
    "a == c(10, 9, 12, 13, 14, 15, 16, 17, 18, 19, 20)"
   ]
  },
  {
   "cell_type": "code",
   "execution_count": 366,
   "id": "e5533280-c963-4773-a89a-a1d729f8de8f",
   "metadata": {},
   "outputs": [
    {
     "data": {
      "text/html": [
       "<style>\n",
       ".list-inline {list-style: none; margin:0; padding: 0}\n",
       ".list-inline>li {display: inline-block}\n",
       ".list-inline>li:not(:last-child)::after {content: \"\\00b7\"; padding: 0 .5ex}\n",
       "</style>\n",
       "<ol class=list-inline><li>16</li><li>17</li><li>18</li><li>19</li><li>20</li></ol>\n"
      ],
      "text/latex": [
       "\\begin{enumerate*}\n",
       "\\item 16\n",
       "\\item 17\n",
       "\\item 18\n",
       "\\item 19\n",
       "\\item 20\n",
       "\\end{enumerate*}\n"
      ],
      "text/markdown": [
       "1. 16\n",
       "2. 17\n",
       "3. 18\n",
       "4. 19\n",
       "5. 20\n",
       "\n",
       "\n"
      ],
      "text/plain": [
       "[1] 16 17 18 19 20"
      ]
     },
     "metadata": {},
     "output_type": "display_data"
    }
   ],
   "source": [
    "a[a > 15]"
   ]
  },
  {
   "cell_type": "code",
   "execution_count": 367,
   "id": "1273ef3e-3ef1-4ff0-b6c9-a931bece3552",
   "metadata": {},
   "outputs": [
    {
     "name": "stderr",
     "output_type": "stream",
     "text": [
      "Warning message in a + b:\n",
      "\"longer object length is not a multiple of shorter object length\"\n"
     ]
    },
    {
     "data": {
      "text/html": [
       "<style>\n",
       ".list-inline {list-style: none; margin:0; padding: 0}\n",
       ".list-inline>li {display: inline-block}\n",
       ".list-inline>li:not(:last-child)::after {content: \"\\00b7\"; padding: 0 .5ex}\n",
       "</style>\n",
       "<ol class=list-inline><li>2</li><li>3</li><li>4</li><li>5</li><li>6</li><li>2</li><li>3</li><li>4</li></ol>\n"
      ],
      "text/latex": [
       "\\begin{enumerate*}\n",
       "\\item 2\n",
       "\\item 3\n",
       "\\item 4\n",
       "\\item 5\n",
       "\\item 6\n",
       "\\item 2\n",
       "\\item 3\n",
       "\\item 4\n",
       "\\end{enumerate*}\n"
      ],
      "text/markdown": [
       "1. 2\n",
       "2. 3\n",
       "3. 4\n",
       "4. 5\n",
       "5. 6\n",
       "6. 2\n",
       "7. 3\n",
       "8. 4\n",
       "\n",
       "\n"
      ],
      "text/plain": [
       "[1] 2 3 4 5 6 2 3 4"
      ]
     },
     "metadata": {},
     "output_type": "display_data"
    }
   ],
   "source": [
    "a = 1:5\n",
    "b = rep(1, 8)\n",
    "\n",
    "a + b"
   ]
  },
  {
   "cell_type": "code",
   "execution_count": 368,
   "id": "a9797884-78a7-4ba9-a0fb-3d92fd1351c3",
   "metadata": {},
   "outputs": [
    {
     "data": {
      "text/html": [
       "31"
      ],
      "text/latex": [
       "31"
      ],
      "text/markdown": [
       "31"
      ],
      "text/plain": [
       "[1] 31"
      ]
     },
     "metadata": {},
     "output_type": "display_data"
    }
   ],
   "source": [
    "length(20:50)"
   ]
  },
  {
   "cell_type": "code",
   "execution_count": 369,
   "id": "5af139e6-343d-4bc4-839f-e228d4b5f1dc",
   "metadata": {},
   "outputs": [
    {
     "data": {
      "text/html": [
       "<style>\n",
       ".list-inline {list-style: none; margin:0; padding: 0}\n",
       ".list-inline>li {display: inline-block}\n",
       ".list-inline>li:not(:last-child)::after {content: \"\\00b7\"; padding: 0 .5ex}\n",
       "</style>\n",
       "<ol class=list-inline><li>5</li><li>4</li><li>3</li><li>2</li><li>1</li></ol>\n"
      ],
      "text/latex": [
       "\\begin{enumerate*}\n",
       "\\item 5\n",
       "\\item 4\n",
       "\\item 3\n",
       "\\item 2\n",
       "\\item 1\n",
       "\\end{enumerate*}\n"
      ],
      "text/markdown": [
       "1. 5\n",
       "2. 4\n",
       "3. 3\n",
       "4. 2\n",
       "5. 1\n",
       "\n",
       "\n"
      ],
      "text/plain": [
       "[1] 5 4 3 2 1"
      ]
     },
     "metadata": {},
     "output_type": "display_data"
    }
   ],
   "source": [
    "rev(1:5)"
   ]
  },
  {
   "cell_type": "code",
   "execution_count": 370,
   "id": "f590819b-47e9-4f85-ab22-2ef835791b38",
   "metadata": {},
   "outputs": [
    {
     "data": {
      "text/html": [
       "1"
      ],
      "text/latex": [
       "1"
      ],
      "text/markdown": [
       "1"
      ],
      "text/plain": [
       "[1] 1"
      ]
     },
     "metadata": {},
     "output_type": "display_data"
    }
   ],
   "source": [
    "min(1:5)"
   ]
  },
  {
   "cell_type": "code",
   "execution_count": 371,
   "id": "7d73c6f5-b159-42fa-bcfe-1b30363b64f1",
   "metadata": {},
   "outputs": [
    {
     "data": {
      "text/html": [
       "5"
      ],
      "text/latex": [
       "5"
      ],
      "text/markdown": [
       "5"
      ],
      "text/plain": [
       "[1] 5"
      ]
     },
     "metadata": {},
     "output_type": "display_data"
    }
   ],
   "source": [
    "max(1:5)"
   ]
  },
  {
   "cell_type": "code",
   "execution_count": 372,
   "id": "138f6717-14a9-4457-9bfa-073611bf88fe",
   "metadata": {},
   "outputs": [
    {
     "data": {
      "text/html": [
       "<style>\n",
       ".list-inline {list-style: none; margin:0; padding: 0}\n",
       ".list-inline>li {display: inline-block}\n",
       ".list-inline>li:not(:last-child)::after {content: \"\\00b7\"; padding: 0 .5ex}\n",
       "</style>\n",
       "<ol class=list-inline><li>10</li><li>20</li><li>20</li><li>40</li><li>70</li><li>80</li></ol>\n"
      ],
      "text/latex": [
       "\\begin{enumerate*}\n",
       "\\item 10\n",
       "\\item 20\n",
       "\\item 20\n",
       "\\item 40\n",
       "\\item 70\n",
       "\\item 80\n",
       "\\end{enumerate*}\n"
      ],
      "text/markdown": [
       "1. 10\n",
       "2. 20\n",
       "3. 20\n",
       "4. 40\n",
       "5. 70\n",
       "6. 80\n",
       "\n",
       "\n"
      ],
      "text/plain": [
       "[1] 10 20 20 40 70 80"
      ]
     },
     "metadata": {},
     "output_type": "display_data"
    }
   ],
   "source": [
    "sort(c(70, 20, 80, 20, 10, 40))"
   ]
  },
  {
   "cell_type": "code",
   "execution_count": 373,
   "id": "151da601-1c46-4d7e-9d49-4ee5470440cf",
   "metadata": {},
   "outputs": [
    {
     "data": {
      "text/html": [
       "<style>\n",
       ".list-inline {list-style: none; margin:0; padding: 0}\n",
       ".list-inline>li {display: inline-block}\n",
       ".list-inline>li:not(:last-child)::after {content: \"\\00b7\"; padding: 0 .5ex}\n",
       "</style>\n",
       "<ol class=list-inline><li>80</li><li>70</li><li>40</li><li>20</li><li>20</li><li>10</li></ol>\n"
      ],
      "text/latex": [
       "\\begin{enumerate*}\n",
       "\\item 80\n",
       "\\item 70\n",
       "\\item 40\n",
       "\\item 20\n",
       "\\item 20\n",
       "\\item 10\n",
       "\\end{enumerate*}\n"
      ],
      "text/markdown": [
       "1. 80\n",
       "2. 70\n",
       "3. 40\n",
       "4. 20\n",
       "5. 20\n",
       "6. 10\n",
       "\n",
       "\n"
      ],
      "text/plain": [
       "[1] 80 70 40 20 20 10"
      ]
     },
     "metadata": {},
     "output_type": "display_data"
    }
   ],
   "source": [
    "sort(c(70, 20, 80, 20, 10, 40), decreasing=TRUE)"
   ]
  },
  {
   "cell_type": "code",
   "execution_count": 374,
   "id": "60dfa279-ff6e-466f-b21e-2d905d0b01bf",
   "metadata": {},
   "outputs": [
    {
     "data": {
      "text/html": [
       "<style>\n",
       ".list-inline {list-style: none; margin:0; padding: 0}\n",
       ".list-inline>li {display: inline-block}\n",
       ".list-inline>li:not(:last-child)::after {content: \"\\00b7\"; padding: 0 .5ex}\n",
       "</style>\n",
       "<ol class=list-inline><li>5</li><li>2</li><li>4</li><li>6</li><li>1</li><li>3</li></ol>\n"
      ],
      "text/latex": [
       "\\begin{enumerate*}\n",
       "\\item 5\n",
       "\\item 2\n",
       "\\item 4\n",
       "\\item 6\n",
       "\\item 1\n",
       "\\item 3\n",
       "\\end{enumerate*}\n"
      ],
      "text/markdown": [
       "1. 5\n",
       "2. 2\n",
       "3. 4\n",
       "4. 6\n",
       "5. 1\n",
       "6. 3\n",
       "\n",
       "\n"
      ],
      "text/plain": [
       "[1] 5 2 4 6 1 3"
      ]
     },
     "metadata": {},
     "output_type": "display_data"
    }
   ],
   "source": [
    "order(c(70, 20, 80, 20, 10, 40))"
   ]
  },
  {
   "cell_type": "code",
   "execution_count": 375,
   "id": "9903c4b2-f29e-4c69-b7ea-e1737e6e93be",
   "metadata": {},
   "outputs": [
    {
     "data": {
      "text/html": [
       "TRUE"
      ],
      "text/latex": [
       "TRUE"
      ],
      "text/markdown": [
       "TRUE"
      ],
      "text/plain": [
       "[1] TRUE"
      ]
     },
     "metadata": {},
     "output_type": "display_data"
    }
   ],
   "source": [
    "9 %in% 1:10"
   ]
  },
  {
   "cell_type": "code",
   "execution_count": 376,
   "id": "0ba2d8cd-6456-4e7b-ad67-e0ebf7f3f488",
   "metadata": {},
   "outputs": [
    {
     "data": {
      "text/html": [
       "FALSE"
      ],
      "text/latex": [
       "FALSE"
      ],
      "text/markdown": [
       "FALSE"
      ],
      "text/plain": [
       "[1] FALSE"
      ]
     },
     "metadata": {},
     "output_type": "display_data"
    }
   ],
   "source": [
    "11 %in% 1:10"
   ]
  },
  {
   "cell_type": "code",
   "execution_count": 377,
   "id": "cde04554-fd1e-4893-aab5-aa4765342700",
   "metadata": {},
   "outputs": [
    {
     "data": {
      "text/html": [
       "TRUE"
      ],
      "text/latex": [
       "TRUE"
      ],
      "text/markdown": [
       "TRUE"
      ],
      "text/plain": [
       "[1] TRUE"
      ]
     },
     "metadata": {},
     "output_type": "display_data"
    }
   ],
   "source": [
    "x <- 5\n",
    "y <- x + 1\n",
    "is.numeric(5)"
   ]
  },
  {
   "cell_type": "code",
   "execution_count": 378,
   "id": "cef5b34c-9599-4942-a20d-6e7f0dc8086e",
   "metadata": {},
   "outputs": [
    {
     "data": {
      "text/html": [
       "FALSE"
      ],
      "text/latex": [
       "FALSE"
      ],
      "text/markdown": [
       "FALSE"
      ],
      "text/plain": [
       "[1] FALSE"
      ]
     },
     "metadata": {},
     "output_type": "display_data"
    }
   ],
   "source": [
    "is.numeric(\"5\")"
   ]
  },
  {
   "cell_type": "code",
   "execution_count": 379,
   "id": "490a5f32-b59b-46d5-8aaf-7515b9568d84",
   "metadata": {},
   "outputs": [
    {
     "data": {
      "text/html": [
       "5"
      ],
      "text/latex": [
       "5"
      ],
      "text/markdown": [
       "5"
      ],
      "text/plain": [
       "[1] 5"
      ]
     },
     "metadata": {},
     "output_type": "display_data"
    }
   ],
   "source": [
    "as.numeric(\"5\")"
   ]
  },
  {
   "cell_type": "code",
   "execution_count": 380,
   "id": "95395b0d-d651-48f2-9111-76753247f632",
   "metadata": {},
   "outputs": [
    {
     "data": {
      "text/html": [
       "FALSE"
      ],
      "text/latex": [
       "FALSE"
      ],
      "text/markdown": [
       "FALSE"
      ],
      "text/plain": [
       "[1] FALSE"
      ]
     },
     "metadata": {},
     "output_type": "display_data"
    }
   ],
   "source": [
    "x <- 0.58\n",
    "y <- 0.08\n",
    "x - y == 0.5"
   ]
  },
  {
   "cell_type": "code",
   "execution_count": 381,
   "id": "e3d2e580-57a6-4729-b689-b6aa9005144f",
   "metadata": {},
   "outputs": [
    {
     "data": {
      "text/html": [
       "TRUE"
      ],
      "text/latex": [
       "TRUE"
      ],
      "text/markdown": [
       "TRUE"
      ],
      "text/plain": [
       "[1] TRUE"
      ]
     },
     "metadata": {},
     "output_type": "display_data"
    }
   ],
   "source": [
    "near(x - y, 0.5)"
   ]
  },
  {
   "cell_type": "code",
   "execution_count": 382,
   "id": "29ea192b-0198-408d-b558-ce5590d7048d",
   "metadata": {},
   "outputs": [
    {
     "data": {
      "text/html": [
       "'hello world'"
      ],
      "text/latex": [
       "'hello world'"
      ],
      "text/markdown": [
       "'hello world'"
      ],
      "text/plain": [
       "[1] \"hello world\""
      ]
     },
     "metadata": {},
     "output_type": "display_data"
    }
   ],
   "source": [
    "\"hello world\""
   ]
  },
  {
   "cell_type": "code",
   "execution_count": 383,
   "id": "8751a8b8-e40a-438d-9993-822881bcdf34",
   "metadata": {},
   "outputs": [
    {
     "data": {
      "text/html": [
       "'double quote \" in a string'"
      ],
      "text/latex": [
       "'double quote \" in a string'"
      ],
      "text/markdown": [
       "'double quote \" in a string'"
      ],
      "text/plain": [
       "[1] \"double quote \\\" in a string\""
      ]
     },
     "metadata": {},
     "output_type": "display_data"
    }
   ],
   "source": [
    "\"double quote \\\" in a string\""
   ]
  },
  {
   "cell_type": "code",
   "execution_count": 384,
   "id": "8deef8e3-d988-465a-9acb-d74d8669e072",
   "metadata": {},
   "outputs": [
    {
     "data": {
      "text/html": [
       "TRUE"
      ],
      "text/latex": [
       "TRUE"
      ],
      "text/markdown": [
       "TRUE"
      ],
      "text/plain": [
       "[1] TRUE"
      ]
     },
     "metadata": {},
     "output_type": "display_data"
    }
   ],
   "source": [
    "\"hello world\" %>% is.character()"
   ]
  },
  {
   "cell_type": "code",
   "execution_count": 385,
   "id": "3a11255c-8e44-4d32-99ee-37b709440e0a",
   "metadata": {},
   "outputs": [
    {
     "data": {
      "text/html": [
       "TRUE"
      ],
      "text/latex": [
       "TRUE"
      ],
      "text/markdown": [
       "TRUE"
      ],
      "text/plain": [
       "[1] TRUE"
      ]
     },
     "metadata": {},
     "output_type": "display_data"
    }
   ],
   "source": [
    "\"hello world\" |> is.character()"
   ]
  },
  {
   "cell_type": "code",
   "execution_count": 386,
   "id": "4a7b4dbd-2961-433b-b88f-94506dff1a2d",
   "metadata": {},
   "outputs": [
    {
     "data": {
      "text/html": [
       "1"
      ],
      "text/latex": [
       "1"
      ],
      "text/markdown": [
       "1"
      ],
      "text/plain": [
       "[1] 1"
      ]
     },
     "metadata": {},
     "output_type": "display_data"
    }
   ],
   "source": [
    "\"hello world\" |> length()"
   ]
  },
  {
   "cell_type": "code",
   "execution_count": 387,
   "id": "8fefd1d2-45f1-4035-a7eb-90d990cb2396",
   "metadata": {},
   "outputs": [
    {
     "data": {
      "text/html": [
       "11"
      ],
      "text/latex": [
       "11"
      ],
      "text/markdown": [
       "11"
      ],
      "text/plain": [
       "[1] 11"
      ]
     },
     "metadata": {},
     "output_type": "display_data"
    }
   ],
   "source": [
    "\"hello world\" |> str_length()"
   ]
  },
  {
   "cell_type": "code",
   "execution_count": 388,
   "id": "f7a91a50-b659-4ab3-ba49-113355291b5a",
   "metadata": {},
   "outputs": [
    {
     "data": {
      "text/html": [
       "'ello worl'"
      ],
      "text/latex": [
       "'ello worl'"
      ],
      "text/markdown": [
       "'ello worl'"
      ],
      "text/plain": [
       "[1] \"ello worl\""
      ]
     },
     "metadata": {},
     "output_type": "display_data"
    }
   ],
   "source": [
    "\"hello world\" |> str_sub(2, 10)"
   ]
  },
  {
   "cell_type": "code",
   "execution_count": 389,
   "id": "e83e954e-cea4-4174-a04e-f263643bfc35",
   "metadata": {},
   "outputs": [
    {
     "data": {
      "text/html": [
       "'hello world'"
      ],
      "text/latex": [
       "'hello world'"
      ],
      "text/markdown": [
       "'hello world'"
      ],
      "text/plain": [
       "[1] \"hello world\""
      ]
     },
     "metadata": {},
     "output_type": "display_data"
    }
   ],
   "source": [
    "paste(\"hello\", \"world\")"
   ]
  },
  {
   "cell_type": "code",
   "execution_count": 390,
   "id": "f24fb62b-2071-4c5d-be9b-726190acb020",
   "metadata": {},
   "outputs": [
    {
     "data": {
      "text/html": [
       "'character'"
      ],
      "text/latex": [
       "'character'"
      ],
      "text/markdown": [
       "'character'"
      ],
      "text/plain": [
       "[1] \"character\""
      ]
     },
     "metadata": {},
     "output_type": "display_data"
    }
   ],
   "source": [
    "class(c(5, \"hi\", TRUE))"
   ]
  },
  {
   "cell_type": "code",
   "execution_count": 391,
   "id": "a286be14-6b03-4a73-b474-12fdbe2056a7",
   "metadata": {},
   "outputs": [
    {
     "data": {
      "text/html": [
       "'numeric'"
      ],
      "text/latex": [
       "'numeric'"
      ],
      "text/markdown": [
       "'numeric'"
      ],
      "text/plain": [
       "[1] \"numeric\""
      ]
     },
     "metadata": {},
     "output_type": "display_data"
    }
   ],
   "source": [
    "class(5)"
   ]
  },
  {
   "cell_type": "code",
   "execution_count": 392,
   "id": "048082e2-6c31-4cdb-a5ca-205058c8c882",
   "metadata": {},
   "outputs": [
    {
     "data": {
      "text/html": [
       "'integer'"
      ],
      "text/latex": [
       "'integer'"
      ],
      "text/markdown": [
       "'integer'"
      ],
      "text/plain": [
       "[1] \"integer\""
      ]
     },
     "metadata": {},
     "output_type": "display_data"
    }
   ],
   "source": [
    "class(1:5)"
   ]
  },
  {
   "cell_type": "code",
   "execution_count": 393,
   "id": "059cdf16-b264-4aec-b911-c608ae75c248",
   "metadata": {},
   "outputs": [
    {
     "data": {
      "text/html": [
       "'numeric'"
      ],
      "text/latex": [
       "'numeric'"
      ],
      "text/markdown": [
       "'numeric'"
      ],
      "text/plain": [
       "[1] \"numeric\""
      ]
     },
     "metadata": {},
     "output_type": "display_data"
    }
   ],
   "source": [
    "class(c(1, 2, 3, NA, 5))"
   ]
  },
  {
   "cell_type": "code",
   "execution_count": 394,
   "id": "d24d64d3-44e6-43f6-901b-8b902531b7ba",
   "metadata": {},
   "outputs": [
    {
     "data": {
      "text/html": [
       "<style>\n",
       ".list-inline {list-style: none; margin:0; padding: 0}\n",
       ".list-inline>li {display: inline-block}\n",
       ".list-inline>li:not(:last-child)::after {content: \"\\00b7\"; padding: 0 .5ex}\n",
       "</style>\n",
       "<ol class=list-inline><li>TRUE</li><li>FALSE</li><li>FALSE</li></ol>\n"
      ],
      "text/latex": [
       "\\begin{enumerate*}\n",
       "\\item TRUE\n",
       "\\item FALSE\n",
       "\\item FALSE\n",
       "\\end{enumerate*}\n"
      ],
      "text/markdown": [
       "1. TRUE\n",
       "2. FALSE\n",
       "3. FALSE\n",
       "\n",
       "\n"
      ],
      "text/plain": [
       "[1]  TRUE FALSE FALSE"
      ]
     },
     "metadata": {},
     "output_type": "display_data"
    }
   ],
   "source": [
    "is.na(c(NA, 1, \"\"))"
   ]
  },
  {
   "cell_type": "code",
   "execution_count": 395,
   "id": "85db1b2a-f5ba-46ae-bab8-5e9597797b59",
   "metadata": {},
   "outputs": [
    {
     "data": {
      "text/html": [
       "<style>\n",
       ".list-inline {list-style: none; margin:0; padding: 0}\n",
       ".list-inline>li {display: inline-block}\n",
       ".list-inline>li:not(:last-child)::after {content: \"\\00b7\"; padding: 0 .5ex}\n",
       "</style>\n",
       "<ol class=list-inline><li>TRUE</li><li>FALSE</li><li>FALSE</li></ol>\n"
      ],
      "text/latex": [
       "\\begin{enumerate*}\n",
       "\\item TRUE\n",
       "\\item FALSE\n",
       "\\item FALSE\n",
       "\\end{enumerate*}\n"
      ],
      "text/markdown": [
       "1. TRUE\n",
       "2. FALSE\n",
       "3. FALSE\n",
       "\n",
       "\n"
      ],
      "text/plain": [
       "[1]  TRUE FALSE FALSE"
      ]
     },
     "metadata": {},
     "output_type": "display_data"
    }
   ],
   "source": [
    "c(NA, 1, \"\") %>% is.na"
   ]
  },
  {
   "cell_type": "code",
   "execution_count": 396,
   "id": "1b18d253-a8d9-4d7f-b82f-549ab779d45a",
   "metadata": {},
   "outputs": [
    {
     "data": {
      "text/html": [
       "<style>\n",
       ".list-inline {list-style: none; margin:0; padding: 0}\n",
       ".list-inline>li {display: inline-block}\n",
       ".list-inline>li:not(:last-child)::after {content: \"\\00b7\"; padding: 0 .5ex}\n",
       "</style>\n",
       "<ol class=list-inline><li>6</li><li>&lt;NA&gt;</li><li>8</li></ol>\n"
      ],
      "text/latex": [
       "\\begin{enumerate*}\n",
       "\\item 6\n",
       "\\item <NA>\n",
       "\\item 8\n",
       "\\end{enumerate*}\n"
      ],
      "text/markdown": [
       "1. 6\n",
       "2. &lt;NA&gt;\n",
       "3. 8\n",
       "\n",
       "\n"
      ],
      "text/plain": [
       "[1]  6 NA  8"
      ]
     },
     "metadata": {},
     "output_type": "display_data"
    }
   ],
   "source": [
    "c(5, NA, 7) + 1"
   ]
  },
  {
   "cell_type": "code",
   "execution_count": 397,
   "id": "30a5ff0e-2d0d-40ea-b593-3a90587399bc",
   "metadata": {},
   "outputs": [
    {
     "data": {
      "text/html": [
       "6"
      ],
      "text/latex": [
       "6"
      ],
      "text/markdown": [
       "6"
      ],
      "text/plain": [
       "[1] 6"
      ]
     },
     "metadata": {},
     "output_type": "display_data"
    }
   ],
   "source": [
    "c(5, NA, 7) %>% mean(na.rm = TRUE)"
   ]
  },
  {
   "cell_type": "code",
   "execution_count": 398,
   "id": "348f709b-01ee-40df-8856-3479dae69cfb",
   "metadata": {},
   "outputs": [
    {
     "data": {
      "text/html": [
       "<style>\n",
       ".list-inline {list-style: none; margin:0; padding: 0}\n",
       ".list-inline>li {display: inline-block}\n",
       ".list-inline>li:not(:last-child)::after {content: \"\\00b7\"; padding: 0 .5ex}\n",
       "</style>\n",
       "<ol class=list-inline><li>'cruel'</li><li>'hello'</li><li>'cruel'</li><li>'world'</li><li>'world'</li><li>'cruel'</li><li>'world'</li><li>'cruel'</li><li>'world'</li><li>'cruel'</li><li>'hello'</li><li>'cruel'</li></ol>\n"
      ],
      "text/latex": [
       "\\begin{enumerate*}\n",
       "\\item 'cruel'\n",
       "\\item 'hello'\n",
       "\\item 'cruel'\n",
       "\\item 'world'\n",
       "\\item 'world'\n",
       "\\item 'cruel'\n",
       "\\item 'world'\n",
       "\\item 'cruel'\n",
       "\\item 'world'\n",
       "\\item 'cruel'\n",
       "\\item 'hello'\n",
       "\\item 'cruel'\n",
       "\\end{enumerate*}\n"
      ],
      "text/markdown": [
       "1. 'cruel'\n",
       "2. 'hello'\n",
       "3. 'cruel'\n",
       "4. 'world'\n",
       "5. 'world'\n",
       "6. 'cruel'\n",
       "7. 'world'\n",
       "8. 'cruel'\n",
       "9. 'world'\n",
       "10. 'cruel'\n",
       "11. 'hello'\n",
       "12. 'cruel'\n",
       "\n",
       "\n"
      ],
      "text/plain": [
       " [1] \"cruel\" \"hello\" \"cruel\" \"world\" \"world\" \"cruel\" \"world\" \"cruel\" \"world\"\n",
       "[10] \"cruel\" \"hello\" \"cruel\""
      ]
     },
     "metadata": {},
     "output_type": "display_data"
    }
   ],
   "source": [
    "data <- c(\"hello\", \"cruel\", \"world\") %>% sample(12, replace=TRUE)\n",
    "data"
   ]
  },
  {
   "cell_type": "code",
   "execution_count": 399,
   "id": "6d180ff1-13ed-4656-95b5-d480f31bf5c2",
   "metadata": {},
   "outputs": [
    {
     "data": {
      "text/html": [
       "<style>\n",
       ".list-inline {list-style: none; margin:0; padding: 0}\n",
       ".list-inline>li {display: inline-block}\n",
       ".list-inline>li:not(:last-child)::after {content: \"\\00b7\"; padding: 0 .5ex}\n",
       "</style>\n",
       "<ol class=list-inline><li>cruel</li><li>hello</li><li>cruel</li><li>world</li><li>world</li><li>cruel</li><li>world</li><li>cruel</li><li>world</li><li>cruel</li><li>hello</li><li>cruel</li></ol>\n",
       "\n",
       "<details>\n",
       "\t<summary style=display:list-item;cursor:pointer>\n",
       "\t\t<strong>Levels</strong>:\n",
       "\t</summary>\n",
       "\t<style>\n",
       "\t.list-inline {list-style: none; margin:0; padding: 0}\n",
       "\t.list-inline>li {display: inline-block}\n",
       "\t.list-inline>li:not(:last-child)::after {content: \"\\00b7\"; padding: 0 .5ex}\n",
       "\t</style>\n",
       "\t<ol class=list-inline><li>'cruel'</li><li>'hello'</li><li>'world'</li></ol>\n",
       "</details>"
      ],
      "text/latex": [
       "\\begin{enumerate*}\n",
       "\\item cruel\n",
       "\\item hello\n",
       "\\item cruel\n",
       "\\item world\n",
       "\\item world\n",
       "\\item cruel\n",
       "\\item world\n",
       "\\item cruel\n",
       "\\item world\n",
       "\\item cruel\n",
       "\\item hello\n",
       "\\item cruel\n",
       "\\end{enumerate*}\n",
       "\n",
       "\\emph{Levels}: \\begin{enumerate*}\n",
       "\\item 'cruel'\n",
       "\\item 'hello'\n",
       "\\item 'world'\n",
       "\\end{enumerate*}\n"
      ],
      "text/markdown": [
       "1. cruel\n",
       "2. hello\n",
       "3. cruel\n",
       "4. world\n",
       "5. world\n",
       "6. cruel\n",
       "7. world\n",
       "8. cruel\n",
       "9. world\n",
       "10. cruel\n",
       "11. hello\n",
       "12. cruel\n",
       "\n",
       "\n",
       "\n",
       "**Levels**: 1. 'cruel'\n",
       "2. 'hello'\n",
       "3. 'world'\n",
       "\n",
       "\n"
      ],
      "text/plain": [
       " [1] cruel hello cruel world world cruel world cruel world cruel hello cruel\n",
       "Levels: cruel hello world"
      ]
     },
     "metadata": {},
     "output_type": "display_data"
    }
   ],
   "source": [
    "# Factor is like a dictionary with integer keys\n",
    "\n",
    "data = data %>% factor\n",
    "data"
   ]
  },
  {
   "cell_type": "code",
   "execution_count": 400,
   "id": "d92072b3-c76c-4a86-b33b-d55eb3807d06",
   "metadata": {},
   "outputs": [
    {
     "data": {
      "text/html": [
       "<style>\n",
       ".list-inline {list-style: none; margin:0; padding: 0}\n",
       ".list-inline>li {display: inline-block}\n",
       ".list-inline>li:not(:last-child)::after {content: \"\\00b7\"; padding: 0 .5ex}\n",
       "</style>\n",
       "<ol class=list-inline><li>1</li><li>2</li><li>1</li><li>3</li><li>3</li><li>1</li><li>3</li><li>1</li><li>3</li><li>1</li><li>2</li><li>1</li></ol>\n"
      ],
      "text/latex": [
       "\\begin{enumerate*}\n",
       "\\item 1\n",
       "\\item 2\n",
       "\\item 1\n",
       "\\item 3\n",
       "\\item 3\n",
       "\\item 1\n",
       "\\item 3\n",
       "\\item 1\n",
       "\\item 3\n",
       "\\item 1\n",
       "\\item 2\n",
       "\\item 1\n",
       "\\end{enumerate*}\n"
      ],
      "text/markdown": [
       "1. 1\n",
       "2. 2\n",
       "3. 1\n",
       "4. 3\n",
       "5. 3\n",
       "6. 1\n",
       "7. 3\n",
       "8. 1\n",
       "9. 3\n",
       "10. 1\n",
       "11. 2\n",
       "12. 1\n",
       "\n",
       "\n"
      ],
      "text/plain": [
       " [1] 1 2 1 3 3 1 3 1 3 1 2 1"
      ]
     },
     "metadata": {},
     "output_type": "display_data"
    }
   ],
   "source": [
    "data %>% as.numeric"
   ]
  },
  {
   "cell_type": "code",
   "execution_count": 401,
   "id": "bdb668ca-b7f4-4ba2-9261-2ee1b9b844ff",
   "metadata": {},
   "outputs": [
    {
     "data": {
      "text/html": [
       "cruel\n",
       "<details>\n",
       "\t<summary style=display:list-item;cursor:pointer>\n",
       "\t\t<strong>Levels</strong>:\n",
       "\t</summary>\n",
       "\t<style>\n",
       "\t.list-inline {list-style: none; margin:0; padding: 0}\n",
       "\t.list-inline>li {display: inline-block}\n",
       "\t.list-inline>li:not(:last-child)::after {content: \"\\00b7\"; padding: 0 .5ex}\n",
       "\t</style>\n",
       "\t<ol class=list-inline><li>'cruel'</li><li>'hello'</li><li>'world'</li></ol>\n",
       "</details>"
      ],
      "text/latex": [
       "cruel\n",
       "\\emph{Levels}: \\begin{enumerate*}\n",
       "\\item 'cruel'\n",
       "\\item 'hello'\n",
       "\\item 'world'\n",
       "\\end{enumerate*}\n"
      ],
      "text/markdown": [
       "cruel\n",
       "**Levels**: 1. 'cruel'\n",
       "2. 'hello'\n",
       "3. 'world'\n",
       "\n",
       "\n"
      ],
      "text/plain": [
       "[1] cruel\n",
       "Levels: cruel hello world"
      ]
     },
     "metadata": {},
     "output_type": "display_data"
    }
   ],
   "source": [
    "data[1]"
   ]
  },
  {
   "cell_type": "code",
   "execution_count": 402,
   "id": "defa785e-8c64-4432-a982-2233c70779f8",
   "metadata": {},
   "outputs": [
    {
     "data": {
      "text/html": [
       "<style>\n",
       ".list-inline {list-style: none; margin:0; padding: 0}\n",
       ".list-inline>li {display: inline-block}\n",
       ".list-inline>li:not(:last-child)::after {content: \"\\00b7\"; padding: 0 .5ex}\n",
       "</style>\n",
       "<ol class=list-inline><li>'cruel'</li><li>'hello'</li><li>'world'</li></ol>\n"
      ],
      "text/latex": [
       "\\begin{enumerate*}\n",
       "\\item 'cruel'\n",
       "\\item 'hello'\n",
       "\\item 'world'\n",
       "\\end{enumerate*}\n"
      ],
      "text/markdown": [
       "1. 'cruel'\n",
       "2. 'hello'\n",
       "3. 'world'\n",
       "\n",
       "\n"
      ],
      "text/plain": [
       "[1] \"cruel\" \"hello\" \"world\""
      ]
     },
     "metadata": {},
     "output_type": "display_data"
    }
   ],
   "source": [
    "levels(data)"
   ]
  },
  {
   "cell_type": "code",
   "execution_count": 403,
   "id": "db391e4a-d2e5-493e-bcd7-80e8515d36c9",
   "metadata": {},
   "outputs": [
    {
     "name": "stdout",
     "output_type": "stream",
     "text": [
      "[1] \"a is TRUE\"\n"
     ]
    }
   ],
   "source": [
    "a <- TRUE\n",
    "\n",
    "if (a)\n",
    "    print(\"a is TRUE\")"
   ]
  },
  {
   "cell_type": "code",
   "execution_count": 404,
   "id": "3b2bc047-f57b-4590-98f3-0bbc00a65c6f",
   "metadata": {},
   "outputs": [
    {
     "name": "stdout",
     "output_type": "stream",
     "text": [
      "[1] \"a is true\"\n",
      "[1] \"A IS TRUE\"\n"
     ]
    }
   ],
   "source": [
    "if (a) {\n",
    "    print(\"a is true\")\n",
    "    print(\"A IS TRUE\")\n",
    "}"
   ]
  },
  {
   "cell_type": "code",
   "execution_count": 405,
   "id": "43e26606-a8fc-4472-b4d9-250ac18b4de9",
   "metadata": {},
   "outputs": [
    {
     "name": "stdout",
     "output_type": "stream",
     "text": [
      "[1] \"x is less than or equal to y\"\n"
     ]
    }
   ],
   "source": [
    "x <- 5\n",
    "y <- 8\n",
    "\n",
    "if (x > y) {\n",
    "    print(\"x is greater than y\")\n",
    "} else {\n",
    "    print(\"x is less than or equal to y\")\n",
    "}"
   ]
  },
  {
   "cell_type": "code",
   "execution_count": 406,
   "id": "6303b33e-dc4b-4f33-a534-3de103591a59",
   "metadata": {},
   "outputs": [
    {
     "data": {
      "text/html": [
       "<style>\n",
       ".list-inline {list-style: none; margin:0; padding: 0}\n",
       ".list-inline>li {display: inline-block}\n",
       ".list-inline>li:not(:last-child)::after {content: \"\\00b7\"; padding: 0 .5ex}\n",
       "</style>\n",
       "<ol class=list-inline><li>'odd'</li><li>'even'</li><li>'odd'</li><li>'even'</li><li>'odd'</li><li>'even'</li><li>'odd'</li><li>'even'</li><li>'odd'</li><li>'even'</li></ol>\n"
      ],
      "text/latex": [
       "\\begin{enumerate*}\n",
       "\\item 'odd'\n",
       "\\item 'even'\n",
       "\\item 'odd'\n",
       "\\item 'even'\n",
       "\\item 'odd'\n",
       "\\item 'even'\n",
       "\\item 'odd'\n",
       "\\item 'even'\n",
       "\\item 'odd'\n",
       "\\item 'even'\n",
       "\\end{enumerate*}\n"
      ],
      "text/markdown": [
       "1. 'odd'\n",
       "2. 'even'\n",
       "3. 'odd'\n",
       "4. 'even'\n",
       "5. 'odd'\n",
       "6. 'even'\n",
       "7. 'odd'\n",
       "8. 'even'\n",
       "9. 'odd'\n",
       "10. 'even'\n",
       "\n",
       "\n"
      ],
      "text/plain": [
       " [1] \"odd\"  \"even\" \"odd\"  \"even\" \"odd\"  \"even\" \"odd\"  \"even\" \"odd\"  \"even\""
      ]
     },
     "metadata": {},
     "output_type": "display_data"
    }
   ],
   "source": [
    "x <- 1:10\n",
    "ifelse(x %% 2 == 0, \"even\", \"odd\")"
   ]
  },
  {
   "cell_type": "code",
   "execution_count": 407,
   "id": "c432eb49-63ae-495f-a823-a729927dcc5d",
   "metadata": {},
   "outputs": [
    {
     "name": "stdout",
     "output_type": "stream",
     "text": [
      "[1] 95.71387\n",
      "[1] 99.26938\n"
     ]
    }
   ],
   "source": [
    "a <- runif(100, 1, 100)\n",
    "for (x in a) {\n",
    "    if (x > 95)\n",
    "        print (x)\n",
    "}"
   ]
  },
  {
   "cell_type": "code",
   "execution_count": 408,
   "id": "0946560c-93fd-42cb-bf29-3bf36cd7ac3f",
   "metadata": {},
   "outputs": [
    {
     "name": "stdout",
     "output_type": "stream",
     "text": [
      "[1] \"hello world\"\n"
     ]
    }
   ],
   "source": [
    "foo <- function() {\n",
    "    print(\"hello world\")\n",
    "}\n",
    "foo()"
   ]
  },
  {
   "cell_type": "code",
   "execution_count": 409,
   "id": "864aa450-ace2-4601-bb15-cbe269dbf014",
   "metadata": {},
   "outputs": [
    {
     "data": {
      "text/html": [
       "6"
      ],
      "text/latex": [
       "6"
      ],
      "text/markdown": [
       "6"
      ],
      "text/plain": [
       "[1] 6"
      ]
     },
     "metadata": {},
     "output_type": "display_data"
    }
   ],
   "source": [
    "addOne <- function(x) {\n",
    "    x + 1\n",
    "}\n",
    "addOne(5)"
   ]
  },
  {
   "cell_type": "code",
   "execution_count": 410,
   "id": "64871d1a-ba7c-49bf-a33b-d97af8fc7cbd",
   "metadata": {},
   "outputs": [],
   "source": [
    "add <- function(x, y) {\n",
    "    x + y*10\n",
    "}"
   ]
  },
  {
   "cell_type": "code",
   "execution_count": 411,
   "id": "c8b80040-1c00-4e3e-ab31-ba4d432fcece",
   "metadata": {},
   "outputs": [
    {
     "data": {
      "text/html": [
       "102"
      ],
      "text/latex": [
       "102"
      ],
      "text/markdown": [
       "102"
      ],
      "text/plain": [
       "[1] 102"
      ]
     },
     "metadata": {},
     "output_type": "display_data"
    }
   ],
   "source": [
    "add(2, 10)"
   ]
  },
  {
   "cell_type": "code",
   "execution_count": 412,
   "id": "d8f5d446-32f5-4bf5-8112-adb300ca73bb",
   "metadata": {},
   "outputs": [
    {
     "data": {
      "text/html": [
       "<style>\n",
       ".list-inline {list-style: none; margin:0; padding: 0}\n",
       ".list-inline>li {display: inline-block}\n",
       ".list-inline>li:not(:last-child)::after {content: \"\\00b7\"; padding: 0 .5ex}\n",
       "</style>\n",
       "<ol class=list-inline><li>2</li><li>3</li><li>4</li><li>5</li><li>6</li></ol>\n"
      ],
      "text/latex": [
       "\\begin{enumerate*}\n",
       "\\item 2\n",
       "\\item 3\n",
       "\\item 4\n",
       "\\item 5\n",
       "\\item 6\n",
       "\\end{enumerate*}\n"
      ],
      "text/markdown": [
       "1. 2\n",
       "2. 3\n",
       "3. 4\n",
       "4. 5\n",
       "5. 6\n",
       "\n",
       "\n"
      ],
      "text/plain": [
       "[1] 2 3 4 5 6"
      ]
     },
     "metadata": {},
     "output_type": "display_data"
    }
   ],
   "source": [
    "1:5 %>% addOne"
   ]
  },
  {
   "cell_type": "code",
   "execution_count": 413,
   "id": "30800835-e68d-4d12-a3fd-da08227decb6",
   "metadata": {},
   "outputs": [
    {
     "name": "stdout",
     "output_type": "stream",
     "text": [
      "[1] \"Before the function:  5\"\n",
      "[1] \"Inside the function as a parameter:  6\"\n",
      "[1] \"After the function:  5\"\n"
     ]
    }
   ],
   "source": [
    "a <- 5\n",
    "\n",
    "foo <- function(a) {\n",
    "    a <- 6\n",
    "    print(paste(\"Inside the function as a parameter: \", a))\n",
    "}\n",
    "print(paste(\"Before the function: \", a))\n",
    "foo(1)\n",
    "print(paste(\"After the function: \", a))"
   ]
  },
  {
   "cell_type": "code",
   "execution_count": 414,
   "id": "1ff39abe-02b1-4238-b715-5fbc48c7a90f",
   "metadata": {},
   "outputs": [
    {
     "name": "stdout",
     "output_type": "stream",
     "text": [
      "[1]  1 10\n",
      "[1] 1e+00 1e+10\n"
     ]
    }
   ],
   "source": [
    "foo <- function (a, b) {\n",
    "    square <- function(x) {\n",
    "        x^x\n",
    "    }\n",
    "    print(c(a, b))\n",
    "    print(c(square(a), square(b)))\n",
    "}\n",
    "foo(1, 10)"
   ]
  },
  {
   "cell_type": "code",
   "execution_count": 415,
   "id": "694b0880-dec0-40af-99b9-1425d196a04c",
   "metadata": {},
   "outputs": [
    {
     "data": {
      "text/html": [
       "5"
      ],
      "text/latex": [
       "5"
      ],
      "text/markdown": [
       "5"
      ],
      "text/plain": [
       "[1] 5"
      ]
     },
     "metadata": {},
     "output_type": "display_data"
    }
   ],
   "source": [
    "foo <- function (a, b) {\n",
    "    a / b\n",
    "}\n",
    "\n",
    "bar <- function (a, ...) {\n",
    "    foo(a, ...)\n",
    "}\n",
    "\n",
    "bar(50, 10)"
   ]
  },
  {
   "cell_type": "code",
   "execution_count": 416,
   "id": "1ce6f65d-1d2c-4a27-8d7b-1fe468f5641f",
   "metadata": {},
   "outputs": [
    {
     "data": {
      "text/html": [
       "<dl>\n",
       "\t<dt>$a</dt>\n",
       "\t\t<dd>5</dd>\n",
       "\t<dt>$b</dt>\n",
       "\t\t<dd>2</dd>\n",
       "\t<dt>$Long_name</dt>\n",
       "\t\t<dd>5.8</dd>\n",
       "\t<dt>$`name with spaces`</dt>\n",
       "\t\t<dd>0</dd>\n",
       "\t<dt>[[5]]</dt>\n",
       "\t\t<dd>12</dd>\n",
       "\t<dt>$a</dt>\n",
       "\t\t<dd>20</dd>\n",
       "</dl>\n"
      ],
      "text/latex": [
       "\\begin{description}\n",
       "\\item[\\$a] 5\n",
       "\\item[\\$b] 2\n",
       "\\item[\\$Long\\_name] 5.8\n",
       "\\item[\\$`name with spaces`] 0\n",
       "\\item[{[[5]]}] 12\n",
       "\\item[\\$a] 20\n",
       "\\end{description}\n"
      ],
      "text/markdown": [
       "$a\n",
       ":   5\n",
       "$b\n",
       ":   2\n",
       "$Long_name\n",
       ":   5.8\n",
       "$`name with spaces`\n",
       ":   0\n",
       "[[5]]\n",
       ":   12\n",
       "$a\n",
       ":   20\n",
       "\n",
       "\n"
      ],
      "text/plain": [
       "$a\n",
       "[1] 5\n",
       "\n",
       "$b\n",
       "[1] 2\n",
       "\n",
       "$Long_name\n",
       "[1] 5.8\n",
       "\n",
       "$`name with spaces`\n",
       "[1] 0\n",
       "\n",
       "[[5]]\n",
       "[1] 12\n",
       "\n",
       "$a\n",
       "[1] 20\n"
      ]
     },
     "metadata": {},
     "output_type": "display_data"
    }
   ],
   "source": [
    "x <- list(\n",
    "    a = 5,\n",
    "    b = 2,\n",
    "    Long_name = 5.8,\n",
    "    \"name with spaces\" = 0,\n",
    "    12,\n",
    "    a = 20\n",
    ")\n",
    "x"
   ]
  },
  {
   "cell_type": "code",
   "execution_count": 417,
   "id": "f8fe366c-5293-4dcc-ad89-742f7ca44a01",
   "metadata": {},
   "outputs": [
    {
     "data": {
      "text/html": [
       "<strong>$a</strong> = 5"
      ],
      "text/latex": [
       "\\textbf{\\$a} = 5"
      ],
      "text/markdown": [
       "**$a** = 5"
      ],
      "text/plain": [
       "$a\n",
       "[1] 5\n"
      ]
     },
     "metadata": {},
     "output_type": "display_data"
    }
   ],
   "source": [
    "x['a']"
   ]
  },
  {
   "cell_type": "code",
   "execution_count": 418,
   "id": "cf52e02f-34a4-45c9-b4e8-75bc1261289b",
   "metadata": {},
   "outputs": [
    {
     "data": {
      "text/html": [
       "<dl>\n",
       "\t<dt>$b</dt>\n",
       "\t\t<dd>2</dd>\n",
       "\t<dt>$a</dt>\n",
       "\t\t<dd>5</dd>\n",
       "</dl>\n"
      ],
      "text/latex": [
       "\\begin{description}\n",
       "\\item[\\$b] 2\n",
       "\\item[\\$a] 5\n",
       "\\end{description}\n"
      ],
      "text/markdown": [
       "$b\n",
       ":   2\n",
       "$a\n",
       ":   5\n",
       "\n",
       "\n"
      ],
      "text/plain": [
       "$b\n",
       "[1] 2\n",
       "\n",
       "$a\n",
       "[1] 5\n"
      ]
     },
     "metadata": {},
     "output_type": "display_data"
    }
   ],
   "source": [
    "x[c(\"b\", \"a\")]"
   ]
  },
  {
   "cell_type": "code",
   "execution_count": 419,
   "id": "2af18e96-4055-43ef-af2d-633e3412bdd0",
   "metadata": {},
   "outputs": [
    {
     "data": {
      "text/html": [
       "5.8"
      ],
      "text/latex": [
       "5.8"
      ],
      "text/markdown": [
       "5.8"
      ],
      "text/plain": [
       "[1] 5.8"
      ]
     },
     "metadata": {},
     "output_type": "display_data"
    }
   ],
   "source": [
    "x$Long_name"
   ]
  },
  {
   "cell_type": "code",
   "execution_count": 420,
   "id": "2d68e140-e815-4ea4-9a83-2481f7069135",
   "metadata": {},
   "outputs": [
    {
     "data": {
      "text/html": [
       "5"
      ],
      "text/latex": [
       "5"
      ],
      "text/markdown": [
       "5"
      ],
      "text/plain": [
       "[1] 5"
      ]
     },
     "metadata": {},
     "output_type": "display_data"
    }
   ],
   "source": [
    "x[[\"a\"]]"
   ]
  },
  {
   "cell_type": "code",
   "execution_count": 421,
   "id": "d78360b7-a188-44bc-8248-4b14f0c832f2",
   "metadata": {},
   "outputs": [
    {
     "data": {
      "text/html": [
       "<style>\n",
       ".list-inline {list-style: none; margin:0; padding: 0}\n",
       ".list-inline>li {display: inline-block}\n",
       ".list-inline>li:not(:last-child)::after {content: \"\\00b7\"; padding: 0 .5ex}\n",
       "</style>\n",
       "<ol class=list-inline><li>'a'</li><li>'b'</li><li>'Long_name'</li><li>'name with spaces'</li><li>''</li><li>'a'</li></ol>\n"
      ],
      "text/latex": [
       "\\begin{enumerate*}\n",
       "\\item 'a'\n",
       "\\item 'b'\n",
       "\\item 'Long\\_name'\n",
       "\\item 'name with spaces'\n",
       "\\item ''\n",
       "\\item 'a'\n",
       "\\end{enumerate*}\n"
      ],
      "text/markdown": [
       "1. 'a'\n",
       "2. 'b'\n",
       "3. 'Long_name'\n",
       "4. 'name with spaces'\n",
       "5. ''\n",
       "6. 'a'\n",
       "\n",
       "\n"
      ],
      "text/plain": [
       "[1] \"a\"                \"b\"                \"Long_name\"        \"name with spaces\"\n",
       "[5] \"\"                 \"a\"               "
      ]
     },
     "metadata": {},
     "output_type": "display_data"
    }
   ],
   "source": [
    "names(x)"
   ]
  },
  {
   "cell_type": "code",
   "execution_count": 422,
   "id": "34fe0181-7c31-43ff-9703-b2ca3fd74957",
   "metadata": {},
   "outputs": [
    {
     "name": "stdout",
     "output_type": "stream",
     "text": [
      "list(a = 5, b = 2, Long_name = 5.8, `name with spaces` = 0, 12, \n",
      "    a = 20)\n"
     ]
    }
   ],
   "source": [
    "x %>% dput"
   ]
  },
  {
   "cell_type": "code",
   "execution_count": 423,
   "id": "28088ace-d941-4ba8-9ecd-e94e111521b9",
   "metadata": {},
   "outputs": [
    {
     "data": {
      "text/html": [
       "<table class=\"dataframe\">\n",
       "<caption>A tibble: 234 × 11</caption>\n",
       "<thead>\n",
       "\t<tr><th scope=col>manufacturer</th><th scope=col>model</th><th scope=col>displ</th><th scope=col>year</th><th scope=col>cyl</th><th scope=col>trans</th><th scope=col>drv</th><th scope=col>cty</th><th scope=col>hwy</th><th scope=col>fl</th><th scope=col>class</th></tr>\n",
       "\t<tr><th scope=col>&lt;chr&gt;</th><th scope=col>&lt;chr&gt;</th><th scope=col>&lt;dbl&gt;</th><th scope=col>&lt;int&gt;</th><th scope=col>&lt;int&gt;</th><th scope=col>&lt;chr&gt;</th><th scope=col>&lt;chr&gt;</th><th scope=col>&lt;int&gt;</th><th scope=col>&lt;int&gt;</th><th scope=col>&lt;chr&gt;</th><th scope=col>&lt;chr&gt;</th></tr>\n",
       "</thead>\n",
       "<tbody>\n",
       "\t<tr><td>audi     </td><td>a4                </td><td>1.8</td><td>1999</td><td>4</td><td>auto(l5)  </td><td>f</td><td>18</td><td>29</td><td>p</td><td>compact</td></tr>\n",
       "\t<tr><td>audi     </td><td>a4                </td><td>1.8</td><td>1999</td><td>4</td><td>manual(m5)</td><td>f</td><td>21</td><td>29</td><td>p</td><td>compact</td></tr>\n",
       "\t<tr><td>audi     </td><td>a4                </td><td>2.0</td><td>2008</td><td>4</td><td>manual(m6)</td><td>f</td><td>20</td><td>31</td><td>p</td><td>compact</td></tr>\n",
       "\t<tr><td>audi     </td><td>a4                </td><td>2.0</td><td>2008</td><td>4</td><td>auto(av)  </td><td>f</td><td>21</td><td>30</td><td>p</td><td>compact</td></tr>\n",
       "\t<tr><td>audi     </td><td>a4                </td><td>2.8</td><td>1999</td><td>6</td><td>auto(l5)  </td><td>f</td><td>16</td><td>26</td><td>p</td><td>compact</td></tr>\n",
       "\t<tr><td>audi     </td><td>a4                </td><td>2.8</td><td>1999</td><td>6</td><td>manual(m5)</td><td>f</td><td>18</td><td>26</td><td>p</td><td>compact</td></tr>\n",
       "\t<tr><td>audi     </td><td>a4                </td><td>3.1</td><td>2008</td><td>6</td><td>auto(av)  </td><td>f</td><td>18</td><td>27</td><td>p</td><td>compact</td></tr>\n",
       "\t<tr><td>audi     </td><td>a4 quattro        </td><td>1.8</td><td>1999</td><td>4</td><td>manual(m5)</td><td>4</td><td>18</td><td>26</td><td>p</td><td>compact</td></tr>\n",
       "\t<tr><td>audi     </td><td>a4 quattro        </td><td>1.8</td><td>1999</td><td>4</td><td>auto(l5)  </td><td>4</td><td>16</td><td>25</td><td>p</td><td>compact</td></tr>\n",
       "\t<tr><td>audi     </td><td>a4 quattro        </td><td>2.0</td><td>2008</td><td>4</td><td>manual(m6)</td><td>4</td><td>20</td><td>28</td><td>p</td><td>compact</td></tr>\n",
       "\t<tr><td>audi     </td><td>a4 quattro        </td><td>2.0</td><td>2008</td><td>4</td><td>auto(s6)  </td><td>4</td><td>19</td><td>27</td><td>p</td><td>compact</td></tr>\n",
       "\t<tr><td>audi     </td><td>a4 quattro        </td><td>2.8</td><td>1999</td><td>6</td><td>auto(l5)  </td><td>4</td><td>15</td><td>25</td><td>p</td><td>compact</td></tr>\n",
       "\t<tr><td>audi     </td><td>a4 quattro        </td><td>2.8</td><td>1999</td><td>6</td><td>manual(m5)</td><td>4</td><td>17</td><td>25</td><td>p</td><td>compact</td></tr>\n",
       "\t<tr><td>audi     </td><td>a4 quattro        </td><td>3.1</td><td>2008</td><td>6</td><td>auto(s6)  </td><td>4</td><td>17</td><td>25</td><td>p</td><td>compact</td></tr>\n",
       "\t<tr><td>audi     </td><td>a4 quattro        </td><td>3.1</td><td>2008</td><td>6</td><td>manual(m6)</td><td>4</td><td>15</td><td>25</td><td>p</td><td>compact</td></tr>\n",
       "\t<tr><td>audi     </td><td>a6 quattro        </td><td>2.8</td><td>1999</td><td>6</td><td>auto(l5)  </td><td>4</td><td>15</td><td>24</td><td>p</td><td>midsize</td></tr>\n",
       "\t<tr><td>audi     </td><td>a6 quattro        </td><td>3.1</td><td>2008</td><td>6</td><td>auto(s6)  </td><td>4</td><td>17</td><td>25</td><td>p</td><td>midsize</td></tr>\n",
       "\t<tr><td>audi     </td><td>a6 quattro        </td><td>4.2</td><td>2008</td><td>8</td><td>auto(s6)  </td><td>4</td><td>16</td><td>23</td><td>p</td><td>midsize</td></tr>\n",
       "\t<tr><td>chevrolet</td><td>c1500 suburban 2wd</td><td>5.3</td><td>2008</td><td>8</td><td>auto(l4)  </td><td>r</td><td>14</td><td>20</td><td>r</td><td>suv    </td></tr>\n",
       "\t<tr><td>chevrolet</td><td>c1500 suburban 2wd</td><td>5.3</td><td>2008</td><td>8</td><td>auto(l4)  </td><td>r</td><td>11</td><td>15</td><td>e</td><td>suv    </td></tr>\n",
       "\t<tr><td>chevrolet</td><td>c1500 suburban 2wd</td><td>5.3</td><td>2008</td><td>8</td><td>auto(l4)  </td><td>r</td><td>14</td><td>20</td><td>r</td><td>suv    </td></tr>\n",
       "\t<tr><td>chevrolet</td><td>c1500 suburban 2wd</td><td>5.7</td><td>1999</td><td>8</td><td>auto(l4)  </td><td>r</td><td>13</td><td>17</td><td>r</td><td>suv    </td></tr>\n",
       "\t<tr><td>chevrolet</td><td>c1500 suburban 2wd</td><td>6.0</td><td>2008</td><td>8</td><td>auto(l4)  </td><td>r</td><td>12</td><td>17</td><td>r</td><td>suv    </td></tr>\n",
       "\t<tr><td>chevrolet</td><td>corvette          </td><td>5.7</td><td>1999</td><td>8</td><td>manual(m6)</td><td>r</td><td>16</td><td>26</td><td>p</td><td>2seater</td></tr>\n",
       "\t<tr><td>chevrolet</td><td>corvette          </td><td>5.7</td><td>1999</td><td>8</td><td>auto(l4)  </td><td>r</td><td>15</td><td>23</td><td>p</td><td>2seater</td></tr>\n",
       "\t<tr><td>chevrolet</td><td>corvette          </td><td>6.2</td><td>2008</td><td>8</td><td>manual(m6)</td><td>r</td><td>16</td><td>26</td><td>p</td><td>2seater</td></tr>\n",
       "\t<tr><td>chevrolet</td><td>corvette          </td><td>6.2</td><td>2008</td><td>8</td><td>auto(s6)  </td><td>r</td><td>15</td><td>25</td><td>p</td><td>2seater</td></tr>\n",
       "\t<tr><td>chevrolet</td><td>corvette          </td><td>7.0</td><td>2008</td><td>8</td><td>manual(m6)</td><td>r</td><td>15</td><td>24</td><td>p</td><td>2seater</td></tr>\n",
       "\t<tr><td>chevrolet</td><td>k1500 tahoe 4wd   </td><td>5.3</td><td>2008</td><td>8</td><td>auto(l4)  </td><td>4</td><td>14</td><td>19</td><td>r</td><td>suv    </td></tr>\n",
       "\t<tr><td>chevrolet</td><td>k1500 tahoe 4wd   </td><td>5.3</td><td>2008</td><td>8</td><td>auto(l4)  </td><td>4</td><td>11</td><td>14</td><td>e</td><td>suv    </td></tr>\n",
       "\t<tr><td>⋮</td><td>⋮</td><td>⋮</td><td>⋮</td><td>⋮</td><td>⋮</td><td>⋮</td><td>⋮</td><td>⋮</td><td>⋮</td><td>⋮</td></tr>\n",
       "\t<tr><td>toyota    </td><td>toyota tacoma 4wd</td><td>3.4</td><td>1999</td><td>6</td><td>auto(l4)  </td><td>4</td><td>15</td><td>19</td><td>r</td><td>pickup    </td></tr>\n",
       "\t<tr><td>toyota    </td><td>toyota tacoma 4wd</td><td>4.0</td><td>2008</td><td>6</td><td>manual(m6)</td><td>4</td><td>15</td><td>18</td><td>r</td><td>pickup    </td></tr>\n",
       "\t<tr><td>toyota    </td><td>toyota tacoma 4wd</td><td>4.0</td><td>2008</td><td>6</td><td>auto(l5)  </td><td>4</td><td>16</td><td>20</td><td>r</td><td>pickup    </td></tr>\n",
       "\t<tr><td>volkswagen</td><td>gti              </td><td>2.0</td><td>1999</td><td>4</td><td>manual(m5)</td><td>f</td><td>21</td><td>29</td><td>r</td><td>compact   </td></tr>\n",
       "\t<tr><td>volkswagen</td><td>gti              </td><td>2.0</td><td>1999</td><td>4</td><td>auto(l4)  </td><td>f</td><td>19</td><td>26</td><td>r</td><td>compact   </td></tr>\n",
       "\t<tr><td>volkswagen</td><td>gti              </td><td>2.0</td><td>2008</td><td>4</td><td>manual(m6)</td><td>f</td><td>21</td><td>29</td><td>p</td><td>compact   </td></tr>\n",
       "\t<tr><td>volkswagen</td><td>gti              </td><td>2.0</td><td>2008</td><td>4</td><td>auto(s6)  </td><td>f</td><td>22</td><td>29</td><td>p</td><td>compact   </td></tr>\n",
       "\t<tr><td>volkswagen</td><td>gti              </td><td>2.8</td><td>1999</td><td>6</td><td>manual(m5)</td><td>f</td><td>17</td><td>24</td><td>r</td><td>compact   </td></tr>\n",
       "\t<tr><td>volkswagen</td><td>jetta            </td><td>1.9</td><td>1999</td><td>4</td><td>manual(m5)</td><td>f</td><td>33</td><td>44</td><td>d</td><td>compact   </td></tr>\n",
       "\t<tr><td>volkswagen</td><td>jetta            </td><td>2.0</td><td>1999</td><td>4</td><td>manual(m5)</td><td>f</td><td>21</td><td>29</td><td>r</td><td>compact   </td></tr>\n",
       "\t<tr><td>volkswagen</td><td>jetta            </td><td>2.0</td><td>1999</td><td>4</td><td>auto(l4)  </td><td>f</td><td>19</td><td>26</td><td>r</td><td>compact   </td></tr>\n",
       "\t<tr><td>volkswagen</td><td>jetta            </td><td>2.0</td><td>2008</td><td>4</td><td>auto(s6)  </td><td>f</td><td>22</td><td>29</td><td>p</td><td>compact   </td></tr>\n",
       "\t<tr><td>volkswagen</td><td>jetta            </td><td>2.0</td><td>2008</td><td>4</td><td>manual(m6)</td><td>f</td><td>21</td><td>29</td><td>p</td><td>compact   </td></tr>\n",
       "\t<tr><td>volkswagen</td><td>jetta            </td><td>2.5</td><td>2008</td><td>5</td><td>auto(s6)  </td><td>f</td><td>21</td><td>29</td><td>r</td><td>compact   </td></tr>\n",
       "\t<tr><td>volkswagen</td><td>jetta            </td><td>2.5</td><td>2008</td><td>5</td><td>manual(m5)</td><td>f</td><td>21</td><td>29</td><td>r</td><td>compact   </td></tr>\n",
       "\t<tr><td>volkswagen</td><td>jetta            </td><td>2.8</td><td>1999</td><td>6</td><td>auto(l4)  </td><td>f</td><td>16</td><td>23</td><td>r</td><td>compact   </td></tr>\n",
       "\t<tr><td>volkswagen</td><td>jetta            </td><td>2.8</td><td>1999</td><td>6</td><td>manual(m5)</td><td>f</td><td>17</td><td>24</td><td>r</td><td>compact   </td></tr>\n",
       "\t<tr><td>volkswagen</td><td>new beetle       </td><td>1.9</td><td>1999</td><td>4</td><td>manual(m5)</td><td>f</td><td>35</td><td>44</td><td>d</td><td>subcompact</td></tr>\n",
       "\t<tr><td>volkswagen</td><td>new beetle       </td><td>1.9</td><td>1999</td><td>4</td><td>auto(l4)  </td><td>f</td><td>29</td><td>41</td><td>d</td><td>subcompact</td></tr>\n",
       "\t<tr><td>volkswagen</td><td>new beetle       </td><td>2.0</td><td>1999</td><td>4</td><td>manual(m5)</td><td>f</td><td>21</td><td>29</td><td>r</td><td>subcompact</td></tr>\n",
       "\t<tr><td>volkswagen</td><td>new beetle       </td><td>2.0</td><td>1999</td><td>4</td><td>auto(l4)  </td><td>f</td><td>19</td><td>26</td><td>r</td><td>subcompact</td></tr>\n",
       "\t<tr><td>volkswagen</td><td>new beetle       </td><td>2.5</td><td>2008</td><td>5</td><td>manual(m5)</td><td>f</td><td>20</td><td>28</td><td>r</td><td>subcompact</td></tr>\n",
       "\t<tr><td>volkswagen</td><td>new beetle       </td><td>2.5</td><td>2008</td><td>5</td><td>auto(s6)  </td><td>f</td><td>20</td><td>29</td><td>r</td><td>subcompact</td></tr>\n",
       "\t<tr><td>volkswagen</td><td>passat           </td><td>1.8</td><td>1999</td><td>4</td><td>manual(m5)</td><td>f</td><td>21</td><td>29</td><td>p</td><td>midsize   </td></tr>\n",
       "\t<tr><td>volkswagen</td><td>passat           </td><td>1.8</td><td>1999</td><td>4</td><td>auto(l5)  </td><td>f</td><td>18</td><td>29</td><td>p</td><td>midsize   </td></tr>\n",
       "\t<tr><td>volkswagen</td><td>passat           </td><td>2.0</td><td>2008</td><td>4</td><td>auto(s6)  </td><td>f</td><td>19</td><td>28</td><td>p</td><td>midsize   </td></tr>\n",
       "\t<tr><td>volkswagen</td><td>passat           </td><td>2.0</td><td>2008</td><td>4</td><td>manual(m6)</td><td>f</td><td>21</td><td>29</td><td>p</td><td>midsize   </td></tr>\n",
       "\t<tr><td>volkswagen</td><td>passat           </td><td>2.8</td><td>1999</td><td>6</td><td>auto(l5)  </td><td>f</td><td>16</td><td>26</td><td>p</td><td>midsize   </td></tr>\n",
       "\t<tr><td>volkswagen</td><td>passat           </td><td>2.8</td><td>1999</td><td>6</td><td>manual(m5)</td><td>f</td><td>18</td><td>26</td><td>p</td><td>midsize   </td></tr>\n",
       "\t<tr><td>volkswagen</td><td>passat           </td><td>3.6</td><td>2008</td><td>6</td><td>auto(s6)  </td><td>f</td><td>17</td><td>26</td><td>p</td><td>midsize   </td></tr>\n",
       "</tbody>\n",
       "</table>\n"
      ],
      "text/latex": [
       "A tibble: 234 × 11\n",
       "\\begin{tabular}{lllllllllll}\n",
       " manufacturer & model & displ & year & cyl & trans & drv & cty & hwy & fl & class\\\\\n",
       " <chr> & <chr> & <dbl> & <int> & <int> & <chr> & <chr> & <int> & <int> & <chr> & <chr>\\\\\n",
       "\\hline\n",
       "\t audi      & a4                 & 1.8 & 1999 & 4 & auto(l5)   & f & 18 & 29 & p & compact\\\\\n",
       "\t audi      & a4                 & 1.8 & 1999 & 4 & manual(m5) & f & 21 & 29 & p & compact\\\\\n",
       "\t audi      & a4                 & 2.0 & 2008 & 4 & manual(m6) & f & 20 & 31 & p & compact\\\\\n",
       "\t audi      & a4                 & 2.0 & 2008 & 4 & auto(av)   & f & 21 & 30 & p & compact\\\\\n",
       "\t audi      & a4                 & 2.8 & 1999 & 6 & auto(l5)   & f & 16 & 26 & p & compact\\\\\n",
       "\t audi      & a4                 & 2.8 & 1999 & 6 & manual(m5) & f & 18 & 26 & p & compact\\\\\n",
       "\t audi      & a4                 & 3.1 & 2008 & 6 & auto(av)   & f & 18 & 27 & p & compact\\\\\n",
       "\t audi      & a4 quattro         & 1.8 & 1999 & 4 & manual(m5) & 4 & 18 & 26 & p & compact\\\\\n",
       "\t audi      & a4 quattro         & 1.8 & 1999 & 4 & auto(l5)   & 4 & 16 & 25 & p & compact\\\\\n",
       "\t audi      & a4 quattro         & 2.0 & 2008 & 4 & manual(m6) & 4 & 20 & 28 & p & compact\\\\\n",
       "\t audi      & a4 quattro         & 2.0 & 2008 & 4 & auto(s6)   & 4 & 19 & 27 & p & compact\\\\\n",
       "\t audi      & a4 quattro         & 2.8 & 1999 & 6 & auto(l5)   & 4 & 15 & 25 & p & compact\\\\\n",
       "\t audi      & a4 quattro         & 2.8 & 1999 & 6 & manual(m5) & 4 & 17 & 25 & p & compact\\\\\n",
       "\t audi      & a4 quattro         & 3.1 & 2008 & 6 & auto(s6)   & 4 & 17 & 25 & p & compact\\\\\n",
       "\t audi      & a4 quattro         & 3.1 & 2008 & 6 & manual(m6) & 4 & 15 & 25 & p & compact\\\\\n",
       "\t audi      & a6 quattro         & 2.8 & 1999 & 6 & auto(l5)   & 4 & 15 & 24 & p & midsize\\\\\n",
       "\t audi      & a6 quattro         & 3.1 & 2008 & 6 & auto(s6)   & 4 & 17 & 25 & p & midsize\\\\\n",
       "\t audi      & a6 quattro         & 4.2 & 2008 & 8 & auto(s6)   & 4 & 16 & 23 & p & midsize\\\\\n",
       "\t chevrolet & c1500 suburban 2wd & 5.3 & 2008 & 8 & auto(l4)   & r & 14 & 20 & r & suv    \\\\\n",
       "\t chevrolet & c1500 suburban 2wd & 5.3 & 2008 & 8 & auto(l4)   & r & 11 & 15 & e & suv    \\\\\n",
       "\t chevrolet & c1500 suburban 2wd & 5.3 & 2008 & 8 & auto(l4)   & r & 14 & 20 & r & suv    \\\\\n",
       "\t chevrolet & c1500 suburban 2wd & 5.7 & 1999 & 8 & auto(l4)   & r & 13 & 17 & r & suv    \\\\\n",
       "\t chevrolet & c1500 suburban 2wd & 6.0 & 2008 & 8 & auto(l4)   & r & 12 & 17 & r & suv    \\\\\n",
       "\t chevrolet & corvette           & 5.7 & 1999 & 8 & manual(m6) & r & 16 & 26 & p & 2seater\\\\\n",
       "\t chevrolet & corvette           & 5.7 & 1999 & 8 & auto(l4)   & r & 15 & 23 & p & 2seater\\\\\n",
       "\t chevrolet & corvette           & 6.2 & 2008 & 8 & manual(m6) & r & 16 & 26 & p & 2seater\\\\\n",
       "\t chevrolet & corvette           & 6.2 & 2008 & 8 & auto(s6)   & r & 15 & 25 & p & 2seater\\\\\n",
       "\t chevrolet & corvette           & 7.0 & 2008 & 8 & manual(m6) & r & 15 & 24 & p & 2seater\\\\\n",
       "\t chevrolet & k1500 tahoe 4wd    & 5.3 & 2008 & 8 & auto(l4)   & 4 & 14 & 19 & r & suv    \\\\\n",
       "\t chevrolet & k1500 tahoe 4wd    & 5.3 & 2008 & 8 & auto(l4)   & 4 & 11 & 14 & e & suv    \\\\\n",
       "\t ⋮ & ⋮ & ⋮ & ⋮ & ⋮ & ⋮ & ⋮ & ⋮ & ⋮ & ⋮ & ⋮\\\\\n",
       "\t toyota     & toyota tacoma 4wd & 3.4 & 1999 & 6 & auto(l4)   & 4 & 15 & 19 & r & pickup    \\\\\n",
       "\t toyota     & toyota tacoma 4wd & 4.0 & 2008 & 6 & manual(m6) & 4 & 15 & 18 & r & pickup    \\\\\n",
       "\t toyota     & toyota tacoma 4wd & 4.0 & 2008 & 6 & auto(l5)   & 4 & 16 & 20 & r & pickup    \\\\\n",
       "\t volkswagen & gti               & 2.0 & 1999 & 4 & manual(m5) & f & 21 & 29 & r & compact   \\\\\n",
       "\t volkswagen & gti               & 2.0 & 1999 & 4 & auto(l4)   & f & 19 & 26 & r & compact   \\\\\n",
       "\t volkswagen & gti               & 2.0 & 2008 & 4 & manual(m6) & f & 21 & 29 & p & compact   \\\\\n",
       "\t volkswagen & gti               & 2.0 & 2008 & 4 & auto(s6)   & f & 22 & 29 & p & compact   \\\\\n",
       "\t volkswagen & gti               & 2.8 & 1999 & 6 & manual(m5) & f & 17 & 24 & r & compact   \\\\\n",
       "\t volkswagen & jetta             & 1.9 & 1999 & 4 & manual(m5) & f & 33 & 44 & d & compact   \\\\\n",
       "\t volkswagen & jetta             & 2.0 & 1999 & 4 & manual(m5) & f & 21 & 29 & r & compact   \\\\\n",
       "\t volkswagen & jetta             & 2.0 & 1999 & 4 & auto(l4)   & f & 19 & 26 & r & compact   \\\\\n",
       "\t volkswagen & jetta             & 2.0 & 2008 & 4 & auto(s6)   & f & 22 & 29 & p & compact   \\\\\n",
       "\t volkswagen & jetta             & 2.0 & 2008 & 4 & manual(m6) & f & 21 & 29 & p & compact   \\\\\n",
       "\t volkswagen & jetta             & 2.5 & 2008 & 5 & auto(s6)   & f & 21 & 29 & r & compact   \\\\\n",
       "\t volkswagen & jetta             & 2.5 & 2008 & 5 & manual(m5) & f & 21 & 29 & r & compact   \\\\\n",
       "\t volkswagen & jetta             & 2.8 & 1999 & 6 & auto(l4)   & f & 16 & 23 & r & compact   \\\\\n",
       "\t volkswagen & jetta             & 2.8 & 1999 & 6 & manual(m5) & f & 17 & 24 & r & compact   \\\\\n",
       "\t volkswagen & new beetle        & 1.9 & 1999 & 4 & manual(m5) & f & 35 & 44 & d & subcompact\\\\\n",
       "\t volkswagen & new beetle        & 1.9 & 1999 & 4 & auto(l4)   & f & 29 & 41 & d & subcompact\\\\\n",
       "\t volkswagen & new beetle        & 2.0 & 1999 & 4 & manual(m5) & f & 21 & 29 & r & subcompact\\\\\n",
       "\t volkswagen & new beetle        & 2.0 & 1999 & 4 & auto(l4)   & f & 19 & 26 & r & subcompact\\\\\n",
       "\t volkswagen & new beetle        & 2.5 & 2008 & 5 & manual(m5) & f & 20 & 28 & r & subcompact\\\\\n",
       "\t volkswagen & new beetle        & 2.5 & 2008 & 5 & auto(s6)   & f & 20 & 29 & r & subcompact\\\\\n",
       "\t volkswagen & passat            & 1.8 & 1999 & 4 & manual(m5) & f & 21 & 29 & p & midsize   \\\\\n",
       "\t volkswagen & passat            & 1.8 & 1999 & 4 & auto(l5)   & f & 18 & 29 & p & midsize   \\\\\n",
       "\t volkswagen & passat            & 2.0 & 2008 & 4 & auto(s6)   & f & 19 & 28 & p & midsize   \\\\\n",
       "\t volkswagen & passat            & 2.0 & 2008 & 4 & manual(m6) & f & 21 & 29 & p & midsize   \\\\\n",
       "\t volkswagen & passat            & 2.8 & 1999 & 6 & auto(l5)   & f & 16 & 26 & p & midsize   \\\\\n",
       "\t volkswagen & passat            & 2.8 & 1999 & 6 & manual(m5) & f & 18 & 26 & p & midsize   \\\\\n",
       "\t volkswagen & passat            & 3.6 & 2008 & 6 & auto(s6)   & f & 17 & 26 & p & midsize   \\\\\n",
       "\\end{tabular}\n"
      ],
      "text/markdown": [
       "\n",
       "A tibble: 234 × 11\n",
       "\n",
       "| manufacturer &lt;chr&gt; | model &lt;chr&gt; | displ &lt;dbl&gt; | year &lt;int&gt; | cyl &lt;int&gt; | trans &lt;chr&gt; | drv &lt;chr&gt; | cty &lt;int&gt; | hwy &lt;int&gt; | fl &lt;chr&gt; | class &lt;chr&gt; |\n",
       "|---|---|---|---|---|---|---|---|---|---|---|\n",
       "| audi      | a4                 | 1.8 | 1999 | 4 | auto(l5)   | f | 18 | 29 | p | compact |\n",
       "| audi      | a4                 | 1.8 | 1999 | 4 | manual(m5) | f | 21 | 29 | p | compact |\n",
       "| audi      | a4                 | 2.0 | 2008 | 4 | manual(m6) | f | 20 | 31 | p | compact |\n",
       "| audi      | a4                 | 2.0 | 2008 | 4 | auto(av)   | f | 21 | 30 | p | compact |\n",
       "| audi      | a4                 | 2.8 | 1999 | 6 | auto(l5)   | f | 16 | 26 | p | compact |\n",
       "| audi      | a4                 | 2.8 | 1999 | 6 | manual(m5) | f | 18 | 26 | p | compact |\n",
       "| audi      | a4                 | 3.1 | 2008 | 6 | auto(av)   | f | 18 | 27 | p | compact |\n",
       "| audi      | a4 quattro         | 1.8 | 1999 | 4 | manual(m5) | 4 | 18 | 26 | p | compact |\n",
       "| audi      | a4 quattro         | 1.8 | 1999 | 4 | auto(l5)   | 4 | 16 | 25 | p | compact |\n",
       "| audi      | a4 quattro         | 2.0 | 2008 | 4 | manual(m6) | 4 | 20 | 28 | p | compact |\n",
       "| audi      | a4 quattro         | 2.0 | 2008 | 4 | auto(s6)   | 4 | 19 | 27 | p | compact |\n",
       "| audi      | a4 quattro         | 2.8 | 1999 | 6 | auto(l5)   | 4 | 15 | 25 | p | compact |\n",
       "| audi      | a4 quattro         | 2.8 | 1999 | 6 | manual(m5) | 4 | 17 | 25 | p | compact |\n",
       "| audi      | a4 quattro         | 3.1 | 2008 | 6 | auto(s6)   | 4 | 17 | 25 | p | compact |\n",
       "| audi      | a4 quattro         | 3.1 | 2008 | 6 | manual(m6) | 4 | 15 | 25 | p | compact |\n",
       "| audi      | a6 quattro         | 2.8 | 1999 | 6 | auto(l5)   | 4 | 15 | 24 | p | midsize |\n",
       "| audi      | a6 quattro         | 3.1 | 2008 | 6 | auto(s6)   | 4 | 17 | 25 | p | midsize |\n",
       "| audi      | a6 quattro         | 4.2 | 2008 | 8 | auto(s6)   | 4 | 16 | 23 | p | midsize |\n",
       "| chevrolet | c1500 suburban 2wd | 5.3 | 2008 | 8 | auto(l4)   | r | 14 | 20 | r | suv     |\n",
       "| chevrolet | c1500 suburban 2wd | 5.3 | 2008 | 8 | auto(l4)   | r | 11 | 15 | e | suv     |\n",
       "| chevrolet | c1500 suburban 2wd | 5.3 | 2008 | 8 | auto(l4)   | r | 14 | 20 | r | suv     |\n",
       "| chevrolet | c1500 suburban 2wd | 5.7 | 1999 | 8 | auto(l4)   | r | 13 | 17 | r | suv     |\n",
       "| chevrolet | c1500 suburban 2wd | 6.0 | 2008 | 8 | auto(l4)   | r | 12 | 17 | r | suv     |\n",
       "| chevrolet | corvette           | 5.7 | 1999 | 8 | manual(m6) | r | 16 | 26 | p | 2seater |\n",
       "| chevrolet | corvette           | 5.7 | 1999 | 8 | auto(l4)   | r | 15 | 23 | p | 2seater |\n",
       "| chevrolet | corvette           | 6.2 | 2008 | 8 | manual(m6) | r | 16 | 26 | p | 2seater |\n",
       "| chevrolet | corvette           | 6.2 | 2008 | 8 | auto(s6)   | r | 15 | 25 | p | 2seater |\n",
       "| chevrolet | corvette           | 7.0 | 2008 | 8 | manual(m6) | r | 15 | 24 | p | 2seater |\n",
       "| chevrolet | k1500 tahoe 4wd    | 5.3 | 2008 | 8 | auto(l4)   | 4 | 14 | 19 | r | suv     |\n",
       "| chevrolet | k1500 tahoe 4wd    | 5.3 | 2008 | 8 | auto(l4)   | 4 | 11 | 14 | e | suv     |\n",
       "| ⋮ | ⋮ | ⋮ | ⋮ | ⋮ | ⋮ | ⋮ | ⋮ | ⋮ | ⋮ | ⋮ |\n",
       "| toyota     | toyota tacoma 4wd | 3.4 | 1999 | 6 | auto(l4)   | 4 | 15 | 19 | r | pickup     |\n",
       "| toyota     | toyota tacoma 4wd | 4.0 | 2008 | 6 | manual(m6) | 4 | 15 | 18 | r | pickup     |\n",
       "| toyota     | toyota tacoma 4wd | 4.0 | 2008 | 6 | auto(l5)   | 4 | 16 | 20 | r | pickup     |\n",
       "| volkswagen | gti               | 2.0 | 1999 | 4 | manual(m5) | f | 21 | 29 | r | compact    |\n",
       "| volkswagen | gti               | 2.0 | 1999 | 4 | auto(l4)   | f | 19 | 26 | r | compact    |\n",
       "| volkswagen | gti               | 2.0 | 2008 | 4 | manual(m6) | f | 21 | 29 | p | compact    |\n",
       "| volkswagen | gti               | 2.0 | 2008 | 4 | auto(s6)   | f | 22 | 29 | p | compact    |\n",
       "| volkswagen | gti               | 2.8 | 1999 | 6 | manual(m5) | f | 17 | 24 | r | compact    |\n",
       "| volkswagen | jetta             | 1.9 | 1999 | 4 | manual(m5) | f | 33 | 44 | d | compact    |\n",
       "| volkswagen | jetta             | 2.0 | 1999 | 4 | manual(m5) | f | 21 | 29 | r | compact    |\n",
       "| volkswagen | jetta             | 2.0 | 1999 | 4 | auto(l4)   | f | 19 | 26 | r | compact    |\n",
       "| volkswagen | jetta             | 2.0 | 2008 | 4 | auto(s6)   | f | 22 | 29 | p | compact    |\n",
       "| volkswagen | jetta             | 2.0 | 2008 | 4 | manual(m6) | f | 21 | 29 | p | compact    |\n",
       "| volkswagen | jetta             | 2.5 | 2008 | 5 | auto(s6)   | f | 21 | 29 | r | compact    |\n",
       "| volkswagen | jetta             | 2.5 | 2008 | 5 | manual(m5) | f | 21 | 29 | r | compact    |\n",
       "| volkswagen | jetta             | 2.8 | 1999 | 6 | auto(l4)   | f | 16 | 23 | r | compact    |\n",
       "| volkswagen | jetta             | 2.8 | 1999 | 6 | manual(m5) | f | 17 | 24 | r | compact    |\n",
       "| volkswagen | new beetle        | 1.9 | 1999 | 4 | manual(m5) | f | 35 | 44 | d | subcompact |\n",
       "| volkswagen | new beetle        | 1.9 | 1999 | 4 | auto(l4)   | f | 29 | 41 | d | subcompact |\n",
       "| volkswagen | new beetle        | 2.0 | 1999 | 4 | manual(m5) | f | 21 | 29 | r | subcompact |\n",
       "| volkswagen | new beetle        | 2.0 | 1999 | 4 | auto(l4)   | f | 19 | 26 | r | subcompact |\n",
       "| volkswagen | new beetle        | 2.5 | 2008 | 5 | manual(m5) | f | 20 | 28 | r | subcompact |\n",
       "| volkswagen | new beetle        | 2.5 | 2008 | 5 | auto(s6)   | f | 20 | 29 | r | subcompact |\n",
       "| volkswagen | passat            | 1.8 | 1999 | 4 | manual(m5) | f | 21 | 29 | p | midsize    |\n",
       "| volkswagen | passat            | 1.8 | 1999 | 4 | auto(l5)   | f | 18 | 29 | p | midsize    |\n",
       "| volkswagen | passat            | 2.0 | 2008 | 4 | auto(s6)   | f | 19 | 28 | p | midsize    |\n",
       "| volkswagen | passat            | 2.0 | 2008 | 4 | manual(m6) | f | 21 | 29 | p | midsize    |\n",
       "| volkswagen | passat            | 2.8 | 1999 | 6 | auto(l5)   | f | 16 | 26 | p | midsize    |\n",
       "| volkswagen | passat            | 2.8 | 1999 | 6 | manual(m5) | f | 18 | 26 | p | midsize    |\n",
       "| volkswagen | passat            | 3.6 | 2008 | 6 | auto(s6)   | f | 17 | 26 | p | midsize    |\n",
       "\n"
      ],
      "text/plain": [
       "    manufacturer model              displ year cyl trans      drv cty hwy fl\n",
       "1   audi         a4                 1.8   1999 4   auto(l5)   f   18  29  p \n",
       "2   audi         a4                 1.8   1999 4   manual(m5) f   21  29  p \n",
       "3   audi         a4                 2.0   2008 4   manual(m6) f   20  31  p \n",
       "4   audi         a4                 2.0   2008 4   auto(av)   f   21  30  p \n",
       "5   audi         a4                 2.8   1999 6   auto(l5)   f   16  26  p \n",
       "6   audi         a4                 2.8   1999 6   manual(m5) f   18  26  p \n",
       "7   audi         a4                 3.1   2008 6   auto(av)   f   18  27  p \n",
       "8   audi         a4 quattro         1.8   1999 4   manual(m5) 4   18  26  p \n",
       "9   audi         a4 quattro         1.8   1999 4   auto(l5)   4   16  25  p \n",
       "10  audi         a4 quattro         2.0   2008 4   manual(m6) 4   20  28  p \n",
       "11  audi         a4 quattro         2.0   2008 4   auto(s6)   4   19  27  p \n",
       "12  audi         a4 quattro         2.8   1999 6   auto(l5)   4   15  25  p \n",
       "13  audi         a4 quattro         2.8   1999 6   manual(m5) 4   17  25  p \n",
       "14  audi         a4 quattro         3.1   2008 6   auto(s6)   4   17  25  p \n",
       "15  audi         a4 quattro         3.1   2008 6   manual(m6) 4   15  25  p \n",
       "16  audi         a6 quattro         2.8   1999 6   auto(l5)   4   15  24  p \n",
       "17  audi         a6 quattro         3.1   2008 6   auto(s6)   4   17  25  p \n",
       "18  audi         a6 quattro         4.2   2008 8   auto(s6)   4   16  23  p \n",
       "19  chevrolet    c1500 suburban 2wd 5.3   2008 8   auto(l4)   r   14  20  r \n",
       "20  chevrolet    c1500 suburban 2wd 5.3   2008 8   auto(l4)   r   11  15  e \n",
       "21  chevrolet    c1500 suburban 2wd 5.3   2008 8   auto(l4)   r   14  20  r \n",
       "22  chevrolet    c1500 suburban 2wd 5.7   1999 8   auto(l4)   r   13  17  r \n",
       "23  chevrolet    c1500 suburban 2wd 6.0   2008 8   auto(l4)   r   12  17  r \n",
       "24  chevrolet    corvette           5.7   1999 8   manual(m6) r   16  26  p \n",
       "25  chevrolet    corvette           5.7   1999 8   auto(l4)   r   15  23  p \n",
       "26  chevrolet    corvette           6.2   2008 8   manual(m6) r   16  26  p \n",
       "27  chevrolet    corvette           6.2   2008 8   auto(s6)   r   15  25  p \n",
       "28  chevrolet    corvette           7.0   2008 8   manual(m6) r   15  24  p \n",
       "29  chevrolet    k1500 tahoe 4wd    5.3   2008 8   auto(l4)   4   14  19  r \n",
       "30  chevrolet    k1500 tahoe 4wd    5.3   2008 8   auto(l4)   4   11  14  e \n",
       "<U+22EE>   <U+22EE>     <U+22EE>           <U+22EE> <U+22EE> <U+22EE> <U+22EE>   <U+22EE> <U+22EE> <U+22EE> <U+22EE>\n",
       "205 toyota       toyota tacoma 4wd  3.4   1999 6   auto(l4)   4   15  19  r \n",
       "206 toyota       toyota tacoma 4wd  4.0   2008 6   manual(m6) 4   15  18  r \n",
       "207 toyota       toyota tacoma 4wd  4.0   2008 6   auto(l5)   4   16  20  r \n",
       "208 volkswagen   gti                2.0   1999 4   manual(m5) f   21  29  r \n",
       "209 volkswagen   gti                2.0   1999 4   auto(l4)   f   19  26  r \n",
       "210 volkswagen   gti                2.0   2008 4   manual(m6) f   21  29  p \n",
       "211 volkswagen   gti                2.0   2008 4   auto(s6)   f   22  29  p \n",
       "212 volkswagen   gti                2.8   1999 6   manual(m5) f   17  24  r \n",
       "213 volkswagen   jetta              1.9   1999 4   manual(m5) f   33  44  d \n",
       "214 volkswagen   jetta              2.0   1999 4   manual(m5) f   21  29  r \n",
       "215 volkswagen   jetta              2.0   1999 4   auto(l4)   f   19  26  r \n",
       "216 volkswagen   jetta              2.0   2008 4   auto(s6)   f   22  29  p \n",
       "217 volkswagen   jetta              2.0   2008 4   manual(m6) f   21  29  p \n",
       "218 volkswagen   jetta              2.5   2008 5   auto(s6)   f   21  29  r \n",
       "219 volkswagen   jetta              2.5   2008 5   manual(m5) f   21  29  r \n",
       "220 volkswagen   jetta              2.8   1999 6   auto(l4)   f   16  23  r \n",
       "221 volkswagen   jetta              2.8   1999 6   manual(m5) f   17  24  r \n",
       "222 volkswagen   new beetle         1.9   1999 4   manual(m5) f   35  44  d \n",
       "223 volkswagen   new beetle         1.9   1999 4   auto(l4)   f   29  41  d \n",
       "224 volkswagen   new beetle         2.0   1999 4   manual(m5) f   21  29  r \n",
       "225 volkswagen   new beetle         2.0   1999 4   auto(l4)   f   19  26  r \n",
       "226 volkswagen   new beetle         2.5   2008 5   manual(m5) f   20  28  r \n",
       "227 volkswagen   new beetle         2.5   2008 5   auto(s6)   f   20  29  r \n",
       "228 volkswagen   passat             1.8   1999 4   manual(m5) f   21  29  p \n",
       "229 volkswagen   passat             1.8   1999 4   auto(l5)   f   18  29  p \n",
       "230 volkswagen   passat             2.0   2008 4   auto(s6)   f   19  28  p \n",
       "231 volkswagen   passat             2.0   2008 4   manual(m6) f   21  29  p \n",
       "232 volkswagen   passat             2.8   1999 6   auto(l5)   f   16  26  p \n",
       "233 volkswagen   passat             2.8   1999 6   manual(m5) f   18  26  p \n",
       "234 volkswagen   passat             3.6   2008 6   auto(s6)   f   17  26  p \n",
       "    class     \n",
       "1   compact   \n",
       "2   compact   \n",
       "3   compact   \n",
       "4   compact   \n",
       "5   compact   \n",
       "6   compact   \n",
       "7   compact   \n",
       "8   compact   \n",
       "9   compact   \n",
       "10  compact   \n",
       "11  compact   \n",
       "12  compact   \n",
       "13  compact   \n",
       "14  compact   \n",
       "15  compact   \n",
       "16  midsize   \n",
       "17  midsize   \n",
       "18  midsize   \n",
       "19  suv       \n",
       "20  suv       \n",
       "21  suv       \n",
       "22  suv       \n",
       "23  suv       \n",
       "24  2seater   \n",
       "25  2seater   \n",
       "26  2seater   \n",
       "27  2seater   \n",
       "28  2seater   \n",
       "29  suv       \n",
       "30  suv       \n",
       "<U+22EE>   <U+22EE>  \n",
       "205 pickup    \n",
       "206 pickup    \n",
       "207 pickup    \n",
       "208 compact   \n",
       "209 compact   \n",
       "210 compact   \n",
       "211 compact   \n",
       "212 compact   \n",
       "213 compact   \n",
       "214 compact   \n",
       "215 compact   \n",
       "216 compact   \n",
       "217 compact   \n",
       "218 compact   \n",
       "219 compact   \n",
       "220 compact   \n",
       "221 compact   \n",
       "222 subcompact\n",
       "223 subcompact\n",
       "224 subcompact\n",
       "225 subcompact\n",
       "226 subcompact\n",
       "227 subcompact\n",
       "228 midsize   \n",
       "229 midsize   \n",
       "230 midsize   \n",
       "231 midsize   \n",
       "232 midsize   \n",
       "233 midsize   \n",
       "234 midsize   "
      ]
     },
     "metadata": {},
     "output_type": "display_data"
    }
   ],
   "source": [
    "mpg"
   ]
  },
  {
   "cell_type": "code",
   "execution_count": 424,
   "id": "339631a7-dc44-4684-beb6-3f8ce283f8df",
   "metadata": {},
   "outputs": [
    {
     "data": {
      "image/png": "[encoded data removed]",
      "text/plain": [
       "plot without title"
      ]
     },
     "metadata": {
      "image/png": {
       "height": 420,
       "width": 420
      }
     },
     "output_type": "display_data"
    }
   ],
   "source": [
    "ggplot(data = mpg) +\n",
    "    geom_point(mapping = aes(x = displ, y = hwy))"
   ]
  },
  {
   "cell_type": "code",
   "execution_count": 425,
   "id": "582d948a-1bbc-4fbd-bc00-d61d7494cdd2",
   "metadata": {},
   "outputs": [
    {
     "data": {
      "image/png": "[encoded data removed]",
      "text/plain": [
       "plot without title"
      ]
     },
     "metadata": {
      "image/png": {
       "height": 420,
       "width": 420
      }
     },
     "output_type": "display_data"
    }
   ],
   "source": [
    "ggplot(data = mpg)"
   ]
  },
  {
   "cell_type": "code",
   "execution_count": 426,
   "id": "91c2e874-b042-4c41-bdbb-0ea051550794",
   "metadata": {},
   "outputs": [
    {
     "data": {
      "text/html": [
       "11"
      ],
      "text/latex": [
       "11"
      ],
      "text/markdown": [
       "11"
      ],
      "text/plain": [
       "[1] 11"
      ]
     },
     "metadata": {},
     "output_type": "display_data"
    }
   ],
   "source": [
    "mpg %>% length"
   ]
  },
  {
   "cell_type": "code",
   "execution_count": 427,
   "id": "ca3cb38a-bff2-4ce0-b336-a7a020d101d5",
   "metadata": {},
   "outputs": [
    {
     "data": {
      "text/html": [
       "<table class=\"dataframe\">\n",
       "<caption>A tibble: 1 × 1</caption>\n",
       "<thead>\n",
       "\t<tr><th scope=col>n</th></tr>\n",
       "\t<tr><th scope=col>&lt;int&gt;</th></tr>\n",
       "</thead>\n",
       "<tbody>\n",
       "\t<tr><td>234</td></tr>\n",
       "</tbody>\n",
       "</table>\n"
      ],
      "text/latex": [
       "A tibble: 1 × 1\n",
       "\\begin{tabular}{l}\n",
       " n\\\\\n",
       " <int>\\\\\n",
       "\\hline\n",
       "\t 234\\\\\n",
       "\\end{tabular}\n"
      ],
      "text/markdown": [
       "\n",
       "A tibble: 1 × 1\n",
       "\n",
       "| n &lt;int&gt; |\n",
       "|---|\n",
       "| 234 |\n",
       "\n"
      ],
      "text/plain": [
       "  n  \n",
       "1 234"
      ]
     },
     "metadata": {},
     "output_type": "display_data"
    }
   ],
   "source": [
    "mpg %>% count"
   ]
  },
  {
   "cell_type": "code",
   "execution_count": 428,
   "id": "1a08d838-0bba-4d96-880d-d1ceb1c646e2",
   "metadata": {},
   "outputs": [
    {
     "data": {
      "image/png": "[encoded data removed]",
      "text/plain": [
       "plot without title"
      ]
     },
     "metadata": {
      "image/png": {
       "height": 420,
       "width": 420
      }
     },
     "output_type": "display_data"
    }
   ],
   "source": [
    "ggplot(data = mpg) +\n",
    "    geom_point(mapping = aes(x = hwy, y = cyl))"
   ]
  },
  {
   "cell_type": "code",
   "execution_count": 429,
   "id": "7c9d1e67-e5e9-453c-b2db-1c08cce40ffd",
   "metadata": {},
   "outputs": [
    {
     "data": {
      "image/png": "[encoded data removed]",
      "text/plain": [
       "plot without title"
      ]
     },
     "metadata": {
      "image/png": {
       "height": 420,
       "width": 420
      }
     },
     "output_type": "display_data"
    }
   ],
   "source": [
    "ggplot(data = mpg) +\n",
    "    geom_point(mapping = aes(x = class, y = drv))"
   ]
  },
  {
   "cell_type": "code",
   "execution_count": 430,
   "id": "dc54e4c4-599c-4670-bf44-3b092f635e0f",
   "metadata": {},
   "outputs": [
    {
     "data": {
      "image/png": "[encoded data removed]",
      "text/plain": [
       "plot without title"
      ]
     },
     "metadata": {
      "image/png": {
       "height": 420,
       "width": 420
      }
     },
     "output_type": "display_data"
    }
   ],
   "source": [
    "ggplot(data = mpg) +\n",
    "    geom_point(mapping = aes(x = displ, y = hwy, color = class))"
   ]
  },
  {
   "cell_type": "code",
   "execution_count": 431,
   "id": "78ac5797-2c38-4714-868f-88e80f8c2768",
   "metadata": {},
   "outputs": [
    {
     "name": "stderr",
     "output_type": "stream",
     "text": [
      "Warning message:\n",
      "\"Using size for a discrete variable is not advised.\"\n"
     ]
    },
    {
     "data": {
      "image/png": "[encoded data removed]",
      "text/plain": [
       "plot without title"
      ]
     },
     "metadata": {
      "image/png": {
       "height": 420,
       "width": 420
      }
     },
     "output_type": "display_data"
    }
   ],
   "source": [
    "ggplot(data = mpg) +\n",
    "    geom_point(mapping = aes(x = displ, y = hwy, size = class))"
   ]
  },
  {
   "cell_type": "code",
   "execution_count": 432,
   "id": "4793a971-a32c-43c4-bf2a-39bb875247fe",
   "metadata": {},
   "outputs": [
    {
     "name": "stderr",
     "output_type": "stream",
     "text": [
      "Warning message:\n",
      "\"Using alpha for a discrete variable is not advised.\"\n"
     ]
    },
    {
     "data": {
      "image/png": "[encoded data removed]",
      "text/plain": [
       "plot without title"
      ]
     },
     "metadata": {
      "image/png": {
       "height": 420,
       "width": 420
      }
     },
     "output_type": "display_data"
    }
   ],
   "source": [
    "ggplot(data = mpg) +\n",
    "    geom_point(mapping = aes(x = displ, y = hwy, alpha = class))"
   ]
  },
  {
   "cell_type": "code",
   "execution_count": 433,
   "id": "b03244ba-88ba-4626-8f1b-cfd83a156ba7",
   "metadata": {},
   "outputs": [
    {
     "name": "stderr",
     "output_type": "stream",
     "text": [
      "Warning message:\n",
      "\"The shape palette can deal with a maximum of 6 discrete values because\n",
      "more than 6 becomes difficult to discriminate; you have 7. Consider\n",
      "specifying shapes manually if you must have them.\"\n",
      "Warning message:\n",
      "\"Removed 62 rows containing missing values (geom_point).\"\n"
     ]
    },
    {
     "data": {
      "image/png": "[encoded data removed]",
      "text/plain": [
       "plot without title"
      ]
     },
     "metadata": {
      "image/png": {
       "height": 420,
       "width": 420
      }
     },
     "output_type": "display_data"
    }
   ],
   "source": [
    "ggplot(data = mpg) +\n",
    "    geom_point(mapping = aes(x = displ, y = hwy, shape = class))"
   ]
  },
  {
   "cell_type": "code",
   "execution_count": 434,
   "id": "d2bdcfc2-843b-490b-94d3-77b8a2c57064",
   "metadata": {},
   "outputs": [
    {
     "data": {
      "image/png": "[encoded data removed]",
      "text/plain": [
       "plot without title"
      ]
     },
     "metadata": {
      "image/png": {
       "height": 420,
       "width": 420
      }
     },
     "output_type": "display_data"
    }
   ],
   "source": [
    "ggplot(data = mpg) +\n",
    "    geom_point(mapping = aes(x = displ, y = hwy), color = \"blue\")"
   ]
  },
  {
   "cell_type": "code",
   "execution_count": 435,
   "id": "a4782488-c67c-478f-b441-67575e359bf5",
   "metadata": {},
   "outputs": [
    {
     "data": {
      "image/png": "[encoded data removed]",
      "text/plain": [
       "plot without title"
      ]
     },
     "metadata": {
      "image/png": {
       "height": 420,
       "width": 420
      }
     },
     "output_type": "display_data"
    }
   ],
   "source": [
    "ggplot(data = mpg) +\n",
    "    geom_point(mapping = aes(x = displ, y = hwy)) +\n",
    "    facet_wrap(~ class, nrow = 2)"
   ]
  },
  {
   "cell_type": "code",
   "execution_count": 436,
   "id": "99765b35-057e-4305-a897-2ed70d2fb094",
   "metadata": {},
   "outputs": [
    {
     "data": {
      "image/png": "[encoded data removed]",
      "text/plain": [
       "plot without title"
      ]
     },
     "metadata": {
      "image/png": {
       "height": 420,
       "width": 420
      }
     },
     "output_type": "display_data"
    }
   ],
   "source": [
    "ggplot(data = mpg) +\n",
    "    geom_point(mapping = aes(x = displ, y = hwy)) +\n",
    "    facet_grid(drv ~ cyl)"
   ]
  },
  {
   "cell_type": "code",
   "execution_count": 437,
   "id": "167fb408-84a8-45e3-beef-c877d132c671",
   "metadata": {},
   "outputs": [
    {
     "data": {
      "image/png": "[encoded data removed]",
      "text/plain": [
       "plot without title"
      ]
     },
     "metadata": {
      "image/png": {
       "height": 420,
       "width": 420
      }
     },
     "output_type": "display_data"
    }
   ],
   "source": [
    "ggplot(data = mpg) +\n",
    "    geom_point(mapping = aes(x = displ, y = hwy)) +\n",
    "    facet_grid(drv ~ .)"
   ]
  },
  {
   "cell_type": "code",
   "execution_count": 438,
   "id": "aca7f0c3-789d-4c2e-83f9-efd9fbaa26a3",
   "metadata": {},
   "outputs": [
    {
     "data": {
      "image/png": "[encoded data removed]",
      "text/plain": [
       "plot without title"
      ]
     },
     "metadata": {
      "image/png": {
       "height": 420,
       "width": 420
      }
     },
     "output_type": "display_data"
    }
   ],
   "source": [
    "ggplot(data = mpg) +\n",
    "    geom_point(mapping = aes(x = displ, y = hwy)) +\n",
    "    facet_grid(. ~ cyl)"
   ]
  },
  {
   "cell_type": "code",
   "execution_count": 439,
   "id": "3cdbeb47-9f1f-4b4e-8a9a-15ea6a61f683",
   "metadata": {},
   "outputs": [
    {
     "name": "stderr",
     "output_type": "stream",
     "text": [
      "`geom_smooth()` using method = 'loess' and formula 'y ~ x'\n",
      "\n"
     ]
    },
    {
     "data": {
      "image/png": "[encoded data removed]",
      "text/plain": [
       "plot without title"
      ]
     },
     "metadata": {
      "image/png": {
       "height": 420,
       "width": 420
      }
     },
     "output_type": "display_data"
    }
   ],
   "source": [
    "ggplot(data = mpg) +\n",
    "    geom_smooth(mapping = aes(x = displ, y = hwy))"
   ]
  },
  {
   "cell_type": "code",
   "execution_count": 440,
   "id": "07d815f7-d5ab-4dfb-9031-7744088cf5a5",
   "metadata": {},
   "outputs": [
    {
     "name": "stderr",
     "output_type": "stream",
     "text": [
      "`geom_smooth()` using method = 'loess' and formula 'y ~ x'\n",
      "\n"
     ]
    },
    {
     "data": {
      "image/png": "[encoded data removed]",
      "text/plain": [
       "plot without title"
      ]
     },
     "metadata": {
      "image/png": {
       "height": 420,
       "width": 420
      }
     },
     "output_type": "display_data"
    }
   ],
   "source": [
    "ggplot(data = mpg) +\n",
    "    geom_smooth(mapping = aes(x = displ, y = hwy, linetype = drv))"
   ]
  },
  {
   "cell_type": "code",
   "execution_count": 441,
   "id": "a5db43cd-c900-4fc6-b43e-c3283cd49fd6",
   "metadata": {},
   "outputs": [
    {
     "name": "stderr",
     "output_type": "stream",
     "text": [
      "`geom_smooth()` using method = 'loess' and formula 'y ~ x'\n",
      "\n"
     ]
    },
    {
     "data": {
      "image/png": "[encoded data removed]",
      "text/plain": [
       "plot without title"
      ]
     },
     "metadata": {
      "image/png": {
       "height": 420,
       "width": 420
      }
     },
     "output_type": "display_data"
    }
   ],
   "source": [
    "ggplot(data = mpg) +\n",
    "    geom_smooth(mapping = aes(x = displ, y = hwy, group = drv))"
   ]
  },
  {
   "cell_type": "code",
   "execution_count": 442,
   "id": "e163d5e2-fb70-4ff2-9dbd-5d0e7dd0ce29",
   "metadata": {},
   "outputs": [
    {
     "name": "stderr",
     "output_type": "stream",
     "text": [
      "`geom_smooth()` using method = 'loess' and formula 'y ~ x'\n",
      "\n"
     ]
    },
    {
     "data": {
      "image/png": "[encoded data removed]",
      "text/plain": [
       "plot without title"
      ]
     },
     "metadata": {
      "image/png": {
       "height": 420,
       "width": 420
      }
     },
     "output_type": "display_data"
    }
   ],
   "source": [
    "ggplot(data = mpg) +\n",
    "    geom_smooth(mapping = aes(x = displ, y = hwy, color = drv))"
   ]
  },
  {
   "cell_type": "code",
   "execution_count": 443,
   "id": "307dc4a6-f44b-4168-b7cc-d01aa5a8891f",
   "metadata": {},
   "outputs": [
    {
     "name": "stderr",
     "output_type": "stream",
     "text": [
      "`geom_smooth()` using method = 'loess' and formula 'y ~ x'\n",
      "\n"
     ]
    },
    {
     "data": {
      "image/png": "[encoded data removed]",
      "text/plain": [
       "plot without title"
      ]
     },
     "metadata": {
      "image/png": {
       "height": 420,
       "width": 420
      }
     },
     "output_type": "display_data"
    }
   ],
   "source": [
    "ggplot(data = mpg) +\n",
    "    geom_point(mapping = aes(x = displ, y = hwy)) +\n",
    "    geom_smooth(mapping = aes(x = displ, y = hwy))"
   ]
  },
  {
   "cell_type": "code",
   "execution_count": 444,
   "id": "2aef2a38-ed6b-46cd-a718-50328ee734d2",
   "metadata": {},
   "outputs": [
    {
     "name": "stderr",
     "output_type": "stream",
     "text": [
      "`geom_smooth()` using method = 'loess' and formula 'y ~ x'\n",
      "\n"
     ]
    },
    {
     "data": {
      "image/png": "[encoded data removed]",
      "text/plain": [
       "plot without title"
      ]
     },
     "metadata": {
      "image/png": {
       "height": 420,
       "width": 420
      }
     },
     "output_type": "display_data"
    }
   ],
   "source": [
    "ggplot(data = mpg, mapping = aes(x = displ, y = hwy)) +\n",
    "    geom_point() +\n",
    "    geom_smooth()"
   ]
  },
  {
   "cell_type": "code",
   "execution_count": 445,
   "id": "b7791742-70e0-488f-b2cb-1b223e263e9c",
   "metadata": {},
   "outputs": [
    {
     "name": "stderr",
     "output_type": "stream",
     "text": [
      "`geom_smooth()` using method = 'loess' and formula 'y ~ x'\n",
      "\n"
     ]
    },
    {
     "data": {
      "image/png": "[encoded data removed]",
      "text/plain": [
       "plot without title"
      ]
     },
     "metadata": {
      "image/png": {
       "height": 420,
       "width": 420
      }
     },
     "output_type": "display_data"
    }
   ],
   "source": [
    "ggplot(data = mpg, mapping = aes(x = displ, y = hwy)) +\n",
    "    geom_point(mapping = aes(color = class)) +\n",
    "    geom_smooth()"
   ]
  },
  {
   "cell_type": "code",
   "execution_count": 446,
   "id": "b00fbbdc-38c3-40b2-bc5f-be9a645b5acb",
   "metadata": {},
   "outputs": [
    {
     "name": "stderr",
     "output_type": "stream",
     "text": [
      "`geom_smooth()` using method = 'loess' and formula 'y ~ x'\n",
      "\n"
     ]
    },
    {
     "data": {
      "image/png": "[encoded data removed]",
      "text/plain": [
       "plot without title"
      ]
     },
     "metadata": {
      "image/png": {
       "height": 420,
       "width": 420
      }
     },
     "output_type": "display_data"
    }
   ],
   "source": [
    "ggplot(data = mpg, mapping = aes(x = displ, y = hwy)) +\n",
    "    geom_point(mapping = aes(color = class)) +\n",
    "    geom_smooth(data = filter(mpg, class == \"subcompact\"), se = FALSE)"
   ]
  },
  {
   "cell_type": "code",
   "execution_count": 447,
   "id": "12d583e0-29e1-4b03-ab3a-09ffe0fcd40c",
   "metadata": {},
   "outputs": [
    {
     "name": "stderr",
     "output_type": "stream",
     "text": [
      "`geom_smooth()` using method = 'loess' and formula 'y ~ x'\n",
      "\n"
     ]
    },
    {
     "data": {
      "image/png": "[encoded data removed]",
      "text/plain": [
       "plot without title"
      ]
     },
     "metadata": {
      "image/png": {
       "height": 420,
       "width": 420
      }
     },
     "output_type": "display_data"
    }
   ],
   "source": [
    "ggplot(data = mpg, mapping = aes(x = displ, y = hwy)) +\n",
    "    geom_point(size = 5) +\n",
    "    geom_smooth(color = \"blue\", se = FALSE, size = 3)"
   ]
  },
  {
   "cell_type": "code",
   "execution_count": 448,
   "id": "a0ce05ba-161c-4b8f-ae31-cb7478c13fa6",
   "metadata": {},
   "outputs": [
    {
     "name": "stderr",
     "output_type": "stream",
     "text": [
      "`geom_smooth()` using method = 'loess' and formula 'y ~ x'\n",
      "\n"
     ]
    },
    {
     "data": {
      "image/png": "[encoded data removed]",
      "text/plain": [
       "plot without title"
      ]
     },
     "metadata": {
      "image/png": {
       "height": 420,
       "width": 420
      }
     },
     "output_type": "display_data"
    }
   ],
   "source": [
    "ggplot(data = mpg, mapping = aes(x = displ, y = hwy)) +\n",
    "    geom_smooth(mapping = aes(group = drv), color = \"blue\", size = 3, se = FALSE) +\n",
    "    geom_point(size = 3)\n",
    "    "
   ]
  },
  {
   "cell_type": "code",
   "execution_count": 449,
   "id": "e60d8c16-5847-4855-ab85-eea0da6fb291",
   "metadata": {},
   "outputs": [
    {
     "name": "stderr",
     "output_type": "stream",
     "text": [
      "`geom_smooth()` using method = 'loess' and formula 'y ~ x'\n",
      "\n"
     ]
    },
    {
     "data": {
      "image/png": "[encoded data removed]",
      "text/plain": [
       "plot without title"
      ]
     },
     "metadata": {
      "image/png": {
       "height": 420,
       "width": 420
      }
     },
     "output_type": "display_data"
    }
   ],
   "source": [
    "ggplot(data = mpg, mapping = aes(x = displ, y = hwy, color = drv)) +\n",
    "    geom_smooth(size = 3, se = FALSE) +\n",
    "    geom_point(size = 3)"
   ]
  },
  {
   "cell_type": "code",
   "execution_count": 450,
   "id": "a5a379fc-cfa0-4563-af93-a54fb2acfd38",
   "metadata": {},
   "outputs": [
    {
     "name": "stderr",
     "output_type": "stream",
     "text": [
      "`geom_smooth()` using method = 'loess' and formula 'y ~ x'\n",
      "\n"
     ]
    },
    {
     "data": {
      "image/png": "[encoded data removed]",
      "text/plain": [
       "plot without title"
      ]
     },
     "metadata": {
      "image/png": {
       "height": 420,
       "width": 420
      }
     },
     "output_type": "display_data"
    }
   ],
   "source": [
    "ggplot(data = mpg, mapping = aes(x = displ, y = hwy)) +\n",
    "    geom_smooth(size = 3, se = FALSE) +\n",
    "    geom_point(mapping = aes(color = drv), size = 3)"
   ]
  },
  {
   "cell_type": "code",
   "execution_count": 451,
   "id": "764091ac-cf20-4163-8b96-df38902b41a0",
   "metadata": {},
   "outputs": [
    {
     "name": "stderr",
     "output_type": "stream",
     "text": [
      "`geom_smooth()` using method = 'loess' and formula 'y ~ x'\n",
      "\n"
     ]
    },
    {
     "data": {
      "image/png": "[encoded data removed]",
      "text/plain": [
       "plot without title"
      ]
     },
     "metadata": {
      "image/png": {
       "height": 420,
       "width": 420
      }
     },
     "output_type": "display_data"
    }
   ],
   "source": [
    "ggplot(data = mpg, mapping = aes(x = displ, y = hwy)) +\n",
    "    geom_smooth(mapping = aes(linetype = drv), size = 3, se = FALSE) +\n",
    "    geom_point(mapping = aes(color = drv), size = 3)"
   ]
  },
  {
   "cell_type": "code",
   "execution_count": 452,
   "id": "4420db88-b63b-4bf7-94dc-4269d1fa3f31",
   "metadata": {},
   "outputs": [
    {
     "data": {
      "image/png": "[encoded data removed]",
      "text/plain": [
       "plot without title"
      ]
     },
     "metadata": {
      "image/png": {
       "height": 420,
       "width": 420
      }
     },
     "output_type": "display_data"
    }
   ],
   "source": [
    "ggplot(data = mpg, mapping = aes(x = displ, y = hwy)) +\n",
    "    geom_point(mapping = aes(fill = drv), shape = 21, size = 5, stroke = 4, color = \"white\")"
   ]
  },
  {
   "cell_type": "code",
   "execution_count": 453,
   "id": "e36637e2-4840-4b57-ac88-7005de51cb2a",
   "metadata": {},
   "outputs": [
    {
     "data": {
      "text/html": [
       "<table class=\"dataframe\">\n",
       "<caption>A tibble: 53940 × 10</caption>\n",
       "<thead>\n",
       "\t<tr><th scope=col>carat</th><th scope=col>cut</th><th scope=col>color</th><th scope=col>clarity</th><th scope=col>depth</th><th scope=col>table</th><th scope=col>price</th><th scope=col>x</th><th scope=col>y</th><th scope=col>z</th></tr>\n",
       "\t<tr><th scope=col>&lt;dbl&gt;</th><th scope=col>&lt;ord&gt;</th><th scope=col>&lt;ord&gt;</th><th scope=col>&lt;ord&gt;</th><th scope=col>&lt;dbl&gt;</th><th scope=col>&lt;dbl&gt;</th><th scope=col>&lt;int&gt;</th><th scope=col>&lt;dbl&gt;</th><th scope=col>&lt;dbl&gt;</th><th scope=col>&lt;dbl&gt;</th></tr>\n",
       "</thead>\n",
       "<tbody>\n",
       "\t<tr><td>0.23</td><td>Ideal    </td><td>E</td><td>SI2 </td><td>61.5</td><td>55</td><td>326</td><td>3.95</td><td>3.98</td><td>2.43</td></tr>\n",
       "\t<tr><td>0.21</td><td>Premium  </td><td>E</td><td>SI1 </td><td>59.8</td><td>61</td><td>326</td><td>3.89</td><td>3.84</td><td>2.31</td></tr>\n",
       "\t<tr><td>0.23</td><td>Good     </td><td>E</td><td>VS1 </td><td>56.9</td><td>65</td><td>327</td><td>4.05</td><td>4.07</td><td>2.31</td></tr>\n",
       "\t<tr><td>0.29</td><td>Premium  </td><td>I</td><td>VS2 </td><td>62.4</td><td>58</td><td>334</td><td>4.20</td><td>4.23</td><td>2.63</td></tr>\n",
       "\t<tr><td>0.31</td><td>Good     </td><td>J</td><td>SI2 </td><td>63.3</td><td>58</td><td>335</td><td>4.34</td><td>4.35</td><td>2.75</td></tr>\n",
       "\t<tr><td>0.24</td><td>Very Good</td><td>J</td><td>VVS2</td><td>62.8</td><td>57</td><td>336</td><td>3.94</td><td>3.96</td><td>2.48</td></tr>\n",
       "\t<tr><td>0.24</td><td>Very Good</td><td>I</td><td>VVS1</td><td>62.3</td><td>57</td><td>336</td><td>3.95</td><td>3.98</td><td>2.47</td></tr>\n",
       "\t<tr><td>0.26</td><td>Very Good</td><td>H</td><td>SI1 </td><td>61.9</td><td>55</td><td>337</td><td>4.07</td><td>4.11</td><td>2.53</td></tr>\n",
       "\t<tr><td>0.22</td><td>Fair     </td><td>E</td><td>VS2 </td><td>65.1</td><td>61</td><td>337</td><td>3.87</td><td>3.78</td><td>2.49</td></tr>\n",
       "\t<tr><td>0.23</td><td>Very Good</td><td>H</td><td>VS1 </td><td>59.4</td><td>61</td><td>338</td><td>4.00</td><td>4.05</td><td>2.39</td></tr>\n",
       "\t<tr><td>0.30</td><td>Good     </td><td>J</td><td>SI1 </td><td>64.0</td><td>55</td><td>339</td><td>4.25</td><td>4.28</td><td>2.73</td></tr>\n",
       "\t<tr><td>0.23</td><td>Ideal    </td><td>J</td><td>VS1 </td><td>62.8</td><td>56</td><td>340</td><td>3.93</td><td>3.90</td><td>2.46</td></tr>\n",
       "\t<tr><td>0.22</td><td>Premium  </td><td>F</td><td>SI1 </td><td>60.4</td><td>61</td><td>342</td><td>3.88</td><td>3.84</td><td>2.33</td></tr>\n",
       "\t<tr><td>0.31</td><td>Ideal    </td><td>J</td><td>SI2 </td><td>62.2</td><td>54</td><td>344</td><td>4.35</td><td>4.37</td><td>2.71</td></tr>\n",
       "\t<tr><td>0.20</td><td>Premium  </td><td>E</td><td>SI2 </td><td>60.2</td><td>62</td><td>345</td><td>3.79</td><td>3.75</td><td>2.27</td></tr>\n",
       "\t<tr><td>0.32</td><td>Premium  </td><td>E</td><td>I1  </td><td>60.9</td><td>58</td><td>345</td><td>4.38</td><td>4.42</td><td>2.68</td></tr>\n",
       "\t<tr><td>0.30</td><td>Ideal    </td><td>I</td><td>SI2 </td><td>62.0</td><td>54</td><td>348</td><td>4.31</td><td>4.34</td><td>2.68</td></tr>\n",
       "\t<tr><td>0.30</td><td>Good     </td><td>J</td><td>SI1 </td><td>63.4</td><td>54</td><td>351</td><td>4.23</td><td>4.29</td><td>2.70</td></tr>\n",
       "\t<tr><td>0.30</td><td>Good     </td><td>J</td><td>SI1 </td><td>63.8</td><td>56</td><td>351</td><td>4.23</td><td>4.26</td><td>2.71</td></tr>\n",
       "\t<tr><td>0.30</td><td>Very Good</td><td>J</td><td>SI1 </td><td>62.7</td><td>59</td><td>351</td><td>4.21</td><td>4.27</td><td>2.66</td></tr>\n",
       "\t<tr><td>0.30</td><td>Good     </td><td>I</td><td>SI2 </td><td>63.3</td><td>56</td><td>351</td><td>4.26</td><td>4.30</td><td>2.71</td></tr>\n",
       "\t<tr><td>0.23</td><td>Very Good</td><td>E</td><td>VS2 </td><td>63.8</td><td>55</td><td>352</td><td>3.85</td><td>3.92</td><td>2.48</td></tr>\n",
       "\t<tr><td>0.23</td><td>Very Good</td><td>H</td><td>VS1 </td><td>61.0</td><td>57</td><td>353</td><td>3.94</td><td>3.96</td><td>2.41</td></tr>\n",
       "\t<tr><td>0.31</td><td>Very Good</td><td>J</td><td>SI1 </td><td>59.4</td><td>62</td><td>353</td><td>4.39</td><td>4.43</td><td>2.62</td></tr>\n",
       "\t<tr><td>0.31</td><td>Very Good</td><td>J</td><td>SI1 </td><td>58.1</td><td>62</td><td>353</td><td>4.44</td><td>4.47</td><td>2.59</td></tr>\n",
       "\t<tr><td>0.23</td><td>Very Good</td><td>G</td><td>VVS2</td><td>60.4</td><td>58</td><td>354</td><td>3.97</td><td>4.01</td><td>2.41</td></tr>\n",
       "\t<tr><td>0.24</td><td>Premium  </td><td>I</td><td>VS1 </td><td>62.5</td><td>57</td><td>355</td><td>3.97</td><td>3.94</td><td>2.47</td></tr>\n",
       "\t<tr><td>0.30</td><td>Very Good</td><td>J</td><td>VS2 </td><td>62.2</td><td>57</td><td>357</td><td>4.28</td><td>4.30</td><td>2.67</td></tr>\n",
       "\t<tr><td>0.23</td><td>Very Good</td><td>D</td><td>VS2 </td><td>60.5</td><td>61</td><td>357</td><td>3.96</td><td>3.97</td><td>2.40</td></tr>\n",
       "\t<tr><td>0.23</td><td>Very Good</td><td>F</td><td>VS1 </td><td>60.9</td><td>57</td><td>357</td><td>3.96</td><td>3.99</td><td>2.42</td></tr>\n",
       "\t<tr><td>⋮</td><td>⋮</td><td>⋮</td><td>⋮</td><td>⋮</td><td>⋮</td><td>⋮</td><td>⋮</td><td>⋮</td><td>⋮</td></tr>\n",
       "\t<tr><td>0.70</td><td>Premium  </td><td>E</td><td>SI1 </td><td>60.5</td><td>58</td><td>2753</td><td>5.74</td><td>5.77</td><td>3.48</td></tr>\n",
       "\t<tr><td>0.57</td><td>Premium  </td><td>E</td><td>IF  </td><td>59.8</td><td>60</td><td>2753</td><td>5.43</td><td>5.38</td><td>3.23</td></tr>\n",
       "\t<tr><td>0.61</td><td>Premium  </td><td>F</td><td>VVS1</td><td>61.8</td><td>59</td><td>2753</td><td>5.48</td><td>5.40</td><td>3.36</td></tr>\n",
       "\t<tr><td>0.80</td><td>Good     </td><td>G</td><td>VS2 </td><td>64.2</td><td>58</td><td>2753</td><td>5.84</td><td>5.81</td><td>3.74</td></tr>\n",
       "\t<tr><td>0.84</td><td>Good     </td><td>I</td><td>VS1 </td><td>63.7</td><td>59</td><td>2753</td><td>5.94</td><td>5.90</td><td>3.77</td></tr>\n",
       "\t<tr><td>0.77</td><td>Ideal    </td><td>E</td><td>SI2 </td><td>62.1</td><td>56</td><td>2753</td><td>5.84</td><td>5.86</td><td>3.63</td></tr>\n",
       "\t<tr><td>0.74</td><td>Good     </td><td>D</td><td>SI1 </td><td>63.1</td><td>59</td><td>2753</td><td>5.71</td><td>5.74</td><td>3.61</td></tr>\n",
       "\t<tr><td>0.90</td><td>Very Good</td><td>J</td><td>SI1 </td><td>63.2</td><td>60</td><td>2753</td><td>6.12</td><td>6.09</td><td>3.86</td></tr>\n",
       "\t<tr><td>0.76</td><td>Premium  </td><td>I</td><td>VS1 </td><td>59.3</td><td>62</td><td>2753</td><td>5.93</td><td>5.85</td><td>3.49</td></tr>\n",
       "\t<tr><td>0.76</td><td>Ideal    </td><td>I</td><td>VVS1</td><td>62.2</td><td>55</td><td>2753</td><td>5.89</td><td>5.87</td><td>3.66</td></tr>\n",
       "\t<tr><td>0.70</td><td>Very Good</td><td>E</td><td>VS2 </td><td>62.4</td><td>60</td><td>2755</td><td>5.57</td><td>5.61</td><td>3.49</td></tr>\n",
       "\t<tr><td>0.70</td><td>Very Good</td><td>E</td><td>VS2 </td><td>62.8</td><td>60</td><td>2755</td><td>5.59</td><td>5.65</td><td>3.53</td></tr>\n",
       "\t<tr><td>0.70</td><td>Very Good</td><td>D</td><td>VS1 </td><td>63.1</td><td>59</td><td>2755</td><td>5.67</td><td>5.58</td><td>3.55</td></tr>\n",
       "\t<tr><td>0.73</td><td>Ideal    </td><td>I</td><td>VS2 </td><td>61.3</td><td>56</td><td>2756</td><td>5.80</td><td>5.84</td><td>3.57</td></tr>\n",
       "\t<tr><td>0.73</td><td>Ideal    </td><td>I</td><td>VS2 </td><td>61.6</td><td>55</td><td>2756</td><td>5.82</td><td>5.84</td><td>3.59</td></tr>\n",
       "\t<tr><td>0.79</td><td>Ideal    </td><td>I</td><td>SI1 </td><td>61.6</td><td>56</td><td>2756</td><td>5.95</td><td>5.97</td><td>3.67</td></tr>\n",
       "\t<tr><td>0.71</td><td>Ideal    </td><td>E</td><td>SI1 </td><td>61.9</td><td>56</td><td>2756</td><td>5.71</td><td>5.73</td><td>3.54</td></tr>\n",
       "\t<tr><td>0.79</td><td>Good     </td><td>F</td><td>SI1 </td><td>58.1</td><td>59</td><td>2756</td><td>6.06</td><td>6.13</td><td>3.54</td></tr>\n",
       "\t<tr><td>0.79</td><td>Premium  </td><td>E</td><td>SI2 </td><td>61.4</td><td>58</td><td>2756</td><td>6.03</td><td>5.96</td><td>3.68</td></tr>\n",
       "\t<tr><td>0.71</td><td>Ideal    </td><td>G</td><td>VS1 </td><td>61.4</td><td>56</td><td>2756</td><td>5.76</td><td>5.73</td><td>3.53</td></tr>\n",
       "\t<tr><td>0.71</td><td>Premium  </td><td>E</td><td>SI1 </td><td>60.5</td><td>55</td><td>2756</td><td>5.79</td><td>5.74</td><td>3.49</td></tr>\n",
       "\t<tr><td>0.71</td><td>Premium  </td><td>F</td><td>SI1 </td><td>59.8</td><td>62</td><td>2756</td><td>5.74</td><td>5.73</td><td>3.43</td></tr>\n",
       "\t<tr><td>0.70</td><td>Very Good</td><td>E</td><td>VS2 </td><td>60.5</td><td>59</td><td>2757</td><td>5.71</td><td>5.76</td><td>3.47</td></tr>\n",
       "\t<tr><td>0.70</td><td>Very Good</td><td>E</td><td>VS2 </td><td>61.2</td><td>59</td><td>2757</td><td>5.69</td><td>5.72</td><td>3.49</td></tr>\n",
       "\t<tr><td>0.72</td><td>Premium  </td><td>D</td><td>SI1 </td><td>62.7</td><td>59</td><td>2757</td><td>5.69</td><td>5.73</td><td>3.58</td></tr>\n",
       "\t<tr><td>0.72</td><td>Ideal    </td><td>D</td><td>SI1 </td><td>60.8</td><td>57</td><td>2757</td><td>5.75</td><td>5.76</td><td>3.50</td></tr>\n",
       "\t<tr><td>0.72</td><td>Good     </td><td>D</td><td>SI1 </td><td>63.1</td><td>55</td><td>2757</td><td>5.69</td><td>5.75</td><td>3.61</td></tr>\n",
       "\t<tr><td>0.70</td><td>Very Good</td><td>D</td><td>SI1 </td><td>62.8</td><td>60</td><td>2757</td><td>5.66</td><td>5.68</td><td>3.56</td></tr>\n",
       "\t<tr><td>0.86</td><td>Premium  </td><td>H</td><td>SI2 </td><td>61.0</td><td>58</td><td>2757</td><td>6.15</td><td>6.12</td><td>3.74</td></tr>\n",
       "\t<tr><td>0.75</td><td>Ideal    </td><td>D</td><td>SI2 </td><td>62.2</td><td>55</td><td>2757</td><td>5.83</td><td>5.87</td><td>3.64</td></tr>\n",
       "</tbody>\n",
       "</table>\n"
      ],
      "text/latex": [
       "A tibble: 53940 × 10\n",
       "\\begin{tabular}{llllllllll}\n",
       " carat & cut & color & clarity & depth & table & price & x & y & z\\\\\n",
       " <dbl> & <ord> & <ord> & <ord> & <dbl> & <dbl> & <int> & <dbl> & <dbl> & <dbl>\\\\\n",
       "\\hline\n",
       "\t 0.23 & Ideal     & E & SI2  & 61.5 & 55 & 326 & 3.95 & 3.98 & 2.43\\\\\n",
       "\t 0.21 & Premium   & E & SI1  & 59.8 & 61 & 326 & 3.89 & 3.84 & 2.31\\\\\n",
       "\t 0.23 & Good      & E & VS1  & 56.9 & 65 & 327 & 4.05 & 4.07 & 2.31\\\\\n",
       "\t 0.29 & Premium   & I & VS2  & 62.4 & 58 & 334 & 4.20 & 4.23 & 2.63\\\\\n",
       "\t 0.31 & Good      & J & SI2  & 63.3 & 58 & 335 & 4.34 & 4.35 & 2.75\\\\\n",
       "\t 0.24 & Very Good & J & VVS2 & 62.8 & 57 & 336 & 3.94 & 3.96 & 2.48\\\\\n",
       "\t 0.24 & Very Good & I & VVS1 & 62.3 & 57 & 336 & 3.95 & 3.98 & 2.47\\\\\n",
       "\t 0.26 & Very Good & H & SI1  & 61.9 & 55 & 337 & 4.07 & 4.11 & 2.53\\\\\n",
       "\t 0.22 & Fair      & E & VS2  & 65.1 & 61 & 337 & 3.87 & 3.78 & 2.49\\\\\n",
       "\t 0.23 & Very Good & H & VS1  & 59.4 & 61 & 338 & 4.00 & 4.05 & 2.39\\\\\n",
       "\t 0.30 & Good      & J & SI1  & 64.0 & 55 & 339 & 4.25 & 4.28 & 2.73\\\\\n",
       "\t 0.23 & Ideal     & J & VS1  & 62.8 & 56 & 340 & 3.93 & 3.90 & 2.46\\\\\n",
       "\t 0.22 & Premium   & F & SI1  & 60.4 & 61 & 342 & 3.88 & 3.84 & 2.33\\\\\n",
       "\t 0.31 & Ideal     & J & SI2  & 62.2 & 54 & 344 & 4.35 & 4.37 & 2.71\\\\\n",
       "\t 0.20 & Premium   & E & SI2  & 60.2 & 62 & 345 & 3.79 & 3.75 & 2.27\\\\\n",
       "\t 0.32 & Premium   & E & I1   & 60.9 & 58 & 345 & 4.38 & 4.42 & 2.68\\\\\n",
       "\t 0.30 & Ideal     & I & SI2  & 62.0 & 54 & 348 & 4.31 & 4.34 & 2.68\\\\\n",
       "\t 0.30 & Good      & J & SI1  & 63.4 & 54 & 351 & 4.23 & 4.29 & 2.70\\\\\n",
       "\t 0.30 & Good      & J & SI1  & 63.8 & 56 & 351 & 4.23 & 4.26 & 2.71\\\\\n",
       "\t 0.30 & Very Good & J & SI1  & 62.7 & 59 & 351 & 4.21 & 4.27 & 2.66\\\\\n",
       "\t 0.30 & Good      & I & SI2  & 63.3 & 56 & 351 & 4.26 & 4.30 & 2.71\\\\\n",
       "\t 0.23 & Very Good & E & VS2  & 63.8 & 55 & 352 & 3.85 & 3.92 & 2.48\\\\\n",
       "\t 0.23 & Very Good & H & VS1  & 61.0 & 57 & 353 & 3.94 & 3.96 & 2.41\\\\\n",
       "\t 0.31 & Very Good & J & SI1  & 59.4 & 62 & 353 & 4.39 & 4.43 & 2.62\\\\\n",
       "\t 0.31 & Very Good & J & SI1  & 58.1 & 62 & 353 & 4.44 & 4.47 & 2.59\\\\\n",
       "\t 0.23 & Very Good & G & VVS2 & 60.4 & 58 & 354 & 3.97 & 4.01 & 2.41\\\\\n",
       "\t 0.24 & Premium   & I & VS1  & 62.5 & 57 & 355 & 3.97 & 3.94 & 2.47\\\\\n",
       "\t 0.30 & Very Good & J & VS2  & 62.2 & 57 & 357 & 4.28 & 4.30 & 2.67\\\\\n",
       "\t 0.23 & Very Good & D & VS2  & 60.5 & 61 & 357 & 3.96 & 3.97 & 2.40\\\\\n",
       "\t 0.23 & Very Good & F & VS1  & 60.9 & 57 & 357 & 3.96 & 3.99 & 2.42\\\\\n",
       "\t ⋮ & ⋮ & ⋮ & ⋮ & ⋮ & ⋮ & ⋮ & ⋮ & ⋮ & ⋮\\\\\n",
       "\t 0.70 & Premium   & E & SI1  & 60.5 & 58 & 2753 & 5.74 & 5.77 & 3.48\\\\\n",
       "\t 0.57 & Premium   & E & IF   & 59.8 & 60 & 2753 & 5.43 & 5.38 & 3.23\\\\\n",
       "\t 0.61 & Premium   & F & VVS1 & 61.8 & 59 & 2753 & 5.48 & 5.40 & 3.36\\\\\n",
       "\t 0.80 & Good      & G & VS2  & 64.2 & 58 & 2753 & 5.84 & 5.81 & 3.74\\\\\n",
       "\t 0.84 & Good      & I & VS1  & 63.7 & 59 & 2753 & 5.94 & 5.90 & 3.77\\\\\n",
       "\t 0.77 & Ideal     & E & SI2  & 62.1 & 56 & 2753 & 5.84 & 5.86 & 3.63\\\\\n",
       "\t 0.74 & Good      & D & SI1  & 63.1 & 59 & 2753 & 5.71 & 5.74 & 3.61\\\\\n",
       "\t 0.90 & Very Good & J & SI1  & 63.2 & 60 & 2753 & 6.12 & 6.09 & 3.86\\\\\n",
       "\t 0.76 & Premium   & I & VS1  & 59.3 & 62 & 2753 & 5.93 & 5.85 & 3.49\\\\\n",
       "\t 0.76 & Ideal     & I & VVS1 & 62.2 & 55 & 2753 & 5.89 & 5.87 & 3.66\\\\\n",
       "\t 0.70 & Very Good & E & VS2  & 62.4 & 60 & 2755 & 5.57 & 5.61 & 3.49\\\\\n",
       "\t 0.70 & Very Good & E & VS2  & 62.8 & 60 & 2755 & 5.59 & 5.65 & 3.53\\\\\n",
       "\t 0.70 & Very Good & D & VS1  & 63.1 & 59 & 2755 & 5.67 & 5.58 & 3.55\\\\\n",
       "\t 0.73 & Ideal     & I & VS2  & 61.3 & 56 & 2756 & 5.80 & 5.84 & 3.57\\\\\n",
       "\t 0.73 & Ideal     & I & VS2  & 61.6 & 55 & 2756 & 5.82 & 5.84 & 3.59\\\\\n",
       "\t 0.79 & Ideal     & I & SI1  & 61.6 & 56 & 2756 & 5.95 & 5.97 & 3.67\\\\\n",
       "\t 0.71 & Ideal     & E & SI1  & 61.9 & 56 & 2756 & 5.71 & 5.73 & 3.54\\\\\n",
       "\t 0.79 & Good      & F & SI1  & 58.1 & 59 & 2756 & 6.06 & 6.13 & 3.54\\\\\n",
       "\t 0.79 & Premium   & E & SI2  & 61.4 & 58 & 2756 & 6.03 & 5.96 & 3.68\\\\\n",
       "\t 0.71 & Ideal     & G & VS1  & 61.4 & 56 & 2756 & 5.76 & 5.73 & 3.53\\\\\n",
       "\t 0.71 & Premium   & E & SI1  & 60.5 & 55 & 2756 & 5.79 & 5.74 & 3.49\\\\\n",
       "\t 0.71 & Premium   & F & SI1  & 59.8 & 62 & 2756 & 5.74 & 5.73 & 3.43\\\\\n",
       "\t 0.70 & Very Good & E & VS2  & 60.5 & 59 & 2757 & 5.71 & 5.76 & 3.47\\\\\n",
       "\t 0.70 & Very Good & E & VS2  & 61.2 & 59 & 2757 & 5.69 & 5.72 & 3.49\\\\\n",
       "\t 0.72 & Premium   & D & SI1  & 62.7 & 59 & 2757 & 5.69 & 5.73 & 3.58\\\\\n",
       "\t 0.72 & Ideal     & D & SI1  & 60.8 & 57 & 2757 & 5.75 & 5.76 & 3.50\\\\\n",
       "\t 0.72 & Good      & D & SI1  & 63.1 & 55 & 2757 & 5.69 & 5.75 & 3.61\\\\\n",
       "\t 0.70 & Very Good & D & SI1  & 62.8 & 60 & 2757 & 5.66 & 5.68 & 3.56\\\\\n",
       "\t 0.86 & Premium   & H & SI2  & 61.0 & 58 & 2757 & 6.15 & 6.12 & 3.74\\\\\n",
       "\t 0.75 & Ideal     & D & SI2  & 62.2 & 55 & 2757 & 5.83 & 5.87 & 3.64\\\\\n",
       "\\end{tabular}\n"
      ],
      "text/markdown": [
       "\n",
       "A tibble: 53940 × 10\n",
       "\n",
       "| carat &lt;dbl&gt; | cut &lt;ord&gt; | color &lt;ord&gt; | clarity &lt;ord&gt; | depth &lt;dbl&gt; | table &lt;dbl&gt; | price &lt;int&gt; | x &lt;dbl&gt; | y &lt;dbl&gt; | z &lt;dbl&gt; |\n",
       "|---|---|---|---|---|---|---|---|---|---|\n",
       "| 0.23 | Ideal     | E | SI2  | 61.5 | 55 | 326 | 3.95 | 3.98 | 2.43 |\n",
       "| 0.21 | Premium   | E | SI1  | 59.8 | 61 | 326 | 3.89 | 3.84 | 2.31 |\n",
       "| 0.23 | Good      | E | VS1  | 56.9 | 65 | 327 | 4.05 | 4.07 | 2.31 |\n",
       "| 0.29 | Premium   | I | VS2  | 62.4 | 58 | 334 | 4.20 | 4.23 | 2.63 |\n",
       "| 0.31 | Good      | J | SI2  | 63.3 | 58 | 335 | 4.34 | 4.35 | 2.75 |\n",
       "| 0.24 | Very Good | J | VVS2 | 62.8 | 57 | 336 | 3.94 | 3.96 | 2.48 |\n",
       "| 0.24 | Very Good | I | VVS1 | 62.3 | 57 | 336 | 3.95 | 3.98 | 2.47 |\n",
       "| 0.26 | Very Good | H | SI1  | 61.9 | 55 | 337 | 4.07 | 4.11 | 2.53 |\n",
       "| 0.22 | Fair      | E | VS2  | 65.1 | 61 | 337 | 3.87 | 3.78 | 2.49 |\n",
       "| 0.23 | Very Good | H | VS1  | 59.4 | 61 | 338 | 4.00 | 4.05 | 2.39 |\n",
       "| 0.30 | Good      | J | SI1  | 64.0 | 55 | 339 | 4.25 | 4.28 | 2.73 |\n",
       "| 0.23 | Ideal     | J | VS1  | 62.8 | 56 | 340 | 3.93 | 3.90 | 2.46 |\n",
       "| 0.22 | Premium   | F | SI1  | 60.4 | 61 | 342 | 3.88 | 3.84 | 2.33 |\n",
       "| 0.31 | Ideal     | J | SI2  | 62.2 | 54 | 344 | 4.35 | 4.37 | 2.71 |\n",
       "| 0.20 | Premium   | E | SI2  | 60.2 | 62 | 345 | 3.79 | 3.75 | 2.27 |\n",
       "| 0.32 | Premium   | E | I1   | 60.9 | 58 | 345 | 4.38 | 4.42 | 2.68 |\n",
       "| 0.30 | Ideal     | I | SI2  | 62.0 | 54 | 348 | 4.31 | 4.34 | 2.68 |\n",
       "| 0.30 | Good      | J | SI1  | 63.4 | 54 | 351 | 4.23 | 4.29 | 2.70 |\n",
       "| 0.30 | Good      | J | SI1  | 63.8 | 56 | 351 | 4.23 | 4.26 | 2.71 |\n",
       "| 0.30 | Very Good | J | SI1  | 62.7 | 59 | 351 | 4.21 | 4.27 | 2.66 |\n",
       "| 0.30 | Good      | I | SI2  | 63.3 | 56 | 351 | 4.26 | 4.30 | 2.71 |\n",
       "| 0.23 | Very Good | E | VS2  | 63.8 | 55 | 352 | 3.85 | 3.92 | 2.48 |\n",
       "| 0.23 | Very Good | H | VS1  | 61.0 | 57 | 353 | 3.94 | 3.96 | 2.41 |\n",
       "| 0.31 | Very Good | J | SI1  | 59.4 | 62 | 353 | 4.39 | 4.43 | 2.62 |\n",
       "| 0.31 | Very Good | J | SI1  | 58.1 | 62 | 353 | 4.44 | 4.47 | 2.59 |\n",
       "| 0.23 | Very Good | G | VVS2 | 60.4 | 58 | 354 | 3.97 | 4.01 | 2.41 |\n",
       "| 0.24 | Premium   | I | VS1  | 62.5 | 57 | 355 | 3.97 | 3.94 | 2.47 |\n",
       "| 0.30 | Very Good | J | VS2  | 62.2 | 57 | 357 | 4.28 | 4.30 | 2.67 |\n",
       "| 0.23 | Very Good | D | VS2  | 60.5 | 61 | 357 | 3.96 | 3.97 | 2.40 |\n",
       "| 0.23 | Very Good | F | VS1  | 60.9 | 57 | 357 | 3.96 | 3.99 | 2.42 |\n",
       "| ⋮ | ⋮ | ⋮ | ⋮ | ⋮ | ⋮ | ⋮ | ⋮ | ⋮ | ⋮ |\n",
       "| 0.70 | Premium   | E | SI1  | 60.5 | 58 | 2753 | 5.74 | 5.77 | 3.48 |\n",
       "| 0.57 | Premium   | E | IF   | 59.8 | 60 | 2753 | 5.43 | 5.38 | 3.23 |\n",
       "| 0.61 | Premium   | F | VVS1 | 61.8 | 59 | 2753 | 5.48 | 5.40 | 3.36 |\n",
       "| 0.80 | Good      | G | VS2  | 64.2 | 58 | 2753 | 5.84 | 5.81 | 3.74 |\n",
       "| 0.84 | Good      | I | VS1  | 63.7 | 59 | 2753 | 5.94 | 5.90 | 3.77 |\n",
       "| 0.77 | Ideal     | E | SI2  | 62.1 | 56 | 2753 | 5.84 | 5.86 | 3.63 |\n",
       "| 0.74 | Good      | D | SI1  | 63.1 | 59 | 2753 | 5.71 | 5.74 | 3.61 |\n",
       "| 0.90 | Very Good | J | SI1  | 63.2 | 60 | 2753 | 6.12 | 6.09 | 3.86 |\n",
       "| 0.76 | Premium   | I | VS1  | 59.3 | 62 | 2753 | 5.93 | 5.85 | 3.49 |\n",
       "| 0.76 | Ideal     | I | VVS1 | 62.2 | 55 | 2753 | 5.89 | 5.87 | 3.66 |\n",
       "| 0.70 | Very Good | E | VS2  | 62.4 | 60 | 2755 | 5.57 | 5.61 | 3.49 |\n",
       "| 0.70 | Very Good | E | VS2  | 62.8 | 60 | 2755 | 5.59 | 5.65 | 3.53 |\n",
       "| 0.70 | Very Good | D | VS1  | 63.1 | 59 | 2755 | 5.67 | 5.58 | 3.55 |\n",
       "| 0.73 | Ideal     | I | VS2  | 61.3 | 56 | 2756 | 5.80 | 5.84 | 3.57 |\n",
       "| 0.73 | Ideal     | I | VS2  | 61.6 | 55 | 2756 | 5.82 | 5.84 | 3.59 |\n",
       "| 0.79 | Ideal     | I | SI1  | 61.6 | 56 | 2756 | 5.95 | 5.97 | 3.67 |\n",
       "| 0.71 | Ideal     | E | SI1  | 61.9 | 56 | 2756 | 5.71 | 5.73 | 3.54 |\n",
       "| 0.79 | Good      | F | SI1  | 58.1 | 59 | 2756 | 6.06 | 6.13 | 3.54 |\n",
       "| 0.79 | Premium   | E | SI2  | 61.4 | 58 | 2756 | 6.03 | 5.96 | 3.68 |\n",
       "| 0.71 | Ideal     | G | VS1  | 61.4 | 56 | 2756 | 5.76 | 5.73 | 3.53 |\n",
       "| 0.71 | Premium   | E | SI1  | 60.5 | 55 | 2756 | 5.79 | 5.74 | 3.49 |\n",
       "| 0.71 | Premium   | F | SI1  | 59.8 | 62 | 2756 | 5.74 | 5.73 | 3.43 |\n",
       "| 0.70 | Very Good | E | VS2  | 60.5 | 59 | 2757 | 5.71 | 5.76 | 3.47 |\n",
       "| 0.70 | Very Good | E | VS2  | 61.2 | 59 | 2757 | 5.69 | 5.72 | 3.49 |\n",
       "| 0.72 | Premium   | D | SI1  | 62.7 | 59 | 2757 | 5.69 | 5.73 | 3.58 |\n",
       "| 0.72 | Ideal     | D | SI1  | 60.8 | 57 | 2757 | 5.75 | 5.76 | 3.50 |\n",
       "| 0.72 | Good      | D | SI1  | 63.1 | 55 | 2757 | 5.69 | 5.75 | 3.61 |\n",
       "| 0.70 | Very Good | D | SI1  | 62.8 | 60 | 2757 | 5.66 | 5.68 | 3.56 |\n",
       "| 0.86 | Premium   | H | SI2  | 61.0 | 58 | 2757 | 6.15 | 6.12 | 3.74 |\n",
       "| 0.75 | Ideal     | D | SI2  | 62.2 | 55 | 2757 | 5.83 | 5.87 | 3.64 |\n",
       "\n"
      ],
      "text/plain": [
       "      carat cut       color clarity depth table price x    y    z   \n",
       "1     0.23  Ideal     E     SI2     61.5  55    326   3.95 3.98 2.43\n",
       "2     0.21  Premium   E     SI1     59.8  61    326   3.89 3.84 2.31\n",
       "3     0.23  Good      E     VS1     56.9  65    327   4.05 4.07 2.31\n",
       "4     0.29  Premium   I     VS2     62.4  58    334   4.20 4.23 2.63\n",
       "5     0.31  Good      J     SI2     63.3  58    335   4.34 4.35 2.75\n",
       "6     0.24  Very Good J     VVS2    62.8  57    336   3.94 3.96 2.48\n",
       "7     0.24  Very Good I     VVS1    62.3  57    336   3.95 3.98 2.47\n",
       "8     0.26  Very Good H     SI1     61.9  55    337   4.07 4.11 2.53\n",
       "9     0.22  Fair      E     VS2     65.1  61    337   3.87 3.78 2.49\n",
       "10    0.23  Very Good H     VS1     59.4  61    338   4.00 4.05 2.39\n",
       "11    0.30  Good      J     SI1     64.0  55    339   4.25 4.28 2.73\n",
       "12    0.23  Ideal     J     VS1     62.8  56    340   3.93 3.90 2.46\n",
       "13    0.22  Premium   F     SI1     60.4  61    342   3.88 3.84 2.33\n",
       "14    0.31  Ideal     J     SI2     62.2  54    344   4.35 4.37 2.71\n",
       "15    0.20  Premium   E     SI2     60.2  62    345   3.79 3.75 2.27\n",
       "16    0.32  Premium   E     I1      60.9  58    345   4.38 4.42 2.68\n",
       "17    0.30  Ideal     I     SI2     62.0  54    348   4.31 4.34 2.68\n",
       "18    0.30  Good      J     SI1     63.4  54    351   4.23 4.29 2.70\n",
       "19    0.30  Good      J     SI1     63.8  56    351   4.23 4.26 2.71\n",
       "20    0.30  Very Good J     SI1     62.7  59    351   4.21 4.27 2.66\n",
       "21    0.30  Good      I     SI2     63.3  56    351   4.26 4.30 2.71\n",
       "22    0.23  Very Good E     VS2     63.8  55    352   3.85 3.92 2.48\n",
       "23    0.23  Very Good H     VS1     61.0  57    353   3.94 3.96 2.41\n",
       "24    0.31  Very Good J     SI1     59.4  62    353   4.39 4.43 2.62\n",
       "25    0.31  Very Good J     SI1     58.1  62    353   4.44 4.47 2.59\n",
       "26    0.23  Very Good G     VVS2    60.4  58    354   3.97 4.01 2.41\n",
       "27    0.24  Premium   I     VS1     62.5  57    355   3.97 3.94 2.47\n",
       "28    0.30  Very Good J     VS2     62.2  57    357   4.28 4.30 2.67\n",
       "29    0.23  Very Good D     VS2     60.5  61    357   3.96 3.97 2.40\n",
       "30    0.23  Very Good F     VS1     60.9  57    357   3.96 3.99 2.42\n",
       "<U+22EE>     <U+22EE> <U+22EE>  <U+22EE> <U+22EE> <U+22EE> <U+22EE> <U+22EE> <U+22EE> <U+22EE> <U+22EE>\n",
       "53911 0.70  Premium   E     SI1     60.5  58    2753  5.74 5.77 3.48\n",
       "53912 0.57  Premium   E     IF      59.8  60    2753  5.43 5.38 3.23\n",
       "53913 0.61  Premium   F     VVS1    61.8  59    2753  5.48 5.40 3.36\n",
       "53914 0.80  Good      G     VS2     64.2  58    2753  5.84 5.81 3.74\n",
       "53915 0.84  Good      I     VS1     63.7  59    2753  5.94 5.90 3.77\n",
       "53916 0.77  Ideal     E     SI2     62.1  56    2753  5.84 5.86 3.63\n",
       "53917 0.74  Good      D     SI1     63.1  59    2753  5.71 5.74 3.61\n",
       "53918 0.90  Very Good J     SI1     63.2  60    2753  6.12 6.09 3.86\n",
       "53919 0.76  Premium   I     VS1     59.3  62    2753  5.93 5.85 3.49\n",
       "53920 0.76  Ideal     I     VVS1    62.2  55    2753  5.89 5.87 3.66\n",
       "53921 0.70  Very Good E     VS2     62.4  60    2755  5.57 5.61 3.49\n",
       "53922 0.70  Very Good E     VS2     62.8  60    2755  5.59 5.65 3.53\n",
       "53923 0.70  Very Good D     VS1     63.1  59    2755  5.67 5.58 3.55\n",
       "53924 0.73  Ideal     I     VS2     61.3  56    2756  5.80 5.84 3.57\n",
       "53925 0.73  Ideal     I     VS2     61.6  55    2756  5.82 5.84 3.59\n",
       "53926 0.79  Ideal     I     SI1     61.6  56    2756  5.95 5.97 3.67\n",
       "53927 0.71  Ideal     E     SI1     61.9  56    2756  5.71 5.73 3.54\n",
       "53928 0.79  Good      F     SI1     58.1  59    2756  6.06 6.13 3.54\n",
       "53929 0.79  Premium   E     SI2     61.4  58    2756  6.03 5.96 3.68\n",
       "53930 0.71  Ideal     G     VS1     61.4  56    2756  5.76 5.73 3.53\n",
       "53931 0.71  Premium   E     SI1     60.5  55    2756  5.79 5.74 3.49\n",
       "53932 0.71  Premium   F     SI1     59.8  62    2756  5.74 5.73 3.43\n",
       "53933 0.70  Very Good E     VS2     60.5  59    2757  5.71 5.76 3.47\n",
       "53934 0.70  Very Good E     VS2     61.2  59    2757  5.69 5.72 3.49\n",
       "53935 0.72  Premium   D     SI1     62.7  59    2757  5.69 5.73 3.58\n",
       "53936 0.72  Ideal     D     SI1     60.8  57    2757  5.75 5.76 3.50\n",
       "53937 0.72  Good      D     SI1     63.1  55    2757  5.69 5.75 3.61\n",
       "53938 0.70  Very Good D     SI1     62.8  60    2757  5.66 5.68 3.56\n",
       "53939 0.86  Premium   H     SI2     61.0  58    2757  6.15 6.12 3.74\n",
       "53940 0.75  Ideal     D     SI2     62.2  55    2757  5.83 5.87 3.64"
      ]
     },
     "metadata": {},
     "output_type": "display_data"
    }
   ],
   "source": [
    "diamonds"
   ]
  },
  {
   "cell_type": "code",
   "execution_count": 454,
   "id": "54a780a6-b673-4e78-a744-8bfd86cef343",
   "metadata": {},
   "outputs": [
    {
     "data": {
      "image/png": "[encoded data removed]",
      "text/plain": [
       "plot without title"
      ]
     },
     "metadata": {
      "image/png": {
       "height": 420,
       "width": 420
      }
     },
     "output_type": "display_data"
    }
   ],
   "source": [
    "ggplot(data = diamonds) +\n",
    "    geom_bar(mapping = aes(x = cut))"
   ]
  },
  {
   "cell_type": "code",
   "execution_count": 455,
   "id": "60f867d3-2819-49d5-bc54-bbbdbb882748",
   "metadata": {},
   "outputs": [
    {
     "data": {
      "image/png": "[encoded data removed]",
      "text/plain": [
       "plot without title"
      ]
     },
     "metadata": {
      "image/png": {
       "height": 420,
       "width": 420
      }
     },
     "output_type": "display_data"
    }
   ],
   "source": [
    "ggplot(data = diamonds) +\n",
    "    stat_count(mapping = aes(x = cut))"
   ]
  },
  {
   "cell_type": "code",
   "execution_count": 456,
   "id": "1efd0b4e-178e-4a30-9ffa-97c8c61afa99",
   "metadata": {},
   "outputs": [
    {
     "data": {
      "text/html": [
       "<table class=\"dataframe\">\n",
       "<caption>A tibble: 5 × 2</caption>\n",
       "<thead>\n",
       "\t<tr><th scope=col>cut</th><th scope=col>freq</th></tr>\n",
       "\t<tr><th scope=col>&lt;chr&gt;</th><th scope=col>&lt;dbl&gt;</th></tr>\n",
       "</thead>\n",
       "<tbody>\n",
       "\t<tr><td>Fair     </td><td> 1610</td></tr>\n",
       "\t<tr><td>Good     </td><td> 4906</td></tr>\n",
       "\t<tr><td>Very Good</td><td>12082</td></tr>\n",
       "\t<tr><td>premium  </td><td>13791</td></tr>\n",
       "\t<tr><td>Ideal    </td><td>21551</td></tr>\n",
       "</tbody>\n",
       "</table>\n"
      ],
      "text/latex": [
       "A tibble: 5 × 2\n",
       "\\begin{tabular}{ll}\n",
       " cut & freq\\\\\n",
       " <chr> & <dbl>\\\\\n",
       "\\hline\n",
       "\t Fair      &  1610\\\\\n",
       "\t Good      &  4906\\\\\n",
       "\t Very Good & 12082\\\\\n",
       "\t premium   & 13791\\\\\n",
       "\t Ideal     & 21551\\\\\n",
       "\\end{tabular}\n"
      ],
      "text/markdown": [
       "\n",
       "A tibble: 5 × 2\n",
       "\n",
       "| cut &lt;chr&gt; | freq &lt;dbl&gt; |\n",
       "|---|---|\n",
       "| Fair      |  1610 |\n",
       "| Good      |  4906 |\n",
       "| Very Good | 12082 |\n",
       "| premium   | 13791 |\n",
       "| Ideal     | 21551 |\n",
       "\n"
      ],
      "text/plain": [
       "  cut       freq \n",
       "1 Fair       1610\n",
       "2 Good       4906\n",
       "3 Very Good 12082\n",
       "4 premium   13791\n",
       "5 Ideal     21551"
      ]
     },
     "metadata": {},
     "output_type": "display_data"
    }
   ],
   "source": [
    "demo <- tribble(\n",
    "    ~cut,           ~freq,\n",
    "    \"Fair\",         1610,\n",
    "    \"Good\",         4906,\n",
    "    \"Very Good\",    12082,\n",
    "    \"premium\",      13791,\n",
    "    \"Ideal\",        21551,\n",
    ")\n",
    "demo"
   ]
  },
  {
   "cell_type": "code",
   "execution_count": 457,
   "id": "54ec5f48-0bdd-4cfb-9d53-d785a2058a66",
   "metadata": {},
   "outputs": [
    {
     "data": {
      "image/png": "[encoded data removed]",
      "text/plain": [
       "plot without title"
      ]
     },
     "metadata": {
      "image/png": {
       "height": 420,
       "width": 420
      }
     },
     "output_type": "display_data"
    }
   ],
   "source": [
    "ggplot(data = demo) +\n",
    "    geom_bar(mapping = aes(x = cut, y = freq), stat = \"identity\")"
   ]
  },
  {
   "cell_type": "code",
   "execution_count": 458,
   "id": "68c42188-57f2-4724-93b2-6e655653d439",
   "metadata": {},
   "outputs": [
    {
     "data": {
      "image/png": "[encoded data removed]",
      "text/plain": [
       "plot without title"
      ]
     },
     "metadata": {
      "image/png": {
       "height": 420,
       "width": 420
      }
     },
     "output_type": "display_data"
    }
   ],
   "source": [
    "ggplot(data = diamonds) +\n",
    "    geom_bar(mapping = aes(x = cut, y = stat(prop), group = 1))"
   ]
  },
  {
   "cell_type": "code",
   "execution_count": 459,
   "id": "6ff13e95-c93e-4120-be19-184864a12881",
   "metadata": {},
   "outputs": [
    {
     "data": {
      "image/png": "[encoded data removed]",
      "text/plain": [
       "plot without title"
      ]
     },
     "metadata": {
      "image/png": {
       "height": 420,
       "width": 420
      }
     },
     "output_type": "display_data"
    }
   ],
   "source": [
    "ggplot(data = diamonds) +\n",
    "    stat_summary(\n",
    "        mapping = aes(x = cut, y = depth),\n",
    "        fun.min = min,\n",
    "        fun.max = max,\n",
    "        fun = median\n",
    ")"
   ]
  },
  {
   "cell_type": "code",
   "execution_count": 460,
   "id": "af912e8d-7d9a-4aec-b4be-54f8141be96c",
   "metadata": {},
   "outputs": [
    {
     "data": {
      "image/png": "[encoded data removed]",
      "text/plain": [
       "plot without title"
      ]
     },
     "metadata": {
      "image/png": {
       "height": 420,
       "width": 420
      }
     },
     "output_type": "display_data"
    }
   ],
   "source": [
    "ggplot(data = diamonds) +\n",
    "    geom_col(mapping = aes(x = cut, y = depth))"
   ]
  },
  {
   "cell_type": "code",
   "execution_count": 461,
   "id": "4cc7e072-1fa6-43d8-8f7f-825dacafc9a8",
   "metadata": {},
   "outputs": [
    {
     "data": {
      "image/png": "[encoded data removed]",
      "text/plain": [
       "plot without title"
      ]
     },
     "metadata": {
      "image/png": {
       "height": 420,
       "width": 420
      }
     },
     "output_type": "display_data"
    }
   ],
   "source": [
    "ggplot(data = diamonds) +\n",
    "    geom_bar(mapping = aes(x = cut, fill = clarity))"
   ]
  },
  {
   "cell_type": "code",
   "execution_count": 462,
   "id": "03412057-b9e7-4435-b0f6-8ed618a59b64",
   "metadata": {},
   "outputs": [
    {
     "data": {
      "image/png": "[encoded data removed]",
      "text/plain": [
       "plot without title"
      ]
     },
     "metadata": {
      "image/png": {
       "height": 420,
       "width": 420
      }
     },
     "output_type": "display_data"
    }
   ],
   "source": [
    "ggplot(data = diamonds) +\n",
    "    geom_bar(mapping = aes(x = cut, fill = clarity), position = \"identity\", alpha = .2)"
   ]
  },
  {
   "cell_type": "code",
   "execution_count": 463,
   "id": "d96ce01b-e8aa-40d8-ae82-c96573f7fe58",
   "metadata": {},
   "outputs": [
    {
     "data": {
      "image/png": "[encoded data removed]",
      "text/plain": [
       "plot without title"
      ]
     },
     "metadata": {
      "image/png": {
       "height": 420,
       "width": 420
      }
     },
     "output_type": "display_data"
    }
   ],
   "source": [
    "ggplot(data = diamonds) +\n",
    "    geom_bar(mapping = aes(x = cut, fill = clarity), position = \"dodge\")"
   ]
  },
  {
   "cell_type": "code",
   "execution_count": 464,
   "id": "b7999c76-dbee-4f6b-80e5-68f9ca35f43b",
   "metadata": {},
   "outputs": [
    {
     "data": {
      "image/png": "[encoded data removed]",
      "text/plain": [
       "plot without title"
      ]
     },
     "metadata": {
      "image/png": {
       "height": 420,
       "width": 420
      }
     },
     "output_type": "display_data"
    }
   ],
   "source": [
    "ggplot(data = diamonds) +\n",
    "    geom_bar(mapping = aes(x = cut, fill = clarity), position = \"fill\")"
   ]
  },
  {
   "cell_type": "code",
   "execution_count": 465,
   "id": "0190e4a9-91d3-47d7-94a7-418eaac0c9b6",
   "metadata": {},
   "outputs": [
    {
     "data": {
      "image/png": "[encoded data removed]",
      "text/plain": [
       "plot without title"
      ]
     },
     "metadata": {
      "image/png": {
       "height": 420,
       "width": 420
      }
     },
     "output_type": "display_data"
    }
   ],
   "source": [
    "ggplot(data = mpg, mapping = aes(x = class, y = hwy)) +\n",
    "    geom_boxplot()"
   ]
  },
  {
   "cell_type": "code",
   "execution_count": 466,
   "id": "ef1fa617-b736-4a68-b811-a63e69380b53",
   "metadata": {},
   "outputs": [
    {
     "data": {
      "image/png": "[encoded data removed]",
      "text/plain": [
       "plot without title"
      ]
     },
     "metadata": {
      "image/png": {
       "height": 420,
       "width": 420
      }
     },
     "output_type": "display_data"
    }
   ],
   "source": [
    "ggplot(data = mpg, mapping = aes(x = class, y = hwy)) +\n",
    "    geom_boxplot() +\n",
    "    coord_flip()"
   ]
  },
  {
   "cell_type": "code",
   "execution_count": 467,
   "id": "d28f6aff-d2a2-4352-bc1f-83828e28c1d3",
   "metadata": {},
   "outputs": [
    {
     "data": {
      "text/html": [
       "<table class=\"dataframe\">\n",
       "<caption>A data.frame: 1552 × 6</caption>\n",
       "<thead>\n",
       "\t<tr><th></th><th scope=col>long</th><th scope=col>lat</th><th scope=col>group</th><th scope=col>order</th><th scope=col>region</th><th scope=col>subregion</th></tr>\n",
       "\t<tr><th></th><th scope=col>&lt;dbl&gt;</th><th scope=col>&lt;dbl&gt;</th><th scope=col>&lt;dbl&gt;</th><th scope=col>&lt;int&gt;</th><th scope=col>&lt;chr&gt;</th><th scope=col>&lt;chr&gt;</th></tr>\n",
       "</thead>\n",
       "<tbody>\n",
       "\t<tr><th scope=row>1</th><td>172.7433</td><td>-34.44215</td><td>1</td><td> 1</td><td>North.Island </td><td>NA</td></tr>\n",
       "\t<tr><th scope=row>2</th><td>172.7983</td><td>-34.45562</td><td>1</td><td> 2</td><td>North.Island </td><td>NA</td></tr>\n",
       "\t<tr><th scope=row>3</th><td>172.8528</td><td>-34.44846</td><td>1</td><td> 3</td><td>North.Island </td><td>NA</td></tr>\n",
       "\t<tr><th scope=row>4</th><td>172.8986</td><td>-34.41786</td><td>1</td><td> 4</td><td>North.Island </td><td>NA</td></tr>\n",
       "\t<tr><th scope=row>5</th><td>172.9593</td><td>-34.42503</td><td>1</td><td> 5</td><td>North.Island </td><td>NA</td></tr>\n",
       "\t<tr><th scope=row>6</th><td>173.0184</td><td>-34.39895</td><td>1</td><td> 6</td><td>North.Island </td><td>NA</td></tr>\n",
       "\t<tr><th scope=row>7</th><td>173.0229</td><td>-34.44662</td><td>1</td><td> 7</td><td>North.Island </td><td>NA</td></tr>\n",
       "\t<tr><th scope=row>8</th><td>173.0184</td><td>-34.49343</td><td>1</td><td> 8</td><td>North.Island </td><td>NA</td></tr>\n",
       "\t<tr><th scope=row>9</th><td>172.9616</td><td>-34.50426</td><td>1</td><td> 9</td><td>North.Island </td><td>NA</td></tr>\n",
       "\t<tr><th scope=row>10</th><td>172.9181</td><td>-34.47367</td><td>1</td><td>10</td><td>North.Island </td><td>NA</td></tr>\n",
       "\t<tr><th scope=row>11</th><td>172.9353</td><td>-34.52225</td><td>1</td><td>11</td><td>North.Island </td><td>NA</td></tr>\n",
       "\t<tr><th scope=row>12</th><td>172.8808</td><td>-34.51504</td><td>1</td><td>12</td><td>North.Island </td><td>NA</td></tr>\n",
       "\t<tr><th scope=row>13</th><td>172.9049</td><td>-34.55646</td><td>1</td><td>13</td><td>North.Island </td><td>NA</td></tr>\n",
       "\t<tr><th scope=row>14</th><td>172.9553</td><td>-34.53303</td><td>1</td><td>14</td><td>North.Island </td><td>NA</td></tr>\n",
       "\t<tr><th scope=row>15</th><td>172.9376</td><td>-34.57806</td><td>1</td><td>15</td><td>North.Island </td><td>NA</td></tr>\n",
       "\t<tr><th scope=row>16</th><td>172.9760</td><td>-34.61227</td><td>1</td><td>16</td><td>North.Island </td><td>NA</td></tr>\n",
       "\t<tr><th scope=row>17</th><td>172.9926</td><td>-34.56723</td><td>1</td><td>17</td><td>North.Island </td><td>NA</td></tr>\n",
       "\t<tr><th scope=row>18</th><td>173.0218</td><td>-34.61404</td><td>1</td><td>18</td><td>North.Island </td><td>NA</td></tr>\n",
       "\t<tr><th scope=row>19</th><td>173.0396</td><td>-34.65902</td><td>1</td><td>19</td><td>North.Island </td><td>NA</td></tr>\n",
       "\t<tr><th scope=row>20</th><td>173.0676</td><td>-34.70044</td><td>1</td><td>20</td><td>North.Island </td><td>NA</td></tr>\n",
       "\t<tr><th scope=row>21</th><td>173.1049</td><td>-34.73373</td><td>1</td><td>21</td><td>North.Island </td><td>NA</td></tr>\n",
       "\t<tr><th scope=row>22</th><td>173.1490</td><td>-34.76616</td><td>1</td><td>22</td><td>North.Island </td><td>NA</td></tr>\n",
       "\t<tr><th scope=row>23</th><td>173.1839</td><td>-34.80575</td><td>1</td><td>23</td><td>North.Island </td><td>NA</td></tr>\n",
       "\t<tr><th scope=row>24</th><td>173.1358</td><td>-34.78232</td><td>1</td><td>24</td><td>North.Island </td><td>NA</td></tr>\n",
       "\t<tr><th scope=row>25</th><td>173.1404</td><td>-34.82913</td><td>1</td><td>25</td><td>North.Island </td><td>NA</td></tr>\n",
       "\t<tr><th scope=row>26</th><td>173.1822</td><td>-34.85973</td><td>1</td><td>26</td><td>North.Island </td><td>NA</td></tr>\n",
       "\t<tr><th scope=row>27</th><td>173.2326</td><td>-34.88316</td><td>1</td><td>27</td><td>North.Island </td><td>NA</td></tr>\n",
       "\t<tr><th scope=row>28</th><td>173.2917</td><td>-34.89393</td><td>1</td><td>28</td><td>North.Island </td><td>NA</td></tr>\n",
       "\t<tr><th scope=row>29</th><td>173.2687</td><td>-34.93536</td><td>1</td><td>29</td><td>North.Island </td><td>NA</td></tr>\n",
       "\t<tr><th scope=row>30</th><td>173.2338</td><td>-34.97673</td><td>1</td><td>30</td><td>North.Island </td><td>NA</td></tr>\n",
       "\t<tr><th scope=row>⋮</th><td>⋮</td><td>⋮</td><td>⋮</td><td>⋮</td><td>⋮</td><td>⋮</td></tr>\n",
       "\t<tr><th scope=row>1537</th><td>175.2025</td><td>-36.93332</td><td>15</td><td>1537</td><td>Ponui.Island    </td><td>NA</td></tr>\n",
       "\t<tr><th scope=row>1539</th><td>174.9166</td><td>-36.79999</td><td>16</td><td>1539</td><td>Motutapu.Island </td><td>NA</td></tr>\n",
       "\t<tr><th scope=row>1540</th><td>174.9544</td><td>-36.76664</td><td>16</td><td>1540</td><td>Motutapu.Island </td><td>NA</td></tr>\n",
       "\t<tr><th scope=row>1541</th><td>174.9166</td><td>-36.73055</td><td>16</td><td>1541</td><td>Motutapu.Island </td><td>NA</td></tr>\n",
       "\t<tr><th scope=row>1542</th><td>174.8919</td><td>-36.77082</td><td>16</td><td>1542</td><td>Motutapu.Island </td><td>NA</td></tr>\n",
       "\t<tr><th scope=row>1543</th><td>174.9166</td><td>-36.79999</td><td>16</td><td>1543</td><td>Motutapu.Island </td><td>NA</td></tr>\n",
       "\t<tr><th scope=row>1545</th><td>174.9154</td><td>-40.84742</td><td>17</td><td>1545</td><td>Kapiti.Island   </td><td>NA</td></tr>\n",
       "\t<tr><th scope=row>1546</th><td>174.8765</td><td>-40.89246</td><td>17</td><td>1546</td><td>Kapiti.Island   </td><td>NA</td></tr>\n",
       "\t<tr><th scope=row>1547</th><td>174.9355</td><td>-40.87263</td><td>17</td><td>1547</td><td>Kapiti.Island   </td><td>NA</td></tr>\n",
       "\t<tr><th scope=row>1548</th><td>174.9154</td><td>-40.84742</td><td>17</td><td>1548</td><td>Kapiti.Island   </td><td>NA</td></tr>\n",
       "\t<tr><th scope=row>1550</th><td>173.1163</td><td>-41.25697</td><td>18</td><td>1550</td><td>Rabbit.Island   </td><td>NA</td></tr>\n",
       "\t<tr><th scope=row>1551</th><td>173.1713</td><td>-41.28573</td><td>18</td><td>1551</td><td>Rabbit.Island   </td><td>NA</td></tr>\n",
       "\t<tr><th scope=row>1552</th><td>173.1186</td><td>-41.25875</td><td>18</td><td>1552</td><td>Rabbit.Island   </td><td>NA</td></tr>\n",
       "\t<tr><th scope=row>1553</th><td>173.1163</td><td>-41.25697</td><td>18</td><td>1553</td><td>Rabbit.Island   </td><td>NA</td></tr>\n",
       "\t<tr><th scope=row>1555</th><td>167.5798</td><td>-46.87385</td><td>19</td><td>1555</td><td>Codfish.Island  </td><td>NA</td></tr>\n",
       "\t<tr><th scope=row>1556</th><td>167.5965</td><td>-46.91705</td><td>19</td><td>1556</td><td>Codfish.Island  </td><td>NA</td></tr>\n",
       "\t<tr><th scope=row>1557</th><td>167.6171</td><td>-46.87024</td><td>19</td><td>1557</td><td>Codfish.Island  </td><td>NA</td></tr>\n",
       "\t<tr><th scope=row>1558</th><td>167.5798</td><td>-46.87385</td><td>19</td><td>1558</td><td>Codfish.Island  </td><td>NA</td></tr>\n",
       "\t<tr><th scope=row>1560</th><td>168.5052</td><td>-46.82704</td><td>20</td><td>1560</td><td>Ruapuke.Island  </td><td>NA</td></tr>\n",
       "\t<tr><th scope=row>1561</th><td>168.4576</td><td>-46.86485</td><td>20</td><td>1561</td><td>Ruapuke.Island  </td><td>NA</td></tr>\n",
       "\t<tr><th scope=row>1562</th><td>168.5195</td><td>-46.84686</td><td>20</td><td>1562</td><td>Ruapuke.Island  </td><td>NA</td></tr>\n",
       "\t<tr><th scope=row>1563</th><td>168.5052</td><td>-46.82704</td><td>20</td><td>1563</td><td>Ruapuke.Island  </td><td>NA</td></tr>\n",
       "\t<tr><th scope=row>1565</th><td>166.5800</td><td>-46.31315</td><td>21</td><td>1565</td><td>Coal.Island     </td><td>NA</td></tr>\n",
       "\t<tr><th scope=row>1566</th><td>166.6282</td><td>-46.27895</td><td>21</td><td>1566</td><td>Coal.Island     </td><td>NA</td></tr>\n",
       "\t<tr><th scope=row>1567</th><td>166.5754</td><td>-46.30954</td><td>21</td><td>1567</td><td>Coal.Island     </td><td>NA</td></tr>\n",
       "\t<tr><th scope=row>1568</th><td>166.5800</td><td>-46.31315</td><td>21</td><td>1568</td><td>Coal.Island     </td><td>NA</td></tr>\n",
       "\t<tr><th scope=row>1570</th><td>166.4580</td><td>-45.93695</td><td>22</td><td>1570</td><td>Anchor.Island   </td><td>NA</td></tr>\n",
       "\t<tr><th scope=row>1571</th><td>166.5279</td><td>-45.93872</td><td>22</td><td>1571</td><td>Anchor.Island   </td><td>NA</td></tr>\n",
       "\t<tr><th scope=row>1572</th><td>166.4608</td><td>-45.93512</td><td>22</td><td>1572</td><td>Anchor.Island   </td><td>NA</td></tr>\n",
       "\t<tr><th scope=row>1573</th><td>166.4580</td><td>-45.93695</td><td>22</td><td>1573</td><td>Anchor.Island   </td><td>NA</td></tr>\n",
       "</tbody>\n",
       "</table>\n"
      ],
      "text/latex": [
       "A data.frame: 1552 × 6\n",
       "\\begin{tabular}{r|llllll}\n",
       "  & long & lat & group & order & region & subregion\\\\\n",
       "  & <dbl> & <dbl> & <dbl> & <int> & <chr> & <chr>\\\\\n",
       "\\hline\n",
       "\t1 & 172.7433 & -34.44215 & 1 &  1 & North.Island  & NA\\\\\n",
       "\t2 & 172.7983 & -34.45562 & 1 &  2 & North.Island  & NA\\\\\n",
       "\t3 & 172.8528 & -34.44846 & 1 &  3 & North.Island  & NA\\\\\n",
       "\t4 & 172.8986 & -34.41786 & 1 &  4 & North.Island  & NA\\\\\n",
       "\t5 & 172.9593 & -34.42503 & 1 &  5 & North.Island  & NA\\\\\n",
       "\t6 & 173.0184 & -34.39895 & 1 &  6 & North.Island  & NA\\\\\n",
       "\t7 & 173.0229 & -34.44662 & 1 &  7 & North.Island  & NA\\\\\n",
       "\t8 & 173.0184 & -34.49343 & 1 &  8 & North.Island  & NA\\\\\n",
       "\t9 & 172.9616 & -34.50426 & 1 &  9 & North.Island  & NA\\\\\n",
       "\t10 & 172.9181 & -34.47367 & 1 & 10 & North.Island  & NA\\\\\n",
       "\t11 & 172.9353 & -34.52225 & 1 & 11 & North.Island  & NA\\\\\n",
       "\t12 & 172.8808 & -34.51504 & 1 & 12 & North.Island  & NA\\\\\n",
       "\t13 & 172.9049 & -34.55646 & 1 & 13 & North.Island  & NA\\\\\n",
       "\t14 & 172.9553 & -34.53303 & 1 & 14 & North.Island  & NA\\\\\n",
       "\t15 & 172.9376 & -34.57806 & 1 & 15 & North.Island  & NA\\\\\n",
       "\t16 & 172.9760 & -34.61227 & 1 & 16 & North.Island  & NA\\\\\n",
       "\t17 & 172.9926 & -34.56723 & 1 & 17 & North.Island  & NA\\\\\n",
       "\t18 & 173.0218 & -34.61404 & 1 & 18 & North.Island  & NA\\\\\n",
       "\t19 & 173.0396 & -34.65902 & 1 & 19 & North.Island  & NA\\\\\n",
       "\t20 & 173.0676 & -34.70044 & 1 & 20 & North.Island  & NA\\\\\n",
       "\t21 & 173.1049 & -34.73373 & 1 & 21 & North.Island  & NA\\\\\n",
       "\t22 & 173.1490 & -34.76616 & 1 & 22 & North.Island  & NA\\\\\n",
       "\t23 & 173.1839 & -34.80575 & 1 & 23 & North.Island  & NA\\\\\n",
       "\t24 & 173.1358 & -34.78232 & 1 & 24 & North.Island  & NA\\\\\n",
       "\t25 & 173.1404 & -34.82913 & 1 & 25 & North.Island  & NA\\\\\n",
       "\t26 & 173.1822 & -34.85973 & 1 & 26 & North.Island  & NA\\\\\n",
       "\t27 & 173.2326 & -34.88316 & 1 & 27 & North.Island  & NA\\\\\n",
       "\t28 & 173.2917 & -34.89393 & 1 & 28 & North.Island  & NA\\\\\n",
       "\t29 & 173.2687 & -34.93536 & 1 & 29 & North.Island  & NA\\\\\n",
       "\t30 & 173.2338 & -34.97673 & 1 & 30 & North.Island  & NA\\\\\n",
       "\t⋮ & ⋮ & ⋮ & ⋮ & ⋮ & ⋮ & ⋮\\\\\n",
       "\t1537 & 175.2025 & -36.93332 & 15 & 1537 & Ponui.Island     & NA\\\\\n",
       "\t1539 & 174.9166 & -36.79999 & 16 & 1539 & Motutapu.Island  & NA\\\\\n",
       "\t1540 & 174.9544 & -36.76664 & 16 & 1540 & Motutapu.Island  & NA\\\\\n",
       "\t1541 & 174.9166 & -36.73055 & 16 & 1541 & Motutapu.Island  & NA\\\\\n",
       "\t1542 & 174.8919 & -36.77082 & 16 & 1542 & Motutapu.Island  & NA\\\\\n",
       "\t1543 & 174.9166 & -36.79999 & 16 & 1543 & Motutapu.Island  & NA\\\\\n",
       "\t1545 & 174.9154 & -40.84742 & 17 & 1545 & Kapiti.Island    & NA\\\\\n",
       "\t1546 & 174.8765 & -40.89246 & 17 & 1546 & Kapiti.Island    & NA\\\\\n",
       "\t1547 & 174.9355 & -40.87263 & 17 & 1547 & Kapiti.Island    & NA\\\\\n",
       "\t1548 & 174.9154 & -40.84742 & 17 & 1548 & Kapiti.Island    & NA\\\\\n",
       "\t1550 & 173.1163 & -41.25697 & 18 & 1550 & Rabbit.Island    & NA\\\\\n",
       "\t1551 & 173.1713 & -41.28573 & 18 & 1551 & Rabbit.Island    & NA\\\\\n",
       "\t1552 & 173.1186 & -41.25875 & 18 & 1552 & Rabbit.Island    & NA\\\\\n",
       "\t1553 & 173.1163 & -41.25697 & 18 & 1553 & Rabbit.Island    & NA\\\\\n",
       "\t1555 & 167.5798 & -46.87385 & 19 & 1555 & Codfish.Island   & NA\\\\\n",
       "\t1556 & 167.5965 & -46.91705 & 19 & 1556 & Codfish.Island   & NA\\\\\n",
       "\t1557 & 167.6171 & -46.87024 & 19 & 1557 & Codfish.Island   & NA\\\\\n",
       "\t1558 & 167.5798 & -46.87385 & 19 & 1558 & Codfish.Island   & NA\\\\\n",
       "\t1560 & 168.5052 & -46.82704 & 20 & 1560 & Ruapuke.Island   & NA\\\\\n",
       "\t1561 & 168.4576 & -46.86485 & 20 & 1561 & Ruapuke.Island   & NA\\\\\n",
       "\t1562 & 168.5195 & -46.84686 & 20 & 1562 & Ruapuke.Island   & NA\\\\\n",
       "\t1563 & 168.5052 & -46.82704 & 20 & 1563 & Ruapuke.Island   & NA\\\\\n",
       "\t1565 & 166.5800 & -46.31315 & 21 & 1565 & Coal.Island      & NA\\\\\n",
       "\t1566 & 166.6282 & -46.27895 & 21 & 1566 & Coal.Island      & NA\\\\\n",
       "\t1567 & 166.5754 & -46.30954 & 21 & 1567 & Coal.Island      & NA\\\\\n",
       "\t1568 & 166.5800 & -46.31315 & 21 & 1568 & Coal.Island      & NA\\\\\n",
       "\t1570 & 166.4580 & -45.93695 & 22 & 1570 & Anchor.Island    & NA\\\\\n",
       "\t1571 & 166.5279 & -45.93872 & 22 & 1571 & Anchor.Island    & NA\\\\\n",
       "\t1572 & 166.4608 & -45.93512 & 22 & 1572 & Anchor.Island    & NA\\\\\n",
       "\t1573 & 166.4580 & -45.93695 & 22 & 1573 & Anchor.Island    & NA\\\\\n",
       "\\end{tabular}\n"
      ],
      "text/markdown": [
       "\n",
       "A data.frame: 1552 × 6\n",
       "\n",
       "| <!--/--> | long &lt;dbl&gt; | lat &lt;dbl&gt; | group &lt;dbl&gt; | order &lt;int&gt; | region &lt;chr&gt; | subregion &lt;chr&gt; |\n",
       "|---|---|---|---|---|---|---|\n",
       "| 1 | 172.7433 | -34.44215 | 1 |  1 | North.Island  | NA |\n",
       "| 2 | 172.7983 | -34.45562 | 1 |  2 | North.Island  | NA |\n",
       "| 3 | 172.8528 | -34.44846 | 1 |  3 | North.Island  | NA |\n",
       "| 4 | 172.8986 | -34.41786 | 1 |  4 | North.Island  | NA |\n",
       "| 5 | 172.9593 | -34.42503 | 1 |  5 | North.Island  | NA |\n",
       "| 6 | 173.0184 | -34.39895 | 1 |  6 | North.Island  | NA |\n",
       "| 7 | 173.0229 | -34.44662 | 1 |  7 | North.Island  | NA |\n",
       "| 8 | 173.0184 | -34.49343 | 1 |  8 | North.Island  | NA |\n",
       "| 9 | 172.9616 | -34.50426 | 1 |  9 | North.Island  | NA |\n",
       "| 10 | 172.9181 | -34.47367 | 1 | 10 | North.Island  | NA |\n",
       "| 11 | 172.9353 | -34.52225 | 1 | 11 | North.Island  | NA |\n",
       "| 12 | 172.8808 | -34.51504 | 1 | 12 | North.Island  | NA |\n",
       "| 13 | 172.9049 | -34.55646 | 1 | 13 | North.Island  | NA |\n",
       "| 14 | 172.9553 | -34.53303 | 1 | 14 | North.Island  | NA |\n",
       "| 15 | 172.9376 | -34.57806 | 1 | 15 | North.Island  | NA |\n",
       "| 16 | 172.9760 | -34.61227 | 1 | 16 | North.Island  | NA |\n",
       "| 17 | 172.9926 | -34.56723 | 1 | 17 | North.Island  | NA |\n",
       "| 18 | 173.0218 | -34.61404 | 1 | 18 | North.Island  | NA |\n",
       "| 19 | 173.0396 | -34.65902 | 1 | 19 | North.Island  | NA |\n",
       "| 20 | 173.0676 | -34.70044 | 1 | 20 | North.Island  | NA |\n",
       "| 21 | 173.1049 | -34.73373 | 1 | 21 | North.Island  | NA |\n",
       "| 22 | 173.1490 | -34.76616 | 1 | 22 | North.Island  | NA |\n",
       "| 23 | 173.1839 | -34.80575 | 1 | 23 | North.Island  | NA |\n",
       "| 24 | 173.1358 | -34.78232 | 1 | 24 | North.Island  | NA |\n",
       "| 25 | 173.1404 | -34.82913 | 1 | 25 | North.Island  | NA |\n",
       "| 26 | 173.1822 | -34.85973 | 1 | 26 | North.Island  | NA |\n",
       "| 27 | 173.2326 | -34.88316 | 1 | 27 | North.Island  | NA |\n",
       "| 28 | 173.2917 | -34.89393 | 1 | 28 | North.Island  | NA |\n",
       "| 29 | 173.2687 | -34.93536 | 1 | 29 | North.Island  | NA |\n",
       "| 30 | 173.2338 | -34.97673 | 1 | 30 | North.Island  | NA |\n",
       "| ⋮ | ⋮ | ⋮ | ⋮ | ⋮ | ⋮ | ⋮ |\n",
       "| 1537 | 175.2025 | -36.93332 | 15 | 1537 | Ponui.Island     | NA |\n",
       "| 1539 | 174.9166 | -36.79999 | 16 | 1539 | Motutapu.Island  | NA |\n",
       "| 1540 | 174.9544 | -36.76664 | 16 | 1540 | Motutapu.Island  | NA |\n",
       "| 1541 | 174.9166 | -36.73055 | 16 | 1541 | Motutapu.Island  | NA |\n",
       "| 1542 | 174.8919 | -36.77082 | 16 | 1542 | Motutapu.Island  | NA |\n",
       "| 1543 | 174.9166 | -36.79999 | 16 | 1543 | Motutapu.Island  | NA |\n",
       "| 1545 | 174.9154 | -40.84742 | 17 | 1545 | Kapiti.Island    | NA |\n",
       "| 1546 | 174.8765 | -40.89246 | 17 | 1546 | Kapiti.Island    | NA |\n",
       "| 1547 | 174.9355 | -40.87263 | 17 | 1547 | Kapiti.Island    | NA |\n",
       "| 1548 | 174.9154 | -40.84742 | 17 | 1548 | Kapiti.Island    | NA |\n",
       "| 1550 | 173.1163 | -41.25697 | 18 | 1550 | Rabbit.Island    | NA |\n",
       "| 1551 | 173.1713 | -41.28573 | 18 | 1551 | Rabbit.Island    | NA |\n",
       "| 1552 | 173.1186 | -41.25875 | 18 | 1552 | Rabbit.Island    | NA |\n",
       "| 1553 | 173.1163 | -41.25697 | 18 | 1553 | Rabbit.Island    | NA |\n",
       "| 1555 | 167.5798 | -46.87385 | 19 | 1555 | Codfish.Island   | NA |\n",
       "| 1556 | 167.5965 | -46.91705 | 19 | 1556 | Codfish.Island   | NA |\n",
       "| 1557 | 167.6171 | -46.87024 | 19 | 1557 | Codfish.Island   | NA |\n",
       "| 1558 | 167.5798 | -46.87385 | 19 | 1558 | Codfish.Island   | NA |\n",
       "| 1560 | 168.5052 | -46.82704 | 20 | 1560 | Ruapuke.Island   | NA |\n",
       "| 1561 | 168.4576 | -46.86485 | 20 | 1561 | Ruapuke.Island   | NA |\n",
       "| 1562 | 168.5195 | -46.84686 | 20 | 1562 | Ruapuke.Island   | NA |\n",
       "| 1563 | 168.5052 | -46.82704 | 20 | 1563 | Ruapuke.Island   | NA |\n",
       "| 1565 | 166.5800 | -46.31315 | 21 | 1565 | Coal.Island      | NA |\n",
       "| 1566 | 166.6282 | -46.27895 | 21 | 1566 | Coal.Island      | NA |\n",
       "| 1567 | 166.5754 | -46.30954 | 21 | 1567 | Coal.Island      | NA |\n",
       "| 1568 | 166.5800 | -46.31315 | 21 | 1568 | Coal.Island      | NA |\n",
       "| 1570 | 166.4580 | -45.93695 | 22 | 1570 | Anchor.Island    | NA |\n",
       "| 1571 | 166.5279 | -45.93872 | 22 | 1571 | Anchor.Island    | NA |\n",
       "| 1572 | 166.4608 | -45.93512 | 22 | 1572 | Anchor.Island    | NA |\n",
       "| 1573 | 166.4580 | -45.93695 | 22 | 1573 | Anchor.Island    | NA |\n",
       "\n"
      ],
      "text/plain": [
       "     long     lat       group order region           subregion\n",
       "1    172.7433 -34.44215 1      1    North.Island     NA       \n",
       "2    172.7983 -34.45562 1      2    North.Island     NA       \n",
       "3    172.8528 -34.44846 1      3    North.Island     NA       \n",
       "4    172.8986 -34.41786 1      4    North.Island     NA       \n",
       "5    172.9593 -34.42503 1      5    North.Island     NA       \n",
       "6    173.0184 -34.39895 1      6    North.Island     NA       \n",
       "7    173.0229 -34.44662 1      7    North.Island     NA       \n",
       "8    173.0184 -34.49343 1      8    North.Island     NA       \n",
       "9    172.9616 -34.50426 1      9    North.Island     NA       \n",
       "10   172.9181 -34.47367 1     10    North.Island     NA       \n",
       "11   172.9353 -34.52225 1     11    North.Island     NA       \n",
       "12   172.8808 -34.51504 1     12    North.Island     NA       \n",
       "13   172.9049 -34.55646 1     13    North.Island     NA       \n",
       "14   172.9553 -34.53303 1     14    North.Island     NA       \n",
       "15   172.9376 -34.57806 1     15    North.Island     NA       \n",
       "16   172.9760 -34.61227 1     16    North.Island     NA       \n",
       "17   172.9926 -34.56723 1     17    North.Island     NA       \n",
       "18   173.0218 -34.61404 1     18    North.Island     NA       \n",
       "19   173.0396 -34.65902 1     19    North.Island     NA       \n",
       "20   173.0676 -34.70044 1     20    North.Island     NA       \n",
       "21   173.1049 -34.73373 1     21    North.Island     NA       \n",
       "22   173.1490 -34.76616 1     22    North.Island     NA       \n",
       "23   173.1839 -34.80575 1     23    North.Island     NA       \n",
       "24   173.1358 -34.78232 1     24    North.Island     NA       \n",
       "25   173.1404 -34.82913 1     25    North.Island     NA       \n",
       "26   173.1822 -34.85973 1     26    North.Island     NA       \n",
       "27   173.2326 -34.88316 1     27    North.Island     NA       \n",
       "28   173.2917 -34.89393 1     28    North.Island     NA       \n",
       "29   173.2687 -34.93536 1     29    North.Island     NA       \n",
       "30   173.2338 -34.97673 1     30    North.Island     NA       \n",
       "<U+22EE>    <U+22EE> <U+22EE>  <U+22EE> <U+22EE> <U+22EE>         <U+22EE> \n",
       "1537 175.2025 -36.93332 15    1537  Ponui.Island     NA       \n",
       "1539 174.9166 -36.79999 16    1539  Motutapu.Island  NA       \n",
       "1540 174.9544 -36.76664 16    1540  Motutapu.Island  NA       \n",
       "1541 174.9166 -36.73055 16    1541  Motutapu.Island  NA       \n",
       "1542 174.8919 -36.77082 16    1542  Motutapu.Island  NA       \n",
       "1543 174.9166 -36.79999 16    1543  Motutapu.Island  NA       \n",
       "1545 174.9154 -40.84742 17    1545  Kapiti.Island    NA       \n",
       "1546 174.8765 -40.89246 17    1546  Kapiti.Island    NA       \n",
       "1547 174.9355 -40.87263 17    1547  Kapiti.Island    NA       \n",
       "1548 174.9154 -40.84742 17    1548  Kapiti.Island    NA       \n",
       "1550 173.1163 -41.25697 18    1550  Rabbit.Island    NA       \n",
       "1551 173.1713 -41.28573 18    1551  Rabbit.Island    NA       \n",
       "1552 173.1186 -41.25875 18    1552  Rabbit.Island    NA       \n",
       "1553 173.1163 -41.25697 18    1553  Rabbit.Island    NA       \n",
       "1555 167.5798 -46.87385 19    1555  Codfish.Island   NA       \n",
       "1556 167.5965 -46.91705 19    1556  Codfish.Island   NA       \n",
       "1557 167.6171 -46.87024 19    1557  Codfish.Island   NA       \n",
       "1558 167.5798 -46.87385 19    1558  Codfish.Island   NA       \n",
       "1560 168.5052 -46.82704 20    1560  Ruapuke.Island   NA       \n",
       "1561 168.4576 -46.86485 20    1561  Ruapuke.Island   NA       \n",
       "1562 168.5195 -46.84686 20    1562  Ruapuke.Island   NA       \n",
       "1563 168.5052 -46.82704 20    1563  Ruapuke.Island   NA       \n",
       "1565 166.5800 -46.31315 21    1565  Coal.Island      NA       \n",
       "1566 166.6282 -46.27895 21    1566  Coal.Island      NA       \n",
       "1567 166.5754 -46.30954 21    1567  Coal.Island      NA       \n",
       "1568 166.5800 -46.31315 21    1568  Coal.Island      NA       \n",
       "1570 166.4580 -45.93695 22    1570  Anchor.Island    NA       \n",
       "1571 166.5279 -45.93872 22    1571  Anchor.Island    NA       \n",
       "1572 166.4608 -45.93512 22    1572  Anchor.Island    NA       \n",
       "1573 166.4580 -45.93695 22    1573  Anchor.Island    NA       "
      ]
     },
     "metadata": {},
     "output_type": "display_data"
    }
   ],
   "source": [
    "nz <- map_data(\"nz\")\n",
    "nz"
   ]
  },
  {
   "cell_type": "code",
   "execution_count": 468,
   "id": "1e4eca27-8797-4bae-9c38-848fa395b570",
   "metadata": {},
   "outputs": [
    {
     "data": {
      "image/png": "[encoded data removed]",
      "text/plain": [
       "plot without title"
      ]
     },
     "metadata": {
      "image/png": {
       "height": 420,
       "width": 420
      }
     },
     "output_type": "display_data"
    }
   ],
   "source": [
    "ggplot(nz, aes(long, lat, group = group)) +\n",
    "    geom_polygon(fill = \"white\", color = \"black\")"
   ]
  },
  {
   "cell_type": "code",
   "execution_count": 469,
   "id": "3546079d-b739-40ae-b320-5c37861bbb58",
   "metadata": {},
   "outputs": [
    {
     "data": {
      "image/png": "[encoded data removed]",
      "text/plain": [
       "plot without title"
      ]
     },
     "metadata": {
      "image/png": {
       "height": 420,
       "width": 420
      }
     },
     "output_type": "display_data"
    }
   ],
   "source": [
    "ggplot(nz, aes(long, lat, group = group)) +\n",
    "    geom_polygon(fill = \"white\", color = \"black\") +\n",
    "    coord_quickmap()"
   ]
  },
  {
   "cell_type": "code",
   "execution_count": 470,
   "id": "c3f7e8a2-a743-403a-8c8a-53cbfcf7950b",
   "metadata": {},
   "outputs": [
    {
     "data": {
      "image/png": "[encoded data removed]",
      "text/plain": [
       "plot without title"
      ]
     },
     "metadata": {
      "image/png": {
       "height": 420,
       "width": 420
      }
     },
     "output_type": "display_data"
    }
   ],
   "source": [
    "bar <- ggplot(data = diamonds) +\n",
    "    geom_bar(mapping = aes(x = cut, fill = cut), show.legend = FALSE, width = 1) +\n",
    "    theme(aspect.ratio = 1) +\n",
    "    labs(x = NULL, y = NULL)\n",
    "bar + coord_flip()"
   ]
  },
  {
   "cell_type": "code",
   "execution_count": 310,
   "id": "ac860e3c-7cf3-4ab5-b2af-5ef2f294f3ba",
   "metadata": {},
   "outputs": [
    {
     "data": {
      "image/png": "[encoded data removed]",
      "text/plain": [
       "plot without title"
      ]
     },
     "metadata": {
      "image/png": {
       "height": 420,
       "width": 420
      }
     },
     "output_type": "display_data"
    }
   ],
   "source": [
    "bar + coord_polar()"
   ]
  },
  {
   "cell_type": "code",
   "execution_count": null,
   "id": "78618e19-24d6-46c3-80d1-a4b752874ec6",
   "metadata": {},
   "outputs": [],
   "source": [
    "library(nycflights13)\n",
    "library(tidyverse)"
   ]
  },
  {
   "cell_type": "code",
   "execution_count": null,
   "id": "de475687-664e-4b66-b40e-f91214384b59",
   "metadata": {},
   "outputs": [],
   "source": []
  }
 ],
 "metadata": {
  "kernelspec": {
   "display_name": "R",
   "language": "R",
   "name": "ir"
  },
  "language_info": {
   "codemirror_mode": "r",
   "file_extension": ".r",
   "mimetype": "text/x-r-source",
   "name": "R",
   "pygments_lexer": "r",
   "version": "4.1.1"
  }
 },
 "nbformat": 4,
 "nbformat_minor": 5
}
